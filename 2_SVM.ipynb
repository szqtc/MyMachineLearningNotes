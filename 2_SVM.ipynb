{
 "cells": [
  {
   "cell_type": "markdown",
   "metadata": {},
   "source": [
    "# Support Vecor Machine (SVM)\n",
    "<!--\n",
    "Author: Zhaoqiang SHEN\n",
    "Date: 2018/08/22\n",
    "Contact: szqtclx@gmail.com\n",
    "-->\n",
    "\n",
    "### SVM 算法特点\n",
    "优点：泛化（由具体的、个别的扩大为一般的，就是说：模型训练完后的新样本）错误率低，计算开销不大，结果易理解。  \n",
    "缺点：对参数调节和核函数的选择敏感，原始分类器不加修改仅适合于处理二分类问题。  \n",
    "使用数据类型：数值型和标称型数据。"
   ]
  },
  {
   "cell_type": "code",
   "execution_count": 1,
   "metadata": {},
   "outputs": [],
   "source": [
    "import copy\n",
    "import numpy as np\n",
    "from matplotlib import pyplot as plt\n",
    "%matplotlib inline\n",
    "\n",
    "from sklearn import svm"
   ]
  },
  {
   "cell_type": "markdown",
   "metadata": {},
   "source": [
    "## 线性核SVC\n",
    "\n",
    "### 硬间隔SVC\n",
    "对于一个线性可分的训练集，多个平面可以划分数据，只要它们满足：  \n",
    "${\\bf w}^T {\\bf x}_i + b \\geq +1$, for $y_i = +1$,  \n",
    "${\\bf w}^T {\\bf x}_i + b \\leq   -1$, for $y_i = -1$.\n",
    "\n",
    "距离平面最近的两类训练样本称为**支持向量**（让上面两式之一等号成立的点），两异类支持向量到平面距离的和称为**几何间隔**，它等于$2/\\|{\\bf w} \\|$。SVM希望在可以划分数据的平面中去找几何间隔最大者（也就是将最难分的点也尽量分得远一些）。  \n",
    "因此SVM的**基本型**写为，  \n",
    "优化目标：$\\min_{{\\bf w}, b} \\frac{1}{2} \\| {\\bf w} \\|^2$  \n",
    "s.t. $y_i ({\\bf w}^T {\\bf x}_i+b) \\geq 1$, for every $i=1,2,3, \\cdots, m.$\n",
    "\n",
    "利用拉格朗日乘子法，有$L({\\bf w}, b, {\\bf \\alpha}) = \\frac{1}{2} \\| {\\bf w} \\|^2 + \\sum_i \\alpha_i (1-y_i ({\\bf w}^T {\\bf x}_i+b))$。   \n",
    "当**强对偶性**成立时（Slater条件：对于凸函数，如果存在一个点使不等式约束严格成立，则满足强对偶性；对于非凸函数情况下通常不成立），主问题与对偶问题的解相等（否则后者小于前者），即$\\min_{{\\bf w}, b} \\max_{\\alpha_i} L({\\bf w}, b, {\\bf \\alpha}) = \\max_{\\alpha_i} \\min_{{\\bf w}, b} L({\\bf w}, b, {\\bf \\alpha})$，  \n",
    "其中**对偶问题**为  \n",
    "$RHS = \\boxed {\\max_{\\alpha} \\sum_{i=1}^m \\alpha_i - \\frac{1}{2} \\sum_i \\sum_j \\alpha_i \\alpha_j y_i y_j {\\bf x}_i^T {\\bf x}_j }$,  \n",
    "s.t. $\\boxed {\\sum_i \\alpha_i y_i = 0}$, and $\\boxed { \\alpha_i \\geq 0}$.\n",
    "\n",
    "强对偶同样导致KKT条件成立，  \n",
    "- stationarity: ${\\bf w}=\\sum_i \\alpha_i y_i {\\bf x}_i$,  \n",
    "- dual feasible: $\\alpha_i \\geq 0$,  \n",
    "- prime feasible: $y_i ({\\bf w}^T {\\bf x}_i+b) \\geq 1$, and   \n",
    "- complementary slackness: $\\alpha_i (1-y_i ({\\bf w}^T {\\bf x}_i+b)) = 0$.  \n",
    "\n",
    "从KKT条件上来看，对于不在最大间隔边界上的点，其满足$y_i f({\\bf x}_i)-1>0$，因此需要$\\alpha_i=0$，它们也就对参数没有影响。事实上SVM只与支持向量相关。\n",
    "\n",
    "### 软间隔SVC\n",
    "当不能线性可分时（即存在不满足$y_i ({\\bf w}^T {\\bf x}_i + b) \\geq 1$的样本点），我们希望不满足约束者越少越好。则优化目标改写为：  \n",
    "$\\min_{{\\bf w}, b} \\frac{1}{2} \\| {\\bf w} \\|^2 + C \\sum_{i=1}^m \\ell(y_i ({\\bf w}^T {\\bf x}_i + b) )$  \n",
    "其中，损失函数包括：\n",
    "- 0/1 损失函数：$\\ell_{0/1}(z) = H(-z) $\n",
    "- 合页(hinge)损失函数：$\\ell_{hinge}(z) = \\max(0, 1-z)$\n",
    "- 对数损失函数：$\\ell_{exp}(z) = \\exp(-z)$\n",
    "- 对率损失函数：$\\ell_{log}(z) = \\log_2(1+\\exp(-z))$\n",
    "\n",
    "对于合页损失函数，引入**松弛变量**$\\xi_i = \\ell_{hinge}(y_i ({\\bf w}^T {\\bf x}_i + b))$，则优化目标写为：  \n",
    "$\\min_{{\\bf w}, b, {\\bf \\xi}} \\frac{1}{2} \\| {\\bf w} \\|^2 + C \\sum_{i=1}^m \\xi_i$，  \n",
    "其中，$ \\xi_i \\geq 0$ and $\\xi_i \\geq 1-y_i ({\\bf w}^T {\\bf x}_i + b)$。\n",
    "\n",
    "得到拉格朗日函数：$L({\\bf w}, b, {\\bf \\xi}, {\\bf \\alpha}, {\\bf \\mu}) = \\frac{1}{2} \\| {\\bf w} \\|^2 + C\\sum_i \\xi_i + \\sum_i \\alpha_i (1-\\xi_i-y_i ({\\bf w}^T {\\bf x}_i+b)) - \\sum_i \\mu_i \\xi_i$。  \n",
    "它的对偶问题为：\n",
    "$\\max_{\\alpha} \\sum_{i=1}^m \\alpha_i - \\frac{1}{2} \\sum_i \\sum_j \\alpha_i \\alpha_j y_i y_j {\\bf x}_i^T {\\bf x}_j $,  \n",
    "s.t. $\\sum_i \\alpha_i y_i = 0$, and $\\boxed {0 \\leq \\alpha_i \\leq C}$.  \n",
    "硬间隔SVC是软间隔SVC的$C \\to \\infty$的一个特例，通过这么取使得前者不存在不满足$y_i ({\\bf w}^T {\\bf x}_i + b) \\geq 1$的样本点。\n",
    "\n",
    "因为强对偶，所以KKT条件成立：  \n",
    "- stationarity: ${\\bf w}=\\sum_i \\alpha_i y_i {\\bf x}_i$,\n",
    "- dual feasible: $\\alpha_i \\geq 0$, and $\\mu_i \\geq 0$,  \n",
    "- prime feasible: $1-\\xi_i - y_i ({\\bf w}^T {\\bf x}_i+b) \\leq 0$, and $-\\xi_i \\leq 0$,  \n",
    "- complementary slackness: $\\alpha_i (1-\\xi_i-y_i ({\\bf w}^T {\\bf x}_i+b))=0$, and $\\mu_i \\xi_i=0$.\n",
    "\n",
    "由KKT条件可知，\n",
    "1. 只有满足$1-\\xi_i=y_i ({\\bf w}^T {\\bf x}_i+b)$的向量（支持向量）对参数有影响（落在最大间隔边界及内部的点），即合页损失函数保持了SVM的稀疏性。\n",
    "2. 由于$\\alpha_i+\\mu_i=C$，如果某个点有$\\alpha_i = C$，则$\\mu_i=0$， $\\xi_i \\geq 0$，因此它可能落在最大间隔内部。如果$0 < \\alpha_i < C$，则$\\xi_i = 0$，它一定落在最大间隔边界上。"
   ]
  },
  {
   "cell_type": "code",
   "execution_count": 2,
   "metadata": {},
   "outputs": [
    {
     "data": {
      "text/plain": [
       "<matplotlib.legend.Legend at 0x7fea76e83198>"
      ]
     },
     "execution_count": 2,
     "metadata": {},
     "output_type": "execute_result"
    },
    {
     "data": {
      "image/png": "[encoded data removed]",
      "text/plain": [
       "<Figure size 432x288 with 1 Axes>"
      ]
     },
     "metadata": {},
     "output_type": "display_data"
    }
   ],
   "source": [
    "# Loss functions\n",
    "fg0, ax0 = plt.subplots()\n",
    "\n",
    "x = np.linspace(-2., 2., 300)\n",
    "ax0.plot(x, x<0., ls='-', label='0/1')\n",
    "ax0.plot(x, np.maximum(0., 1.-x), ls='--', label='hinge')\n",
    "ax0.plot(x, np.log2(1.+np.exp(-x)), ls=':', label='log')\n",
    "ax0.plot(x, np.exp(-x), ls='-.', label='exp')\n",
    "\n",
    "ax0.plot([0., 0.], [0., 3.], ls='--', c='0.7')\n",
    "ax0.set_ylim((0., 3.))\n",
    "ax0.legend()"
   ]
  },
  {
   "cell_type": "markdown",
   "metadata": {},
   "source": [
    "### 求解SVC\n",
    "\n",
    "上述对偶问题是二次规划问题，因此可以用常用的二次规划解法：椭球法(ellipsoid method)，内点法(interior method)，增广拉格朗日法(augmented Lagrangian)，梯度投影法(gradient projection)等。但这些方法运算规模正比于训练样本数，造成很大的运算开销。\n",
    "\n",
    "#### SMO (Sequential Minimal Optimization)\n",
    "SMO算法[(Platt98)](https://www.microsoft.com/en-us/research/wp-content/uploads/2016/02/tr-98-14.pdf)利用了SVC问题的特点使得求解更为高效：它每次选取一对参数$\\alpha_i$, $\\alpha_j$，因为有$\\sum_i \\alpha_i y_i = 0$，所以$\\alpha_i y_i + \\alpha_j y_j = c \\equiv -\\sum_{k \\neq i,j} \\alpha_k y_k$，消去对偶问题中的$\\alpha_j$，即可得到一个关于$\\alpha_i$的二次函数，这个函数的解易得。通过如此反复选取参数做二次规划，目标函数会逐渐增大。因为目标函数是凹的，反复迭代后参数会慢慢收敛。\n",
    "\n",
    "```\n",
    "SMO(X, y, C, tol)\n",
    "1  alpha = zeros(m)\n",
    "2  while KKT条件在tol程度以上有破坏:\n",
    "3      选取一对要更新的变量alpha1, alpha2\n",
    "4      解关于alpha1, alpha2对偶问题的对偶问题，并更新alpha向量\n",
    "5      更新w, b\n",
    "```\n",
    "\n",
    "下面是几点细节：\n",
    "- 关于求解$\\alpha_1$, $\\alpha_2$对偶问题：若假设$\\alpha'_1=\\alpha_1 + \\Delta \\alpha_1$，则易得\n",
    "$\\Delta \\alpha_1 = \\frac{1}{y_1 \\| {\\bf x}_1 - {\\bf x}_2\\|^2} \\left \\{ (y_1-y_2)\\left[1+\\frac{1}{y_1 y_2} \\right] + E_2 - E_1 \\right \\} \\overset{|y_i|=1}{=} \\frac{y_1 (E_2 - E_1)}{\\| {\\bf x}_1 - {\\bf x}_2 \\|^2} $，其中$E_i = y_{{\\rm pred},i} - y_i$。\n",
    "\n",
    "- 关于在软间隔SVC中更新$\\alpha_1$和$\\alpha_2$：\n",
    "    <img src=\"figures/smo1.png\" width=\"50%\" height=\"50%\" align=center />\n",
    "    当$y_1 \\neq y_2$时，$\\alpha'_1$取值下限：$L=\\max (0, \\alpha_1-\\alpha_2)$，取值上限为：$H=\\min (C, C+\\alpha_1-\\alpha_2)$。左图显示了$0 \\leq \\alpha'_1 \\leq C+\\alpha_1-\\alpha_2$。  \n",
    "    当$y_1 = y_2$时，$\\alpha'_1$取值下限：$L=\\max (0, \\alpha_1+\\alpha_2-C)$，取值上限为：$H=\\min (C, \\alpha_1+\\alpha_2)$。右图显示了$0 \\leq \\alpha'_1 \\leq \\alpha_1+\\alpha_2$。  \n",
    "\n",
    "- 关于求解b的值：支持向量满足$y ({\\bf w}^T{\\bf x}+b) = 1$。计算b时，我们考虑所有支持向量的贡献：$\\sum_{s \\in S} \\left [({\\bf w}^T {\\bf x}_s + b)  - 1/y_s \\right] = 0$。\n",
    "\n",
    "- 关于选取要更新的$\\alpha_1$和$\\alpha_2$：SMO算法依次选取$\\alpha_1$和$\\alpha_1$。$\\alpha_1$对应的点需要不满足KKT条件，先选择取非边界的点，否则遍历整个集合。$\\alpha_2$选择使两变量对应的$E_2 - E_1$最大。"
   ]
  },
  {
   "cell_type": "code",
   "execution_count": 3,
   "metadata": {},
   "outputs": [
    {
     "name": "stdout",
     "output_type": "stream",
     "text": [
      "3.542485\t1.977398\t-1\r",
      "\r\n",
      "3.018896\t2.556416\t-1\r",
      "\r\n",
      "7.551510\t-1.580030\t1\r",
      "\r\n",
      "2.114999\t-0.004466\t-1\r",
      "\r\n",
      "8.127113\t1.274372\t1\r",
      "\r\n",
      "7.108772\t-0.986906\t1\r",
      "\r\n",
      "8.610639\t2.046708\t1\r",
      "\r\n",
      "2.326297\t0.265213\t-1\r",
      "\r\n",
      "3.634009\t1.730537\t-1\r",
      "\r\n",
      "0.341367\t-0.894998\t-1\r",
      "\r\n"
     ]
    }
   ],
   "source": [
    "!head datasets/MLiA/Ch06/testSet.txt"
   ]
  },
  {
   "cell_type": "code",
   "execution_count": 4,
   "metadata": {},
   "outputs": [],
   "source": [
    "# 一组线性可分的数据\n",
    "input_data = np.loadtxt('datasets/MLiA/Ch06/testSet.txt')\n",
    "X1 = input_data[:, :-1]\n",
    "y1 = input_data[:, -1]"
   ]
  },
  {
   "cell_type": "code",
   "execution_count": 5,
   "metadata": {},
   "outputs": [
    {
     "data": {
      "text/plain": [
       "[<matplotlib.lines.Line2D at 0x7fea76452ac8>]"
      ]
     },
     "execution_count": 5,
     "metadata": {},
     "output_type": "execute_result"
    },
    {
     "data": {
      "image/png": "[encoded data removed]",
      "text/plain": [
       "<Figure size 432x288 with 1 Axes>"
      ]
     },
     "metadata": {},
     "output_type": "display_data"
    }
   ],
   "source": [
    "fg1, ax1 = plt.subplots()\n",
    "ax1.plot(X1[y1>0, 0], X1[y1>0, 1], marker='o', ms=5, ls='None')\n",
    "ax1.plot(X1[y1<0, 0], X1[y1<0, 1], marker='x', ms=5, ls='None')"
   ]
  },
  {
   "cell_type": "code",
   "execution_count": 6,
   "metadata": {},
   "outputs": [],
   "source": [
    "\"\"\"\n",
    "SMO算法\n",
    "\n",
    "参考：\n",
    "1. 机器学习实战, pp.94-105\n",
    "2. 统计学习方法, pp.128-131\n",
    "3. Platt1998\n",
    "\"\"\"\n",
    "\n",
    "inf = float('inf')\n",
    "\n",
    "class linearSVC:\n",
    "    \"\"\"\n",
    "    Linear SVC\n",
    "    \"\"\"\n",
    "    \n",
    "    def __init__(self, C=1., tol=1e-3):\n",
    "        \"\"\"\n",
    "        Parameters\n",
    "        -------------\n",
    "        C : scalar, >0.\n",
    "            constant to control the regularization\n",
    "        tol : scalar, >0, default: 1e-3\n",
    "            tolerence of the fitting\n",
    "        \"\"\"\n",
    "        assert C > 0. and tol > 0.\n",
    "        self.C_, self.tol_ = C, tol\n",
    "        self.w_, self.b_ = None, 0.\n",
    "        \n",
    "    def __call__(self, X):\n",
    "        \"\"\"\n",
    "        Linear SVC model\n",
    "        \n",
    "        Parameters\n",
    "        -------------\n",
    "        X : (m', n) array\n",
    "            input features\n",
    "\n",
    "        Returns\n",
    "        ---------\n",
    "        y_pred : (m', 1)\n",
    "            predicted labels of input features\n",
    "        \"\"\"\n",
    "        return self.predict(X)\n",
    "        \n",
    "    def weight(self, alpha, X_data, y_data):\n",
    "        \"\"\"\n",
    "        Parameters\n",
    "        -------------\n",
    "        alpha : (m, 1) array, 0<=alpha<=C\n",
    "            dual parameters\n",
    "        X_data : (m, n) array\n",
    "            training data\n",
    "        y_data : (m, 1) array, =+/-1\n",
    "            the label of training data\n",
    "\n",
    "        Returns\n",
    "        ---------\n",
    "        w: (n, 1) array\n",
    "            weight vector\n",
    "        \"\"\"\n",
    "        self.w_ = (alpha*y_data*X_data).sum(axis=0, keepdims=True).T\n",
    "        return self.w_\n",
    "\n",
    "    def predict(self, X):\n",
    "        \"\"\"\n",
    "        Linear SVC model\n",
    "        \n",
    "        Parameters\n",
    "        -------------\n",
    "        X : (m', n) array\n",
    "            input features\n",
    "\n",
    "        Returns\n",
    "        ---------\n",
    "        y_pred : (m', 1)\n",
    "            predicted labels of input features\n",
    "        \"\"\"\n",
    "        assert self.w_ is not None\n",
    "        return X@self.w_ + self.b_ # np.dot(X, w) + b\n",
    "\n",
    "    @staticmethod\n",
    "    def support_vector_indices(alpha):\n",
    "        \"\"\"\n",
    "        Find the indices of support vectors, which satisfies\n",
    "        \\alpha_i != 0. due to the KKT condition.\n",
    "\n",
    "        Parameters\n",
    "        -------------\n",
    "        alpha : (m, 1) array, 0<=alpha<=C\n",
    "            dual parameters\n",
    "\n",
    "        Returns\n",
    "        ---------\n",
    "        indices : array of non-negative integers\n",
    "            the index of support vectors in the data\n",
    "        \"\"\"\n",
    "        return np.nonzero(alpha>1.e-7)[0]\n",
    "    \n",
    "    def bias(self, alpha, X_data, y_data):\n",
    "        \"\"\"\n",
    "        Calculate the bias and weight terms of the model.\n",
    "\n",
    "        Parameters\n",
    "        -------------\n",
    "        alpha : (m, 1) array, 0<=alpha<=C\n",
    "            dual parameters\n",
    "        X_data : (m, n) array\n",
    "            training data\n",
    "        y_data : (m, 1) array, =+/-1\n",
    "            the label of training data\n",
    "\n",
    "        Returns\n",
    "        ---------\n",
    "        b : scalar\n",
    "            the bias/interception of linear model\n",
    "        \"\"\"\n",
    "        assert self.w_ is not None\n",
    "        idxs = self.support_vector_indices(alpha)\n",
    "        X_sv, y_sv = X_data[idxs, :], y_data[idxs, :]\n",
    "        self.b_ = sum(1./y_sv - X_sv@self.w_) / len(idxs)\n",
    "        return self.b_\n",
    "    \n",
    "    @staticmethod\n",
    "    def eta(xi, xj):\n",
    "        \"\"\"\n",
    "        Calculate eta=|| \\Phi(xi) - \\Phi(xj) ||^2\n",
    "        \"\"\"\n",
    "        return ((xi-xj)**2).sum() # for kenerlized SVM, eta=Kii+Kjj-2*Kij\n",
    "    \n",
    "    def update_alpha(self, alpha, i, j, X_data, y_data):\n",
    "        \"\"\"\n",
    "        Update the dual parameters based on SMO algorithm\n",
    "\n",
    "        Parameters\n",
    "        -------------\n",
    "        alpha : (m, 1) array, >=0.\n",
    "            dual parameters\n",
    "        i, j : integer, >=0, i != j\n",
    "            the term of alpha needed to be update\n",
    "        X_data : (m, n) array\n",
    "            training data\n",
    "        y_data : (m, 1) array, =+/-1\n",
    "            the label of training data\n",
    "\n",
    "        Returns\n",
    "        ---------\n",
    "        is_updated : bool\n",
    "            whether the update is performed\n",
    "        \"\"\"\n",
    "        if i<0 or j<0 or i==j:\n",
    "            return False\n",
    "\n",
    "        # calculate errors for i, j\n",
    "        xi, yi = X_data[i:i+1, :], y_data[i, 0] # xi in (1, n), yi is scalar\n",
    "        yi_pred = self.predict(xi) # b is canceled out, so here we just use b=0\n",
    "        Ei = yi_pred - yi\n",
    "\n",
    "        xj, yj = X_data[j:j+1, :], y_data[j, 0]\n",
    "        yj_pred = self.predict(xj)\n",
    "        Ej = yj_pred - yj\n",
    "\n",
    "        # Compute L, H\n",
    "        alpha_i, alpha_j = alpha[i, 0], alpha[j, 0]\n",
    "        if yi*yj < 0:\n",
    "            L = max(0., alpha_i-alpha_j)\n",
    "            H = min(self.C_, self.C_+alpha_i-alpha_j)\n",
    "        else:\n",
    "            L = max(0., alpha_i+alpha_j-self.C_)\n",
    "            H = min(self.C_, alpha_i+alpha_j)\n",
    "        if L >= H:\n",
    "            #print(\"[skipped] L >= H\")\n",
    "            return False\n",
    "\n",
    "        # compute eta\n",
    "        eta = self.eta(xi, xj)\n",
    "        if eta <= 0.:\n",
    "            #print('[skipped] eta <= 0')\n",
    "            return False\n",
    "        \n",
    "        # new alphas\n",
    "        dalpha_i = yi/eta * (Ej - Ei)\n",
    "        alpha_i_new = np.clip(alpha_i+dalpha_i, a_min=L, a_max=H) # L <= alpha_new <= H\n",
    "        if abs(alpha_i_new-alpha_i) <= 1e-6*(alpha_i_new + alpha_i + 1e-6):\n",
    "            #print('[skipped] not enough update for alpha')\n",
    "            return False\n",
    "        alpha_j_new = (alpha_i-alpha_i_new)*yi*yj + alpha_j # a1y1 + a2y2 = a'1y1 + a'2y2, |yi|=1\n",
    "\n",
    "        # update parameters\n",
    "        alpha[i] = alpha_i_new\n",
    "        alpha[j] = alpha_j_new\n",
    "        self.weight(alpha, X_data, y_data)\n",
    "        self.bias(alpha, X_data, y_data)\n",
    "        return True\n",
    "    \n",
    "    def examine(self, i, alpha, X_data, y_data):\n",
    "        \"\"\"\n",
    "        Do one-step fitting given the first index\n",
    "        \n",
    "        Parameters\n",
    "        -------------\n",
    "        i : integer, >=0\n",
    "            the first index\n",
    "        alpha : (m, 1) array, >=0.\n",
    "            dual parameters\n",
    "        X_data : (m, n) array\n",
    "            training data\n",
    "        y_data : (m, 1) array, =+/-1\n",
    "            the label of training data\n",
    "            \n",
    "        Returns\n",
    "        ---------\n",
    "        is_fitted : bool\n",
    "        \"\"\"\n",
    "        m = X_data.shape[0]\n",
    "        y_pred = self.predict(X_data)\n",
    "        \n",
    "        ai= alpha[i, 0]\n",
    "        ri = y_data[i, 0]*y_pred[i, 0]-1.\n",
    "        \n",
    "        # when KKT condition does not satisfy\n",
    "        # KKT: 0<a<C, y*y_pred=1; a=0, y*y_pred>=1; a=C, y*y_pred<=1\n",
    "        if (ai<self.C_ and ri<-self.tol_) or (ai>0 and ri>self.tol_):\n",
    "            # Heuristic:\n",
    "            # 1. nonbound points are more likely to be updated, while those\n",
    "            #    at boundary are kept at the same position\n",
    "            # 2. dalpha is larger when |E_i - E_j| is larger\n",
    "            nonbds = set(np.nonzero((alpha>0) & (alpha<self.C_))[0])\n",
    "            if nonbds:\n",
    "                errs = y_pred-y_data\n",
    "                j = np.abs(errs-errs[i]).argmax()\n",
    "                if self.update_alpha(alpha, i, j, X_data, y_data):\n",
    "                    return True\n",
    "\n",
    "            for j in nonbds:\n",
    "                if self.update_alpha(alpha, i, j, X_data, y_data):\n",
    "                    return True\n",
    "                \n",
    "            for j in range(m):\n",
    "                if not j in nonbds and self.update_alpha(alpha, i, j, X_data, y_data):\n",
    "                    return True\n",
    "        return False\n",
    "\n",
    "    def fit(self, X_data, y_data):\n",
    "        \"\"\"\n",
    "        Fit the linear SVC model with SMO algorithm\n",
    "        \n",
    "        Parameters\n",
    "        -------------\n",
    "        X_data : (m, n) array\n",
    "            training data\n",
    "        y_data : (m, 1) array, =+/-1\n",
    "            the label of training data\n",
    "            \n",
    "        Returns\n",
    "        ---------\n",
    "        alpha : (m, 1) array, 0<=alpha<=C\n",
    "            dual parameters\n",
    "        \"\"\"\n",
    "        m, n = X_data.shape\n",
    "        self.w_ = np.zeros((n, 1))\n",
    "        self.b_ = 0.\n",
    "        alpha = np.zeros((m, 1))\n",
    "\n",
    "        y_data = y_data.reshape((-1, 1))\n",
    "        \n",
    "        it = 0\n",
    "        num_change = 0\n",
    "        examine_all = True\n",
    "        while (num_change>0 or examine_all):\n",
    "            if examine_all:\n",
    "                arridx = range(m) # find the points break KKT conditions\n",
    "            else:\n",
    "                arridx = np.nonzero((alpha>0)&(alpha<self.C_))[0]\n",
    "\n",
    "            num_change = 0 # the number of pairs of changed alphas in this pass    \n",
    "            for i in range(m):\n",
    "                num_change += self.examine(i, alpha, X_data, y_data)\n",
    "\n",
    "            if examine_all:\n",
    "                examine_all = False\n",
    "            elif num_change == 0:\n",
    "                examine_all = True\n",
    "\n",
    "            print('iter={}, loss={}'.format(it, self.loss2(alpha, X_data, y_data)))\n",
    "            it += 1\n",
    "        return alpha\n",
    "    \n",
    "    @staticmethod\n",
    "    def loss2(alpha, X_data, y_data):\n",
    "        \"\"\"\n",
    "        Parameters\n",
    "        -------------\n",
    "        alpha : (m, 1) array, >=0.\n",
    "            dual parameters\n",
    "        X_data : (m, n) array\n",
    "            training data\n",
    "        y_data : (m, 1) array, =+/-1\n",
    "            the label of training data\n",
    "            \n",
    "        Returns\n",
    "        ---------\n",
    "        loss : scalar\n",
    "        \"\"\"\n",
    "        ws = alpha*y_data*X_data\n",
    "        return alpha.sum() - (ws.T@ws).sum()\n",
    "    \n",
    "    def loss(self, X_data, y_data):\n",
    "        \"\"\"\n",
    "        Parameters\n",
    "        -------------\n",
    "        X_data : (m, n) array\n",
    "            training data\n",
    "        y_data : (m, 1) array, =+/-1\n",
    "            the label of training data\n",
    "\n",
    "        Returns\n",
    "        ---------\n",
    "        loss : scalar\n",
    "        \"\"\"\n",
    "        y_pred = self.predict(X_data)\n",
    "        return 0.5*(self.w_**2).sum() + self.C_*np.maximum(0., 1.-y_data*y_pred).sum()"
   ]
  },
  {
   "cell_type": "code",
   "execution_count": 7,
   "metadata": {},
   "outputs": [
    {
     "name": "stdout",
     "output_type": "stream",
     "text": [
      "iter=0, loss=-0.39146757875752386\n",
      "iter=1, loss=-1.0502367724389323\n",
      "iter=2, loss=-1.3916067871948512\n",
      "iter=3, loss=-1.8192752476547855\n",
      "iter=4, loss=-2.034726726231521\n",
      "iter=5, loss=-2.2178503117704507\n",
      "iter=6, loss=-2.3788282840236974\n",
      "iter=7, loss=-2.526011286821447\n",
      "iter=8, loss=-2.665297897605459\n",
      "iter=9, loss=-2.80065670377048\n",
      "iter=10, loss=-2.934689049168487\n",
      "iter=11, loss=-3.069074939158446\n",
      "iter=12, loss=-3.2048898823975915\n",
      "iter=13, loss=-3.342818747088997\n",
      "iter=14, loss=-3.4832962108515426\n",
      "iter=15, loss=-3.626597580864691\n",
      "iter=16, loss=-3.772896986933361\n",
      "iter=17, loss=-3.92230446280991\n",
      "iter=18, loss=-4.07488949391425\n",
      "iter=19, loss=-4.230695938286101\n",
      "iter=20, loss=-4.38975146776442\n",
      "iter=21, loss=-4.552073536107161\n",
      "iter=22, loss=-4.717673149089623\n",
      "iter=23, loss=-4.88655724489043\n",
      "iter=24, loss=-5.058730196433915\n",
      "iter=25, loss=-5.234194759256813\n",
      "iter=26, loss=-5.412952669371459\n",
      "iter=27, loss=-5.595005020269355\n",
      "iter=28, loss=-5.7803525005981085\n",
      "iter=29, loss=-5.968995543968777\n",
      "iter=30, loss=-6.16093442335935\n",
      "iter=31, loss=-6.356169310592734\n",
      "iter=32, loss=-6.546245435856215\n",
      "iter=33, loss=-6.593258159448313\n",
      "iter=34, loss=-6.601378777628113\n",
      "iter=35, loss=-6.611581000098604\n",
      "iter=36, loss=-6.623141613681833\n",
      "iter=37, loss=-6.635675441423284\n",
      "iter=38, loss=-6.648977265876118\n",
      "iter=39, loss=-6.662937729372479\n",
      "iter=40, loss=-6.677498551398593\n",
      "iter=41, loss=-6.692628671014204\n",
      "iter=42, loss=-6.708311533901952\n",
      "iter=43, loss=-6.724538317244535\n",
      "iter=44, loss=-6.741304318860186\n",
      "iter=45, loss=-6.749317332188074\n",
      "iter=46, loss=-6.75229613906422\n",
      "iter=47, loss=-6.752040561731127\n",
      "iter=48, loss=-6.752036365621832\n",
      "iter=49, loss=-6.752050033766087\n",
      "iter=50, loss=-6.752050033766087\n",
      "iter=51, loss=-6.752050033766087\n"
     ]
    }
   ],
   "source": [
    "# wrap up all the components\n",
    "mysvc = linearSVC(C=1., tol=1e-6)\n",
    "alpha = mysvc.fit(X_data=X1, y_data=y1)"
   ]
  },
  {
   "cell_type": "code",
   "execution_count": 8,
   "metadata": {},
   "outputs": [
    {
     "data": {
      "text/plain": [
       "(array([[ 0.81439535],\n",
       "        [-0.27249991]]), array([-3.83784491]))"
      ]
     },
     "execution_count": 8,
     "metadata": {},
     "output_type": "execute_result"
    }
   ],
   "source": [
    "mysvc.w_, mysvc.b_"
   ]
  },
  {
   "cell_type": "code",
   "execution_count": 9,
   "metadata": {},
   "outputs": [
    {
     "name": "stdout",
     "output_type": "stream",
     "text": [
      "Support Vectors:\n",
      "[[ 4.658191  3.507396]\n",
      " [ 3.457096 -0.082216]\n",
      " [ 6.080573  0.418886]]\n",
      "y*alpha:\n",
      "[-0.12738994 -0.2413584   0.36874833]\n"
     ]
    },
    {
     "data": {
      "text/plain": [
       "[<matplotlib.lines.Line2D at 0x7fea763e7be0>]"
      ]
     },
     "execution_count": 9,
     "metadata": {},
     "output_type": "execute_result"
    }
   ],
   "source": [
    "idxs = mysvc.support_vector_indices(alpha)\n",
    "xs = X1[idxs, :]\n",
    "print('Support Vectors:')\n",
    "print(xs)\n",
    "print('y*alpha:')\n",
    "print(y1[idxs]*alpha[idxs, 0])\n",
    "ax1.plot(xs[:, 0], xs[:, 1], ls='None', marker='*', label='support vectors', c='C4')"
   ]
  },
  {
   "cell_type": "code",
   "execution_count": 10,
   "metadata": {},
   "outputs": [
    {
     "data": {
      "image/png": "[encoded data removed]",
      "text/plain": [
       "<Figure size 432x288 with 1 Axes>"
      ]
     },
     "execution_count": 10,
     "metadata": {},
     "output_type": "execute_result"
    }
   ],
   "source": [
    "x_ = np.array([0., 10.])\n",
    "y_ = -(mysvc.b_+ mysvc.w_[0, 0]*x_)/mysvc.w_[1, 0]\n",
    "y1_ = -(mysvc.b_-1+ mysvc.w_[0, 0]*x_)/mysvc.w_[1, 0]\n",
    "y2_ = -(mysvc.b_+1+ mysvc.w_[0, 0]*x_)/mysvc.w_[1, 0]\n",
    "ax1.plot(x_, y_, ls='-', c='C2', label='mysvc')\n",
    "ax1.plot(x_, y1_, ls=':', c='C2')\n",
    "ax1.plot(x_, y2_, ls=':', c='C2')\n",
    "\n",
    "ax1.set_ylim((-6, 5))\n",
    "ax1.legend()\n",
    "fg1"
   ]
  },
  {
   "cell_type": "markdown",
   "metadata": {},
   "source": [
    "#### sklearn\n",
    "`scikit-learn`中提供了`libsvm`和`liblinear`两个接口用来求解线性SVC问题。前者使用了二次规划方法，时间复杂度在$O(n\\,m^2)$到$O(n \\, m^3)$之间；而后者专门解决线性SVM问题，时间复杂度为$O(m)$[(scikit-learn.org)](http://scikit-learn.org/stable/modules/svm.html#complexity)。"
   ]
  },
  {
   "cell_type": "code",
   "execution_count": 16,
   "metadata": {},
   "outputs": [
    {
     "name": "stdout",
     "output_type": "stream",
     "text": [
      "[[ 0.48886972 -0.23302279]] [-2.45984863]\n"
     ]
    }
   ],
   "source": [
    "svc = svm.LinearSVC(C=1., loss='hinge') # liblinear\n",
    "svc.fit(X1, y1)\n",
    "print(svc.coef_, svc.intercept_) # w1, w2, b # excuse me?!"
   ]
  },
  {
   "cell_type": "code",
   "execution_count": 12,
   "metadata": {},
   "outputs": [
    {
     "name": "stdout",
     "output_type": "stream",
     "text": [
      "[[ 0.81444269 -0.27274371]] [-3.83775658]\n"
     ]
    }
   ],
   "source": [
    "svc2 = svm.SVC(kernel='linear') # libsvm\n",
    "svc2.fit(X1, y1)\n",
    "print(svc2.coef_, svc2.intercept_) # w1, w2, b"
   ]
  },
  {
   "cell_type": "code",
   "execution_count": 13,
   "metadata": {},
   "outputs": [
    {
     "data": {
      "text/plain": [
       "array([[ 4.658191,  3.507396],\n",
       "       [ 3.457096, -0.082216],\n",
       "       [ 6.080573,  0.418886]])"
      ]
     },
     "execution_count": 13,
     "metadata": {},
     "output_type": "execute_result"
    }
   ],
   "source": [
    "svc2.support_vectors_"
   ]
  },
  {
   "cell_type": "code",
   "execution_count": 14,
   "metadata": {},
   "outputs": [
    {
     "data": {
      "text/plain": [
       "array([[-0.12746518, -0.24133564,  0.36880082]])"
      ]
     },
     "execution_count": 14,
     "metadata": {},
     "output_type": "execute_result"
    }
   ],
   "source": [
    "svc2.dual_coef_"
   ]
  },
  {
   "cell_type": "code",
   "execution_count": 15,
   "metadata": {},
   "outputs": [
    {
     "data": {
      "image/png": "[encoded data removed]",
      "text/plain": [
       "<Figure size 432x288 with 1 Axes>"
      ]
     },
     "execution_count": 15,
     "metadata": {},
     "output_type": "execute_result"
    }
   ],
   "source": [
    "y_ = -(svc2.intercept_+svc2.coef_[0, 0]*x_)/svc2.coef_[0, 1]\n",
    "y1_ = -(svc2.intercept_-1.+svc2.coef_[0, 0]*x_)/svc2.coef_[0, 1]\n",
    "y2_ = -(svc2.intercept_+1.+svc2.coef_[0, 0]*x_)/svc2.coef_[0, 1]\n",
    "ax1.plot(x_, y_, ls='--', c='C3', label='sklearn')\n",
    "ax1.plot(x_, y1_, ls=':', c='C3')\n",
    "ax1.plot(x_, y2_, ls=':', c='C3')\n",
    "ax1.set_ylim((-6, 5))\n",
    "ax1.legend()\n",
    "fg1"
   ]
  },
  {
   "cell_type": "markdown",
   "metadata": {},
   "source": [
    "## 核技巧\n",
    "如在[线性回归](1_LinearRegression.ipynb#核技巧)中所述：通过使用核函数，我们隐式的在高维特征空间中做线性划分。"
   ]
  },
  {
   "cell_type": "code",
   "execution_count": null,
   "metadata": {},
   "outputs": [],
   "source": []
  },
  {
   "cell_type": "markdown",
   "metadata": {},
   "source": [
    "## SVR"
   ]
  },
  {
   "cell_type": "code",
   "execution_count": null,
   "metadata": {},
   "outputs": [],
   "source": []
  }
 ],
 "metadata": {
  "kernelspec": {
   "display_name": "Python [conda env:tensorflow]",
   "language": "python",
   "name": "conda-env-tensorflow-py"
  },
  "language_info": {
   "codemirror_mode": {
    "name": "ipython",
    "version": 3
   },
   "file_extension": ".py",
   "mimetype": "text/x-python",
   "name": "python",
   "nbconvert_exporter": "python",
   "pygments_lexer": "ipython3",
   "version": "3.6.5"
  }
 },
 "nbformat": 4,
 "nbformat_minor": 2
}

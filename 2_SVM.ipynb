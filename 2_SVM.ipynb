{
 "cells": [
  {
   "cell_type": "markdown",
   "metadata": {},
   "source": [
    "# Support Vecor Machine (SVM)\n",
    "<!--\n",
    "Author: Zhaoqiang SHEN\n",
    "Date: 2018/08/22\n",
    "Contact: szqtclx@gmail.com\n",
    "-->\n",
    "\n",
    "### SVM 算法特点\n",
    "优点：泛化（由具体的、个别的扩大为一般的，就是说：模型训练完后的新样本）错误率低，计算开销不大，结果易理解。  \n",
    "缺点：对参数调节和核函数的选择敏感，原始分类器不加修改仅适合于处理二分类问题。  \n",
    "使用数据类型：数值型和标称型数据。"
   ]
  },
  {
   "cell_type": "code",
   "execution_count": 1,
   "metadata": {},
   "outputs": [],
   "source": [
    "import copy\n",
    "import numpy as np\n",
    "from matplotlib import pyplot as plt\n",
    "%matplotlib inline\n",
    "\n",
    "from sklearn import svm"
   ]
  },
  {
   "cell_type": "markdown",
   "metadata": {},
   "source": [
    "## 线性核SVC\n",
    "\n",
    "### 硬间隔SVC\n",
    "对于一个线性可分的训练集，多个平面可以划分数据，只要它们满足：  \n",
    "${\\bf w}^T {\\bf x}_i + b \\geq +1$, for $y_i = +1$,  \n",
    "${\\bf w}^T {\\bf x}_i + b \\leq   -1$, for $y_i = -1$.\n",
    "\n",
    "距离平面最近的两类训练样本称为**支持向量**（让上面两式之一等号成立的点），两异类支持向量到平面距离的和称为**几何间隔**，它等于$2/\\|{\\bf w} \\|$。SVM希望在可以划分数据的平面中去找几何间隔最大者（也就是将最难分的点也尽量分得远一些）。  \n",
    "因此SVM的**基本型**写为，  \n",
    "优化目标：$\\min_{{\\bf w}, b} \\frac{1}{2} \\| {\\bf w} \\|^2$  \n",
    "s.t. $y_i ({\\bf w}^T {\\bf x}_i+b) \\geq 1$, for every $i=1,2,3, \\cdots, m.$\n",
    "\n",
    "利用拉格朗日乘子法，有$L({\\bf w}, b, {\\bf \\alpha}) = \\frac{1}{2} \\| {\\bf w} \\|^2 + \\sum_i \\alpha_i (1-y_i ({\\bf w}^T {\\bf x}_i+b))$。   \n",
    "当**强对偶性**成立时（Slater条件：对于凸函数，如果存在一个点使不等式约束严格成立，则满足强对偶性；对于非凸函数情况下通常不成立），主问题与对偶问题的解相等（否则后者小于前者），即$\\min_{{\\bf w}, b} \\max_{\\alpha_i} L({\\bf w}, b, {\\bf \\alpha}) = \\max_{\\alpha_i} \\min_{{\\bf w}, b} L({\\bf w}, b, {\\bf \\alpha})$，  \n",
    "其中**对偶问题**为  \n",
    "$RHS = \\boxed {\\max_{\\alpha} \\sum_{i=1}^m \\alpha_i - \\frac{1}{2} \\sum_i \\sum_j \\alpha_i \\alpha_j y_i y_j {\\bf x}_i^T {\\bf x}_j }$,  \n",
    "s.t. $\\boxed {\\sum_i \\alpha_i y_i = 0}$, and $\\boxed { \\alpha_i \\geq 0}$.\n",
    "\n",
    "强对偶同样导致KKT条件成立，  \n",
    "- stationarity: ${\\bf w}=\\sum_i \\alpha_i y_i {\\bf x}_i$,  \n",
    "- dual feasible: $\\alpha_i \\geq 0$,  \n",
    "- prime feasible: $y_i ({\\bf w}^T {\\bf x}_i+b) \\geq 1$, and   \n",
    "- complementary slackness: $\\alpha_i (1-y_i ({\\bf w}^T {\\bf x}_i+b)) = 0$.  \n",
    "\n",
    "从KKT条件上来看，对于不在最大间隔边界上的点，其满足$y_i f({\\bf x}_i)-1>0$，因此需要$\\alpha_i=0$，它们也就对参数没有影响。事实上SVM只与支持向量相关。\n",
    "\n",
    "### 软间隔SVC\n",
    "当不能线性可分时（即存在不满足$y_i ({\\bf w}^T {\\bf x}_i + b) \\geq 1$的样本点），我们希望不满足约束者越少越好。则优化目标改写为：  \n",
    "$\\min_{{\\bf w}, b} \\frac{1}{2} \\| {\\bf w} \\|^2 + C \\sum_{i=1}^m \\ell(y_i ({\\bf w}^T {\\bf x}_i + b) )$  \n",
    "其中，损失函数包括：\n",
    "- 0/1 损失函数：$\\ell_{0/1}(z) = H(-z) $\n",
    "- 合页(hinge)损失函数：$\\ell_{hinge}(z) = \\max(0, 1-z)$\n",
    "- 对数损失函数：$\\ell_{exp}(z) = \\exp(-z)$\n",
    "- 对率损失函数：$\\ell_{log}(z) = \\log_2(1+\\exp(-z))$\n",
    "\n",
    "对于合页损失函数，引入**松弛变量**$\\xi_i = \\ell_{hinge}(y_i ({\\bf w}^T {\\bf x}_i + b))$，则优化目标写为：  \n",
    "$\\min_{{\\bf w}, b, {\\bf \\xi}} \\frac{1}{2} \\| {\\bf w} \\|^2 + C \\sum_{i=1}^m \\xi_i$，  \n",
    "其中，$ \\xi_i \\geq 0$ and $\\xi_i \\geq 1-y_i ({\\bf w}^T {\\bf x}_i + b)$。\n",
    "\n",
    "得到拉格朗日函数：$L({\\bf w}, b, {\\bf \\xi}, {\\bf \\alpha}, {\\bf \\mu}) = \\frac{1}{2} \\| {\\bf w} \\|^2 + C\\sum_i \\xi_i + \\sum_i \\alpha_i (1-\\xi_i-y_i ({\\bf w}^T {\\bf x}_i+b)) - \\sum_i \\mu_i \\xi_i$。  \n",
    "它的对偶问题为：\n",
    "$\\max_{\\alpha} \\sum_{i=1}^m \\alpha_i - \\frac{1}{2} \\sum_i \\sum_j \\alpha_i \\alpha_j y_i y_j {\\bf x}_i^T {\\bf x}_j $,  \n",
    "s.t. $\\sum_i \\alpha_i y_i = 0$, and $\\boxed {0 \\leq \\alpha_i \\leq C}$.  \n",
    "\n",
    "因为强对偶，所以KKT条件成立：  \n",
    "- stationarity: ${\\bf w}=\\sum_i \\alpha_i y_i {\\bf x}_i$,\n",
    "- dual feasible: $\\alpha_i \\geq 0$, and $\\mu_i \\geq 0$,  \n",
    "- prime feasible: $1-\\xi_i - y_i ({\\bf w}^T {\\bf x}_i+b) \\leq 0$, and $-\\xi_i \\leq 0$,  \n",
    "- complementary slackness: $\\alpha_i (1-\\xi_i-y_i ({\\bf w}^T {\\bf x}_i+b))=0$, and $\\mu_i \\xi_i=0$.\n",
    "\n",
    "由KKT条件可知，满足$1-\\xi_i=y_i ({\\bf w}^T {\\bf x}_i+b)$的向量（支持向量）对参数有影响，也就是说合页损失函数保持了SVM的稀疏性。  \n",
    "另外由于$\\alpha_i+\\mu_i=C$，如果某个点有$\\alpha_i = C$，则$\\mu_i=0$， $\\xi_i > 0$，因此它落在最大间隔内部。"
   ]
  },
  {
   "cell_type": "code",
   "execution_count": 2,
   "metadata": {},
   "outputs": [
    {
     "data": {
      "text/plain": [
       "<matplotlib.legend.Legend at 0x7f8cdbd60208>"
      ]
     },
     "execution_count": 2,
     "metadata": {},
     "output_type": "execute_result"
    },
    {
     "data": {
      "image/png": "[encoded data removed]",
      "text/plain": [
       "<Figure size 432x288 with 1 Axes>"
      ]
     },
     "metadata": {},
     "output_type": "display_data"
    }
   ],
   "source": [
    "# Loss functions\n",
    "fg0 = plt.figure()\n",
    "ax0 = fg0.add_subplot(111)\n",
    "\n",
    "x = np.linspace(-2., 2., 300)\n",
    "ax0.plot(x, x<0., ls='-', label='0/1')\n",
    "ax0.plot(x, np.maximum(0., 1.-x), ls='--', label='hinge')\n",
    "ax0.plot(x, np.log2(1.+np.exp(-x)), ls=':', label='log')\n",
    "ax0.plot(x, np.exp(-x), ls='-.', label='exp')\n",
    "\n",
    "ax0.plot([0., 0.], [0., 3.], ls='--', c='0.7')\n",
    "ax0.set_ylim((0., 3.))\n",
    "fg0.legend()"
   ]
  },
  {
   "cell_type": "markdown",
   "metadata": {},
   "source": [
    "### 求解SVC\n",
    "\n",
    "上述对偶问题是二次规划问题，因此可以用常用的二次规划解法：椭球法(ellipsoid method)，内点法(interior method)，增广拉格朗日法(augmented Lagrangian)，梯度投影法(gradient projection)等。但这些方法运算规模正比于训练样本数，造成很大的运算开销。\n",
    "\n",
    "#### SMO (Sequential Minimal Optimization)\n",
    "[SMO算法](https://www.microsoft.com/en-us/research/wp-content/uploads/2016/02/tr-98-14.pdf)利用了SVC问题的特点使得求解更为高效：它每次选取一对参数$\\alpha_i$, $\\alpha_j$，因为有$\\sum_i \\alpha_i y_i = 0$，所以$\\alpha_i y_i + \\alpha_j y_j = c \\equiv -\\sum_{k \\neq i,j} \\alpha_k y_k$，消去对偶问题中的$\\alpha_j$，即可得到一个关于$\\alpha_i$的二次函数，这个函数的解易得。通过如此反复选取参数做二次规划，目标函数会逐渐增大。因为目标函数是凹的，反复迭代后参数会慢慢收敛。\n",
    "\n",
    "```\n",
    "SMO(X, y, C, tol)\n",
    "1  alpha = zeros(m)\n",
    "2  for i=1 to N\n",
    "3      选取一对要更新的变量alpha1, alpha2\n",
    "4      解关于alpha1, alpha2对偶问题的对偶问题，得到新的alpha\n",
    "5  找出支持所有向量S，得到b的值。\n",
    "```\n",
    "\n",
    "下面是几点细节：\n",
    "- 关于选取要更新的$\\alpha_1$和$\\alpha_2$：$\\alpha_1$先选择为偏离KKT条件程度最大的变量，$\\alpha_2$则选择使两变量对应的样本间隔最大。\n",
    "\n",
    "- 关于求解$\\alpha_1$, $\\alpha_2$对偶问题：若假设$\\alpha'_1=\\alpha_1 + \\Delta \\alpha_1$，则易得\n",
    "$\\Delta \\alpha_1 = \\frac{1}{y_1 \\| {\\bf x}_1 - {\\bf x}_2\\|^2} \\left \\{ (y_1-y_2)\\left[1+\\frac{1}{y_1 y_2} \\right] + E_2 - E_1 \\right \\} \\overset{|y_i|=1}{=} \\frac{y_1 (E_2 - E_1)}{\\| {\\bf x}_1 - {\\bf x}_2 \\|^2} $，\n",
    "$\\Delta \\alpha_2$同理。\n",
    "\n",
    "- 关于在软间隔SVC中更新$\\alpha_1$和$\\alpha_2$：\n",
    "    ![smo](figures/smo1.png)   \n",
    "    当$y_1 \\neq y_2$时，$\\alpha'_1$取值下限：$\\max (0, \\alpha_1-\\alpha_2)$，取值上限为：$\\min (C, C+\\alpha_1-\\alpha_2)$。左图显示了$0 \\leq \\alpha'_1 \\leq C+\\alpha_1-\\alpha_2$。  \n",
    "    当$y_1 = y_2$时，$\\alpha'_1$取值下限：$\\max (0, \\alpha_1+\\alpha_2-C)$，取值上限为：$\\min (C, \\alpha_1+\\alpha_2)$。右图显示了$0 \\leq \\alpha'_1 \\leq \\alpha_1+\\alpha_2$。  \n",
    "\n",
    "- 关于求解b的值：支持向量满足$y ({\\bf w}^T{\\bf x}+b) = 1$。计算b时，我们考虑所有支持向量的贡献：$\\sum_{s \\in S} \\left [({\\bf w}^T {\\bf x}_s + b)  - 1/y_s \\right] = 0$。\n"
   ]
  },
  {
   "cell_type": "code",
   "execution_count": 3,
   "metadata": {},
   "outputs": [
    {
     "name": "stdout",
     "output_type": "stream",
     "text": [
      "3.542485\t1.977398\t-1\r",
      "\r\n",
      "3.018896\t2.556416\t-1\r",
      "\r\n",
      "7.551510\t-1.580030\t1\r",
      "\r\n",
      "2.114999\t-0.004466\t-1\r",
      "\r\n",
      "8.127113\t1.274372\t1\r",
      "\r\n",
      "7.108772\t-0.986906\t1\r",
      "\r\n",
      "8.610639\t2.046708\t1\r",
      "\r\n",
      "2.326297\t0.265213\t-1\r",
      "\r\n",
      "3.634009\t1.730537\t-1\r",
      "\r\n",
      "0.341367\t-0.894998\t-1\r",
      "\r\n"
     ]
    }
   ],
   "source": [
    "!head datasets/MLiA/Ch06/testSet.txt"
   ]
  },
  {
   "cell_type": "code",
   "execution_count": 4,
   "metadata": {},
   "outputs": [],
   "source": [
    "# 一组线性可分的数据\n",
    "input_data = np.loadtxt('datasets/MLiA/Ch06/testSet.txt')\n",
    "X1 = input_data[:, :-1]\n",
    "y1 = input_data[:, -1]"
   ]
  },
  {
   "cell_type": "code",
   "execution_count": 5,
   "metadata": {},
   "outputs": [
    {
     "data": {
      "text/plain": [
       "[<matplotlib.lines.Line2D at 0x7f8cdb32e390>]"
      ]
     },
     "execution_count": 5,
     "metadata": {},
     "output_type": "execute_result"
    },
    {
     "data": {
      "image/png": "[encoded data removed]",
      "text/plain": [
       "<Figure size 432x288 with 1 Axes>"
      ]
     },
     "metadata": {},
     "output_type": "display_data"
    }
   ],
   "source": [
    "fg1 = plt.figure()\n",
    "ax1 = fg1.add_subplot(111)\n",
    "ax1.plot(X1[y1>0, 0], X1[y1>0, 1], marker='o', ms=5, ls='None')\n",
    "ax1.plot(X1[y1<0, 0], X1[y1<0, 1], marker='x', ms=5, ls='None')"
   ]
  },
  {
   "cell_type": "code",
   "execution_count": 6,
   "metadata": {},
   "outputs": [],
   "source": [
    "# SMO算法，参考Machine Learning in Action (chs), pp.94-105\n",
    "def w_lin(alpha, X_data, y_data):\n",
    "    \"\"\"\n",
    "    Parameters\n",
    "    -------------\n",
    "    alpha : (m, 1) array, >=0.\n",
    "        dual parameters\n",
    "    X_data : (m, n) array\n",
    "        training data\n",
    "    y_data : (m, 1) array, =+/-1\n",
    "        the label of training data\n",
    "\n",
    "    Returns\n",
    "    ---------\n",
    "    w: (n, 1) array\n",
    "        weight vector\n",
    "    \"\"\"\n",
    "    assert alpha.ndim == 2 and y_data.ndim == 2\n",
    "    return (alpha*y_data*X_data).sum(axis=0, keepdims=True).T\n",
    "\n",
    "def model_lin(X, w, b):\n",
    "    \"\"\"\n",
    "    Parameters\n",
    "    -------------\n",
    "    X : (m', n) array\n",
    "        input features\n",
    "    w : (n, 1) array\n",
    "        weight vector\n",
    "    b : scalar\n",
    "        bias term\n",
    "    \n",
    "    Returns\n",
    "    ---------\n",
    "    y_pred : (m', 1)\n",
    "        predicted labels of input features\n",
    "    \"\"\"\n",
    "    assert X.ndim == 2 and w.ndim == 2\n",
    "    return X@w + b # np.dot(X, w) + b\n",
    "\n",
    "def update_alpha(alpha, i, j, C, X_data, y_data):\n",
    "    \"\"\"\n",
    "    Update the dual parameters based on SMO algorithm\n",
    "    \n",
    "    Parameters\n",
    "    -------------\n",
    "    alpha : (m, 1) array, >=0.\n",
    "        dual parameters\n",
    "    i, j : integer, >=0, i != j\n",
    "        the term of alpha needed to be update\n",
    "    C : scalar, >0.\n",
    "        constant to control the regularization\n",
    "    X_data : (m, n) array\n",
    "        training data\n",
    "    y_data : (m, 1) array, =+/-1\n",
    "        the label of training data\n",
    "    \n",
    "    Returns\n",
    "    ---------\n",
    "    is_updated : bool\n",
    "        whether the update is performed\n",
    "    \"\"\"\n",
    "    assert i>=0 and j>=0 and C>0. and i!=j\n",
    "    w = w_lin(alpha, X_data, y_data)\n",
    "\n",
    "    xi, yi = X_data[i:i+1, :], y_data[i] # xi in (1, n), yi is scalar\n",
    "    yi_pred = model_lin(xi, w, 0.) # b is canceled out, so here we just use b=0\n",
    "    Ei = yi_pred - yi\n",
    "    \n",
    "    xj, yj = X_data[j:j+1, :], y_data[j]\n",
    "    yj_pred = model_lin(xj, w, 0.)\n",
    "    Ej = yj_pred - yj\n",
    "\n",
    "    alpha_i, alpha_j = alpha[i], alpha[j]\n",
    "    if yi*yj < 0:\n",
    "        L = max(0., alpha_i-alpha_j)\n",
    "        H = min(C, C+alpha_i-alpha_j)\n",
    "    else:\n",
    "        L = max(0., alpha_i+alpha_j-C)\n",
    "        H = min(C, alpha_i+alpha_j)\n",
    "    if L == H: return False\n",
    "\n",
    "    dalpha_i = yi/((xi-xj)**2).sum() * (Ej - Ei)\n",
    "    alpha_i_new = np.clip(alpha_i+dalpha_i, a_min=L, a_max=H)\n",
    "    alpha_j_new = (alpha_i-alpha_i_new)*yi*yj + alpha_j # a1y1 + a2y2 = a'1y1 + a'2y2, |yi|=1\n",
    "    \n",
    "    alpha[i] = alpha_i_new\n",
    "    alpha[j] = alpha_j_new\n",
    "    return True\n",
    "    \n",
    "def support_vector_indices(alpha):\n",
    "    \"\"\"\n",
    "    Find the indices of support vectors, which satisfies\n",
    "    \\alpha_i != 0. due to the KKT condition.\n",
    "    \n",
    "    Parameters\n",
    "    -------------\n",
    "    alpha : (m, 1) array, >=0.\n",
    "        dual parameters\n",
    "        \n",
    "    Returns\n",
    "    ---------\n",
    "    indexes : array of non-negative integers\n",
    "        the index of support vectors in the data\n",
    "    \"\"\"\n",
    "    return np.nonzeros(alpha>0.)[0]\n",
    "\n",
    "def calculate_b(alpha, X_data, y_data):\n",
    "    \"\"\"\n",
    "    Calculate the bias term of the model.\n",
    "    \n",
    "    Parameters\n",
    "    -------------\n",
    "    alpha : (m, 1) array, >=0.\n",
    "        dual parameters\n",
    "    X_data : (m, n) array\n",
    "        training data\n",
    "    y_data : (m, 1) array, =+/-1\n",
    "        the label of training data\n",
    "        \n",
    "    Returns\n",
    "    ---------\n",
    "    b : scalar\n",
    "        the bias/interception of linear model\n",
    "    \"\"\"\n",
    "    idxs = support_vector_indices(alpha)\n",
    "    X_sv, y_sv = X_data[idxs, :], y_data[idxs, :]\n",
    "\n",
    "    w = w_lin(alpha, X_data, y_data)\n",
    "    b = sum(1./y_sv - X_sv@w) / len(idxs)\n",
    "    return b\n",
    "\n",
    "def select_IJ():\n",
    "    pass"
   ]
  },
  {
   "cell_type": "code",
   "execution_count": null,
   "metadata": {},
   "outputs": [],
   "source": []
  },
  {
   "cell_type": "markdown",
   "metadata": {},
   "source": [
    "#### sklearn\n",
    "`scikit-learn`中提供了`libsvm`和`liblinear`两个接口用来求解线性SVC问题。前者使用了二次规划方法，时间复杂度在$O(n\\,m^2)$到$O(n \\, m^3)$之间；而后者专门解决线性SVM问题，时间复杂度为$O(m)$[(scikit-learn.org)](http://scikit-learn.org/stable/modules/svm.html#complexity)。"
   ]
  },
  {
   "cell_type": "code",
   "execution_count": 7,
   "metadata": {},
   "outputs": [
    {
     "name": "stdout",
     "output_type": "stream",
     "text": [
      "[[ 0.43605478 -0.20628012]] [-2.1242996]\n"
     ]
    }
   ],
   "source": [
    "svc = svm.LinearSVC() # liblinear\n",
    "svc.fit(X1, y1)\n",
    "print(svc.coef_, svc.intercept_) # w1, w2, b"
   ]
  },
  {
   "cell_type": "code",
   "execution_count": 8,
   "metadata": {},
   "outputs": [
    {
     "name": "stdout",
     "output_type": "stream",
     "text": [
      "[[ 0.43605478 -0.20628012]] [-2.1242996]\n"
     ]
    }
   ],
   "source": [
    "svc2 = svm.SVC(kernel='linear') # libsvm\n",
    "svc2.fit(X1, y1)\n",
    "print(svc.coef_, svc.intercept_) # w1, w2, b"
   ]
  },
  {
   "cell_type": "code",
   "execution_count": 9,
   "metadata": {},
   "outputs": [
    {
     "data": {
      "image/png": "[encoded data removed]",
      "text/plain": [
       "<Figure size 432x288 with 1 Axes>"
      ]
     },
     "execution_count": 9,
     "metadata": {},
     "output_type": "execute_result"
    }
   ],
   "source": [
    "x_ = np.array([0., 10.])\n",
    "y_ = -(svc.intercept_+svc.coef_[0, 0]*x_)/svc.coef_[0, 1]\n",
    "ax1.plot(x_, y_, ls='--', c='C3', label='sklearn')\n",
    "ax1.set_ylim((-6, 5))\n",
    "ax1.legend()\n",
    "fg1"
   ]
  },
  {
   "cell_type": "markdown",
   "metadata": {},
   "source": [
    "## 核技巧\n",
    "如在[线性回归](1_LinearRegression.ipynb#核技巧)中所述：通过使用核函数，我们隐式的在高维特征空间中做线性划分。"
   ]
  },
  {
   "cell_type": "code",
   "execution_count": null,
   "metadata": {},
   "outputs": [],
   "source": []
  },
  {
   "cell_type": "markdown",
   "metadata": {},
   "source": [
    "## SVR"
   ]
  },
  {
   "cell_type": "code",
   "execution_count": null,
   "metadata": {},
   "outputs": [],
   "source": []
  }
 ],
 "metadata": {
  "kernelspec": {
   "display_name": "Python [conda env:tensorflow]",
   "language": "python",
   "name": "conda-env-tensorflow-py"
  },
  "language_info": {
   "codemirror_mode": {
    "name": "ipython",
    "version": 3
   },
   "file_extension": ".py",
   "mimetype": "text/x-python",
   "name": "python",
   "nbconvert_exporter": "python",
   "pygments_lexer": "ipython3",
   "version": "3.6.5"
  }
 },
 "nbformat": 4,
 "nbformat_minor": 2
}

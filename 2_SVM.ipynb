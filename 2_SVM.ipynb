{
 "cells": [
  {
   "cell_type": "markdown",
   "metadata": {},
   "source": [
    "# Support Vecor Machine (SVM)\n",
    "<!--\n",
    "Author: Zhaoqiang SHEN\n",
    "Date: 2018/08/22\n",
    "Contact: szqtclx@gmail.com\n",
    "-->\n",
    "\n",
    "### SVM 算法特点\n",
    "优点：泛化（由具体的、个别的扩大为一般的，就是说：模型训练完后的新样本）错误率低，计算开销不大，结果易理解。  \n",
    "缺点：对参数调节和核函数的选择敏感，原始分类器不加修改仅适合于处理二分类问题。  \n",
    "使用数据类型：数值型和标称型数据。"
   ]
  },
  {
   "cell_type": "code",
   "execution_count": 1,
   "metadata": {},
   "outputs": [],
   "source": [
    "import copy\n",
    "import numpy as np\n",
    "from matplotlib import pyplot as plt\n",
    "%matplotlib inline\n",
    "\n",
    "from sklearn import svm"
   ]
  },
  {
   "cell_type": "markdown",
   "metadata": {},
   "source": [
    "## 线性核SVC\n",
    "\n",
    "### 硬间隔SVC\n",
    "对于一个线性可分的训练集，多个平面可以划分数据，只要它们满足：  \n",
    "${\\bf w}^T {\\bf x}_i + b \\geq +1$, for $y_i = +1$,  \n",
    "${\\bf w}^T {\\bf x}_i + b \\leq   -1$, for $y_i = -1$.\n",
    "\n",
    "距离平面最近的两类训练样本称为**支持向量**（让上面两式之一等号成立的点），两异类支持向量到平面距离的和称为**几何间隔**，它等于$2/\\|{\\bf w} \\|$。SVM希望在可以划分数据的平面中去找几何间隔最大者（也就是将最难分的点也尽量分得远一些）。  \n",
    "因此SVM的**基本型**写为，  \n",
    "优化目标：$\\min_{{\\bf w}, b} \\frac{1}{2} \\| {\\bf w} \\|^2$  \n",
    "s.t. $y_i ({\\bf w}^T {\\bf x}_i+b) \\geq 1$, for every $i=1,2,3, \\cdots, m.$\n",
    "\n",
    "利用拉格朗日乘子法，有$L({\\bf w}, b, {\\bf \\alpha}) = \\frac{1}{2} \\| {\\bf w} \\|^2 + \\sum_i \\alpha_i (1-y_i ({\\bf w}^T {\\bf x}_i+b))$。   \n",
    "当**强对偶性**成立时（Slater条件：对于凸函数，如果存在一个点使不等式约束严格成立，则满足强对偶性；对于非凸函数情况下通常不成立），主问题与对偶问题的解相等（否则后者小于前者），即$\\min_{{\\bf w}, b} \\max_{\\alpha_i} L({\\bf w}, b, {\\bf \\alpha}) = \\max_{\\alpha_i} \\min_{{\\bf w}, b} L({\\bf w}, b, {\\bf \\alpha})$，  \n",
    "其中**对偶问题**为  \n",
    "$RHS = \\boxed {\\max_{\\alpha} \\sum_{i=1}^m \\alpha_i - \\frac{1}{2} \\sum_i \\sum_j \\alpha_i \\alpha_j y_i y_j {\\bf x}_i^T {\\bf x}_j }$,  \n",
    "s.t. $\\boxed {\\sum_i \\alpha_i y_i = 0}$, and $\\boxed { \\alpha_i \\geq 0}$.\n",
    "\n",
    "强对偶同样导致KKT条件成立，  \n",
    "- stationarity: ${\\bf w}=\\sum_i \\alpha_i y_i {\\bf x}_i$,  \n",
    "- dual feasible: $\\alpha_i \\geq 0$,  \n",
    "- prime feasible: $y_i ({\\bf w}^T {\\bf x}_i+b) \\geq 1$, and   \n",
    "- complementary slackness: $\\alpha_i (1-y_i ({\\bf w}^T {\\bf x}_i+b)) = 0$.  \n",
    "\n",
    "从KKT条件上来看，对于不在最大间隔边界上的点，其满足$y_i f({\\bf x}_i)-1>0$，因此需要$\\alpha_i=0$，它们也就对参数没有影响。事实上SVM只与支持向量相关。\n",
    "\n",
    "### 软间隔SVC\n",
    "当不能线性可分时（即存在不满足$y_i ({\\bf w}^T {\\bf x}_i + b) \\geq 1$的样本点），我们希望不满足约束者越少越好。则优化目标改写为：  \n",
    "$\\min_{{\\bf w}, b} \\frac{1}{2} \\| {\\bf w} \\|^2 + C \\sum_{i=1}^m \\ell(y_i ({\\bf w}^T {\\bf x}_i + b) )$  \n",
    "其中，$C>0$为**惩罚参数**，它越大对不满足约束的点惩罚越重，当$C \\to \\infty$，软间隔SVC退化为硬间隔SVC；\n",
    "损失函数$\\ell$包括：\n",
    "- 0/1 损失函数：$\\ell_{0/1}(z) = H(-z) $\n",
    "- 合页(hinge)损失函数：$\\ell_{hinge}(z) = \\max(0, 1-z)$\n",
    "- 对数损失函数：$\\ell_{exp}(z) = \\exp(-z)$\n",
    "- 对率损失函数：$\\ell_{log}(z) = \\log_2(1+\\exp(-z))$\n",
    "\n",
    "对于合页损失函数，引入**松弛变量**$\\xi_i = \\ell_{hinge}(y_i ({\\bf w}^T {\\bf x}_i + b))$，则优化目标写为：  \n",
    "$\\min_{{\\bf w}, b, {\\bf \\xi}} \\frac{1}{2} \\| {\\bf w} \\|^2 + C \\sum_{i=1}^m \\xi_i$，  \n",
    "其中，$ \\xi_i \\geq 0$ and $\\xi_i \\geq 1-y_i ({\\bf w}^T {\\bf x}_i + b)$。\n",
    "\n",
    "得到拉格朗日函数：$L({\\bf w}, b, {\\bf \\xi}, {\\bf \\alpha}, {\\bf \\mu}) = \\frac{1}{2} \\| {\\bf w} \\|^2 + C\\sum_i \\xi_i + \\sum_i \\alpha_i (1-\\xi_i-y_i ({\\bf w}^T {\\bf x}_i+b)) - \\sum_i \\mu_i \\xi_i$。  \n",
    "它的对偶问题为：\n",
    "$\\max_{\\alpha} \\sum_{i=1}^m \\alpha_i - \\frac{1}{2} \\sum_i \\sum_j \\alpha_i \\alpha_j y_i y_j {\\bf x}_i^T {\\bf x}_j $,  \n",
    "s.t. $\\sum_i \\alpha_i y_i = 0$, and $\\boxed {0 \\leq \\alpha_i \\leq C}$.  \n",
    "\n",
    "因为强对偶，所以KKT条件成立：  \n",
    "- stationarity: ${\\bf w}=\\sum_i \\alpha_i y_i {\\bf x}_i$,\n",
    "- dual feasible: $\\alpha_i \\geq 0$, and $\\mu_i \\geq 0$,  \n",
    "- prime feasible: $1-\\xi_i - y_i ({\\bf w}^T {\\bf x}_i+b) \\leq 0$, and $-\\xi_i \\leq 0$,  \n",
    "- complementary slackness: $\\alpha_i (1-\\xi_i-y_i ({\\bf w}^T {\\bf x}_i+b))=0$, and $\\mu_i \\xi_i=0$.\n",
    "\n",
    "由KKT条件可知，\n",
    "1. 只有满足$1-\\xi_i=y_i ({\\bf w}^T {\\bf x}_i+b)$的向量（支持向量）对参数有影响（落在最大间隔边界及内部的点），即合页损失函数保持了SVM的稀疏性。\n",
    "2. 由于$\\alpha_i+\\mu_i=C$，如果某个点有$\\alpha_i = C$，则$\\mu_i=0$， $\\xi_i \\geq 0$，因此它可能落在最大间隔内部。如果$0 < \\alpha_i < C$，则$\\xi_i = 0$，它一定落在最大间隔边界上。"
   ]
  },
  {
   "cell_type": "code",
   "execution_count": 2,
   "metadata": {},
   "outputs": [
    {
     "data": {
      "text/plain": [
       "<matplotlib.legend.Legend at 0x7fd9d54711d0>"
      ]
     },
     "execution_count": 2,
     "metadata": {},
     "output_type": "execute_result"
    },
    {
     "data": {
      "image/png": "[encoded data removed]",
      "text/plain": [
       "<Figure size 432x288 with 1 Axes>"
      ]
     },
     "metadata": {},
     "output_type": "display_data"
    }
   ],
   "source": [
    "# Loss functions\n",
    "fg0, ax0 = plt.subplots()\n",
    "\n",
    "x = np.linspace(-2., 2., 300)\n",
    "ax0.plot(x, x<0., ls='-', label='0/1')\n",
    "ax0.plot(x, np.maximum(0., 1.-x), ls='--', label='hinge')\n",
    "ax0.plot(x, np.log2(1.+np.exp(-x)), ls=':', label='log')\n",
    "ax0.plot(x, np.exp(-x), ls='-.', label='exp')\n",
    "\n",
    "ax0.plot([0., 0.], [0., 3.], ls='--', c='0.7')\n",
    "ax0.set_ylim((0., 3.))\n",
    "ax0.legend()"
   ]
  },
  {
   "cell_type": "markdown",
   "metadata": {},
   "source": [
    "### 求解SVC\n",
    "\n",
    "上述对偶问题是二次规划问题，因此可以用常用的二次规划解法：椭球法(ellipsoid method)，内点法(interior method)，增广拉格朗日法(augmented Lagrangian)，梯度投影法(gradient projection)等。但这些方法运算规模正比于训练样本数，造成很大的运算开销。\n",
    "\n",
    "#### SMO (Sequential Minimal Optimization)\n",
    "SMO算法[(Platt98)](https://www.microsoft.com/en-us/research/wp-content/uploads/2016/02/tr-98-14.pdf)利用了SVC问题的特点使得求解更为高效：它每次选取一对参数$\\alpha_i$, $\\alpha_j$，因为有$\\sum_i \\alpha_i y_i = 0$，所以$\\alpha_i y_i + \\alpha_j y_j = c \\equiv -\\sum_{k \\neq i,j} \\alpha_k y_k$，消去对偶问题中的$\\alpha_j$，即可得到一个关于$\\alpha_i$的二次函数，这个函数的解易得。通过如此反复选取参数做二次规划，目标函数会逐渐增大。因为目标函数是凹的，反复迭代后参数会慢慢收敛。\n",
    "\n",
    "```\n",
    "SMO(X, y, C, tol)\n",
    "1  alpha = zeros(m)\n",
    "2  while KKT条件在tol程度以上有破坏:\n",
    "3      选取一对要更新的变量alpha1, alpha2\n",
    "4      解关于alpha1, alpha2对偶问题的对偶问题，并更新alpha向量\n",
    "5      更新w, b\n",
    "```\n",
    "\n",
    "下面是几点细节：\n",
    "- 关于求解$\\alpha_1$, $\\alpha_2$对偶问题：若假设$\\alpha'_1=\\alpha_1 + \\Delta \\alpha_1$，则易得\n",
    "$\\Delta \\alpha_1 = \\frac{1}{y_1 \\| {\\bf x}_1 - {\\bf x}_2\\|^2} \\left \\{ (y_1-y_2)\\left[1+\\frac{1}{y_1 y_2} \\right] + E_2 - E_1 \\right \\} \\overset{|y_i|=1}{=} \\frac{y_1 (E_2 - E_1)}{\\| {\\bf x}_1 - {\\bf x}_2 \\|^2} $，其中$E_i = y_{{\\rm pred},i} - y_i$。\n",
    "\n",
    "- 关于在软间隔SVC中更新$\\alpha_1$和$\\alpha_2$：\n",
    "    <img src=\"figures/smo1.png\" width=\"50%\" height=\"50%\" align=center />\n",
    "    当$y_1 \\neq y_2$时，$\\alpha'_1$取值下限：$L=\\max (0, \\alpha_1-\\alpha_2)$，取值上限为：$H=\\min (C, C+\\alpha_1-\\alpha_2)$。左图显示了$0 \\leq \\alpha'_1 \\leq C+\\alpha_1-\\alpha_2$。  \n",
    "    当$y_1 = y_2$时，$\\alpha'_1$取值下限：$L=\\max (0, \\alpha_1+\\alpha_2-C)$，取值上限为：$H=\\min (C, \\alpha_1+\\alpha_2)$。右图显示了$0 \\leq \\alpha'_1 \\leq \\alpha_1+\\alpha_2$。  \n",
    "\n",
    "- 关于求解b的值：支持向量满足$y ({\\bf w}^T{\\bf x}+b) = 1$。计算b时，我们考虑所有支持向量的贡献：$\\sum_{s \\in S} \\left [({\\bf w}^T {\\bf x}_s + b)  - 1/y_s \\right] = 0$。\n",
    "\n",
    "- 关于选取要更新的$\\alpha_1$和$\\alpha_2$：SMO算法依次选取$\\alpha_1$和$\\alpha_1$。$\\alpha_1$对应的点需要不满足KKT条件，先选择取非边界的点，否则遍历整个集合。$\\alpha_2$选择使两变量对应的$E_2 - E_1$最大。"
   ]
  },
  {
   "cell_type": "code",
   "execution_count": 3,
   "metadata": {},
   "outputs": [
    {
     "name": "stdout",
     "output_type": "stream",
     "text": [
      "3.542485\t1.977398\t-1\r",
      "\r\n",
      "3.018896\t2.556416\t-1\r",
      "\r\n",
      "7.551510\t-1.580030\t1\r",
      "\r\n",
      "2.114999\t-0.004466\t-1\r",
      "\r\n",
      "8.127113\t1.274372\t1\r",
      "\r\n",
      "7.108772\t-0.986906\t1\r",
      "\r\n",
      "8.610639\t2.046708\t1\r",
      "\r\n",
      "2.326297\t0.265213\t-1\r",
      "\r\n",
      "3.634009\t1.730537\t-1\r",
      "\r\n",
      "0.341367\t-0.894998\t-1\r",
      "\r\n"
     ]
    }
   ],
   "source": [
    "!head datasets/MLiA/Ch06/testSet.txt"
   ]
  },
  {
   "cell_type": "code",
   "execution_count": 4,
   "metadata": {},
   "outputs": [],
   "source": [
    "# 一组线性可分的数据\n",
    "input_data = np.loadtxt('datasets/MLiA/Ch06/testSet.txt')\n",
    "X1 = input_data[:, :-1]\n",
    "y1 = input_data[:, -1]"
   ]
  },
  {
   "cell_type": "code",
   "execution_count": 5,
   "metadata": {},
   "outputs": [
    {
     "data": {
      "text/plain": [
       "[<matplotlib.lines.Line2D at 0x7fd9d4a3fb38>]"
      ]
     },
     "execution_count": 5,
     "metadata": {},
     "output_type": "execute_result"
    },
    {
     "data": {
      "image/png": "[encoded data removed]",
      "text/plain": [
       "<Figure size 432x288 with 1 Axes>"
      ]
     },
     "metadata": {},
     "output_type": "display_data"
    }
   ],
   "source": [
    "fg1, ax1 = plt.subplots()\n",
    "ax1.plot(X1[y1>0, 0], X1[y1>0, 1], marker='o', ms=5, ls='None')\n",
    "ax1.plot(X1[y1<0, 0], X1[y1<0, 1], marker='x', ms=5, ls='None')"
   ]
  },
  {
   "cell_type": "code",
   "execution_count": 6,
   "metadata": {},
   "outputs": [],
   "source": [
    "\"\"\"\n",
    "基于SMO算法的线性SVC\n",
    "\n",
    "参考：\n",
    "1. 机器学习实战, pp.94-105\n",
    "2. 统计学习方法, pp.128-131\n",
    "3. Platt1998\n",
    "\"\"\"\n",
    "\n",
    "inf = float('inf')\n",
    "\n",
    "class linearSVC:\n",
    "    \"\"\"\n",
    "    Linear SVC\n",
    "    \"\"\"\n",
    "    \n",
    "    def __init__(self, C=1., tol=1e-3, **kwds):\n",
    "        \"\"\"\n",
    "        Parameters\n",
    "        -------------\n",
    "        C : scalar, >0.\n",
    "            constant to control the regularization\n",
    "        tol : scalar, >0, default: 1e-3\n",
    "            tolerence of the fitting\n",
    "        \"\"\"\n",
    "        assert C > 0. and tol > 0.\n",
    "        self.C_, self.tol_ = C, tol\n",
    "        self.b_ = 0.\n",
    "        \n",
    "        self.support_vectors_ = None\n",
    "        self.dual_coef_ = None\n",
    "\n",
    "        self._init_model(**kwds)\n",
    "        \n",
    "    def _init_model(self):\n",
    "        \"\"\"\n",
    "        Initialized Parameters\n",
    "        ------------------------\n",
    "        w_ : (n, 1) array\n",
    "            weight vector\n",
    "        b_ : scalar\n",
    "            bias\n",
    "        \"\"\"\n",
    "        self.w_, self.b_ = None, 0.\n",
    "    \n",
    "    def __call__(self, X):\n",
    "        \"\"\"\n",
    "        evaluate SVC model\n",
    "        \n",
    "        Parameters\n",
    "        -------------\n",
    "        X : (m', n) array\n",
    "            input features\n",
    "\n",
    "        Returns\n",
    "        ---------\n",
    "        y_pred : (m', 1)\n",
    "            predicted labels of input features\n",
    "        \"\"\"\n",
    "        return self.predict(X)\n",
    "\n",
    "    def predict(self, X):\n",
    "        \"\"\"\n",
    "        Linear SVC model\n",
    "        \n",
    "        Parameters\n",
    "        -------------\n",
    "        X : (m', n) array\n",
    "            input features\n",
    "\n",
    "        Returns\n",
    "        ---------\n",
    "        y_pred : (m', 1)\n",
    "            predicted labels of input features\n",
    "        \"\"\"\n",
    "        assert self.w_ is not None\n",
    "        return X@self.w_ + self.b_ # np.dot(X, w) + b\n",
    "\n",
    "    @staticmethod\n",
    "    def support_vector_indices(alpha):\n",
    "        \"\"\"\n",
    "        Find the indices of support vectors, which satisfies\n",
    "        \\alpha_i != 0. due to the KKT condition.\n",
    "\n",
    "        Parameters\n",
    "        -------------\n",
    "        alpha : (m, 1) array, 0<=alpha<=C\n",
    "            dual parameters\n",
    "\n",
    "        Returns\n",
    "        ---------\n",
    "        indices : array of non-negative integers\n",
    "            the index of support vectors in the data\n",
    "        \"\"\"\n",
    "        return np.nonzero(alpha>1.e-7)[0]\n",
    "\n",
    "    def update_model(self, alpha, X_data, y_data):\n",
    "        \"\"\"\n",
    "        Update the bias and weight terms of the model.\n",
    "        \n",
    "        Parameters\n",
    "        -------------\n",
    "        alpha : (m, 1) array, 0<=alpha<=C\n",
    "            dual parameters\n",
    "        X_data : (m, n) array\n",
    "            training data\n",
    "        y_data : (m, 1) array, =+/-1\n",
    "            the label of training data\n",
    "        \"\"\"\n",
    "        idxs = self.support_vector_indices(alpha)\n",
    "        X_sv, y_sv = X_data[idxs, :], y_data[idxs, :]\n",
    "        self.support_vectors_ = X_sv\n",
    "        self.dual_coef_ = y_sv*alpha[idxs, :]\n",
    "\n",
    "        self.w_ = (self.dual_coef_*self.support_vectors_).sum(axis=0, keepdims=True).T\n",
    "        self.b_ = sum(1./y_sv - self.support_vectors_@self.w_) /y_sv.shape[0]\n",
    "\n",
    "    def eta(self, xi, xj):\n",
    "        \"\"\"\n",
    "        Calculate eta=|| \\Phi(xi) - \\Phi(xj) ||^2\n",
    "        \"\"\"\n",
    "        return ((xi-xj)**2).sum()\n",
    "    \n",
    "    def update_alpha(self, alpha, i, j, X_data, y_data):\n",
    "        \"\"\"\n",
    "        Update the dual parameters based on SMO algorithm\n",
    "\n",
    "        Parameters\n",
    "        -------------\n",
    "        alpha : (m, 1) array, >=0.\n",
    "            dual parameters\n",
    "        i, j : integer, >=0, i != j\n",
    "            the term of alpha needed to be update\n",
    "        X_data : (m, n) array\n",
    "            training data\n",
    "        y_data : (m, 1) array, =+/-1\n",
    "            the label of training data\n",
    "\n",
    "        Returns\n",
    "        ---------\n",
    "        is_updated : bool\n",
    "            whether the update is performed\n",
    "        \"\"\"\n",
    "        if i<0 or j<0 or i==j:\n",
    "            return False\n",
    "\n",
    "        # calculate errors for i, j\n",
    "        xi, yi = X_data[i:i+1, :], y_data[i, 0] # xi in (1, n), yi is scalar\n",
    "        yi_pred = self.predict(xi) # b is canceled out, so here we just use b=0\n",
    "        Ei = yi_pred - yi\n",
    "\n",
    "        xj, yj = X_data[j:j+1, :], y_data[j, 0]\n",
    "        yj_pred = self.predict(xj)\n",
    "        Ej = yj_pred - yj\n",
    "\n",
    "        # Compute L, H\n",
    "        alpha_i, alpha_j = alpha[i, 0], alpha[j, 0]\n",
    "        if yi*yj < 0:\n",
    "            L = max(0., alpha_i-alpha_j)\n",
    "            H = min(self.C_, self.C_+alpha_i-alpha_j)\n",
    "        else:\n",
    "            L = max(0., alpha_i+alpha_j-self.C_)\n",
    "            H = min(self.C_, alpha_i+alpha_j)\n",
    "        if L >= H:\n",
    "            #print(\"[skipped] L >= H\")\n",
    "            return False\n",
    "\n",
    "        # compute eta\n",
    "        eta = self.eta(xi, xj)\n",
    "        if eta <= 0.:\n",
    "            #print('[skipped] eta <= 0')\n",
    "            return False\n",
    "        \n",
    "        # new alphas\n",
    "        dalpha_i = yi/eta * (Ej - Ei)\n",
    "        alpha_i_new = np.clip(alpha_i+dalpha_i, a_min=L, a_max=H) # L <= alpha_new <= H\n",
    "        if abs(alpha_i_new-alpha_i) <= 1e-6*(alpha_i_new + alpha_i + 1e-6):\n",
    "            #print('[skipped] not enough update for alpha')\n",
    "            return False\n",
    "        alpha_j_new = (alpha_i-alpha_i_new)*yi*yj + alpha_j # a1y1 + a2y2 = a'1y1 + a'2y2, |yi|=1\n",
    "\n",
    "        # update parameters\n",
    "        alpha[i] = alpha_i_new\n",
    "        alpha[j] = alpha_j_new\n",
    "        self.update_model(alpha, X_data, y_data)\n",
    "        return True\n",
    "    \n",
    "    def examine(self, i, alpha, X_data, y_data):\n",
    "        \"\"\"\n",
    "        Do one-step fitting given the first index\n",
    "        \n",
    "        Parameters\n",
    "        -------------\n",
    "        i : integer, >=0\n",
    "            the first index\n",
    "        alpha : (m, 1) array, >=0.\n",
    "            dual parameters\n",
    "        X_data : (m, n) array\n",
    "            training data\n",
    "        y_data : (m, 1) array, =+/-1\n",
    "            the label of training data\n",
    "            \n",
    "        Returns\n",
    "        ---------\n",
    "        is_fitted : bool\n",
    "        \"\"\"\n",
    "        m = X_data.shape[0]\n",
    "        y_pred = self.predict(X_data)\n",
    "        \n",
    "        ai= alpha[i, 0]\n",
    "        ri = y_data[i, 0]*y_pred[i, 0]-1.\n",
    "        \n",
    "        # when KKT condition does not satisfy\n",
    "        # KKT: 0<a<C, y*y_pred=1; a=0, y*y_pred>=1; a=C, y*y_pred<=1\n",
    "        if (ai<self.C_ and ri<-self.tol_) or (ai>0 and ri>self.tol_):\n",
    "            # Heuristic:\n",
    "            # 1. nonbound points are more likely to be updated, while those\n",
    "            #    at boundary are kept at the same position\n",
    "            # 2. dalpha is larger when |E_i - E_j| is larger\n",
    "            nonbds = set(np.nonzero((alpha>0) & (alpha<self.C_))[0])\n",
    "            if nonbds:\n",
    "                errs = y_pred-y_data\n",
    "                j = np.abs(errs-errs[i]).argmax()\n",
    "                if self.update_alpha(alpha, i, j, X_data, y_data):\n",
    "                    return True\n",
    "\n",
    "            for j in nonbds:\n",
    "                if self.update_alpha(alpha, i, j, X_data, y_data):\n",
    "                    return True\n",
    "                \n",
    "            for j in range(m):\n",
    "                if not j in nonbds and self.update_alpha(alpha, i, j, X_data, y_data):\n",
    "                    return True\n",
    "        return False\n",
    "\n",
    "    def _init_fit(self, n):\n",
    "        \"\"\"\n",
    "        Initialize the parameter\n",
    "\n",
    "        Parameters\n",
    "        -------------\n",
    "        n : integer\n",
    "            number of featurs\n",
    "        \"\"\"\n",
    "        self.w_ = np.zeros((n, 1))\n",
    "\n",
    "    def fit(self, X_data, y_data):\n",
    "        \"\"\"\n",
    "        Fit the SVC model with SMO algorithm\n",
    "        \n",
    "        Parameters\n",
    "        -------------\n",
    "        X_data : (m, n) array\n",
    "            training data\n",
    "        y_data : (m, 1) array, =+/-1\n",
    "            the label of training data\n",
    "            \n",
    "        Returns\n",
    "        ---------\n",
    "        alpha : (m, 1) array, 0<=alpha<=C\n",
    "            dual parameters\n",
    "        \"\"\"\n",
    "        m, n = X_data.shape\n",
    "        if y_data.ndim == 1:\n",
    "            y_data = y_data.reshape((-1, 1))\n",
    "        alpha = np.zeros((m, 1))\n",
    "        self._init_fit(n)\n",
    "        \n",
    "        it = 0\n",
    "        num_change = 0\n",
    "        examine_all = True\n",
    "        while (num_change>0 or examine_all):\n",
    "            if examine_all:\n",
    "                arridx = range(m) # find the points break KKT conditions\n",
    "            else:\n",
    "                arridx = np.nonzero((alpha>0)&(alpha<self.C_))[0]\n",
    "\n",
    "            num_change = 0 # the number of pairs of changed alphas in this pass    \n",
    "            for i in range(m):\n",
    "                num_change += self.examine(i, alpha, X_data, y_data)\n",
    "\n",
    "            if examine_all:\n",
    "                examine_all = False\n",
    "            elif num_change == 0:\n",
    "                examine_all = True\n",
    "\n",
    "            #print('iter={}, dual={}, loss={}'.format(it, self.dual_gain(), self.loss(X_data, y_data)))\n",
    "            print('iter={}, dual={}'.format(it, self.dual_gain()))\n",
    "            it += 1\n",
    "        return alpha\n",
    "\n",
    "    def dual_gain(self):\n",
    "        \"\"\"\n",
    "        Calculate only with support vectors\n",
    "        \n",
    "        Returns\n",
    "        --------\n",
    "        gain : scalar\n",
    "        \"\"\"\n",
    "        # more general case\n",
    "        #ws = alpha*y_data*X_data\n",
    "        #return alpha.sum() - 0.5*(ws@ws.T).sum()\n",
    "        \n",
    "        # only use support vectors\n",
    "        ws = self.support_vectors_*self.dual_coef_\n",
    "        return np.abs(self.dual_coef_).sum() - 0.5*(ws@ws.T).sum()\n",
    "\n",
    "    def loss(self, X_data, y_data):\n",
    "        \"\"\"\n",
    "        Parameters\n",
    "        -------------\n",
    "        X_data : (m, n) array\n",
    "            training data\n",
    "        y_data : (m, 1) array, =+/-1\n",
    "            the label of training data\n",
    "\n",
    "        Returns\n",
    "        ---------\n",
    "        loss : scalar\n",
    "        \"\"\"\n",
    "        y_pred = self.predict(X_data)\n",
    "        return 0.5*(self.w_**2).sum() + self.C_*np.maximum(0., 1.-y_data*y_pred).sum()"
   ]
  },
  {
   "cell_type": "code",
   "execution_count": 7,
   "metadata": {},
   "outputs": [
    {
     "name": "stdout",
     "output_type": "stream",
     "text": [
      "iter=0, dual=0.20880763826924925\n",
      "iter=1, dual=0.3040758147860484\n",
      "iter=2, dual=0.3355976134753782\n",
      "iter=3, dual=0.3405284471119234\n",
      "iter=4, dual=0.3443164725840272\n",
      "iter=5, dual=0.3460836455976871\n",
      "iter=6, dual=0.3469543659708534\n",
      "iter=7, dual=0.3475793453838718\n",
      "iter=8, dual=0.34817180827271255\n",
      "iter=9, dual=0.3487904639015411\n",
      "iter=10, dual=0.34944330727074224\n",
      "iter=11, dual=0.35012430900305014\n",
      "iter=12, dual=0.35082547700232314\n",
      "iter=13, dual=0.35154020618212967\n",
      "iter=14, dual=0.35226375960787293\n",
      "iter=15, dual=0.35299294964655126\n",
      "iter=16, dual=0.35372570132625947\n",
      "iter=17, dual=0.35446068894063654\n",
      "iter=18, dual=0.35519707469917694\n",
      "iter=19, dual=0.35593433261082574\n",
      "iter=20, dual=0.35667213375431595\n",
      "iter=21, dual=0.35741027294470085\n",
      "iter=22, dual=0.35814862237756473\n",
      "iter=23, dual=0.3588871025208036\n",
      "iter=24, dual=0.35962566391044337\n",
      "iter=25, dual=0.360364275793982\n",
      "iter=26, dual=0.36110291905635417\n",
      "iter=27, dual=0.361841581817706\n",
      "iter=28, dual=0.3625802566954329\n",
      "iter=29, dual=0.36331893910194113\n",
      "iter=30, dual=0.364057626186568\n",
      "iter=31, dual=0.364796316177989\n",
      "iter=32, dual=0.36545932933887393\n",
      "iter=33, dual=0.3663467373689534\n",
      "iter=34, dual=0.3665574990632371\n",
      "iter=35, dual=0.36676811739527415\n",
      "iter=36, dual=0.366978695342839\n",
      "iter=37, dual=0.3671892619142878\n",
      "iter=38, dual=0.3673998252811371\n",
      "iter=39, dual=0.3676103877452659\n",
      "iter=40, dual=0.3678209499551035\n",
      "iter=41, dual=0.36803151209330753\n",
      "iter=42, dual=0.36824207421133337\n",
      "iter=43, dual=0.3684526363236742\n",
      "iter=44, dual=0.3686631984344143\n",
      "iter=45, dual=0.368748629024625\n",
      "iter=46, dual=0.36874866635993286\n",
      "iter=47, dual=0.36874866663467976\n",
      "iter=48, dual=0.36874866663563544\n",
      "iter=49, dual=0.3687486666361426\n",
      "iter=50, dual=0.3687486666361426\n",
      "iter=51, dual=0.3687486666361426\n"
     ]
    }
   ],
   "source": [
    "# wrap up all the components\n",
    "mysvc = linearSVC(C=1., tol=1e-6)\n",
    "alpha = mysvc.fit(X_data=X1, y_data=y1)"
   ]
  },
  {
   "cell_type": "code",
   "execution_count": 8,
   "metadata": {},
   "outputs": [
    {
     "data": {
      "text/plain": [
       "(array([[ 0.81439535],\n",
       "        [-0.27249991]]), array([-3.83784491]))"
      ]
     },
     "execution_count": 8,
     "metadata": {},
     "output_type": "execute_result"
    }
   ],
   "source": [
    "mysvc.w_, mysvc.b_"
   ]
  },
  {
   "cell_type": "code",
   "execution_count": 9,
   "metadata": {},
   "outputs": [
    {
     "name": "stdout",
     "output_type": "stream",
     "text": [
      "Support Vectors:\n",
      "[[ 4.658191  3.507396]\n",
      " [ 3.457096 -0.082216]\n",
      " [ 6.080573  0.418886]]\n",
      "y*alpha:\n",
      "[[-0.12738994]\n",
      " [-0.2413584 ]\n",
      " [ 0.36874833]]\n"
     ]
    },
    {
     "data": {
      "text/plain": [
       "[<matplotlib.lines.Line2D at 0x7fd9d49db6a0>]"
      ]
     },
     "execution_count": 9,
     "metadata": {},
     "output_type": "execute_result"
    }
   ],
   "source": [
    "print('Support Vectors:')\n",
    "print(mysvc.support_vectors_)\n",
    "print('y*alpha:')\n",
    "print(mysvc.dual_coef_)\n",
    "ax1.plot(mysvc.support_vectors_[:, 0], mysvc.support_vectors_[:, 1],\n",
    "              ls='None', marker='o', label='support vectors', c='None', mec='k', ms=10)"
   ]
  },
  {
   "cell_type": "code",
   "execution_count": 10,
   "metadata": {},
   "outputs": [
    {
     "data": {
      "image/png": "[encoded data removed]",
      "text/plain": [
       "<Figure size 432x288 with 1 Axes>"
      ]
     },
     "execution_count": 10,
     "metadata": {},
     "output_type": "execute_result"
    }
   ],
   "source": [
    "x_ = np.array([0., 10.])\n",
    "y_ = -(mysvc.b_+ mysvc.w_[0, 0]*x_)/mysvc.w_[1, 0]\n",
    "y1_ = -(mysvc.b_-1+ mysvc.w_[0, 0]*x_)/mysvc.w_[1, 0]\n",
    "y2_ = -(mysvc.b_+1+ mysvc.w_[0, 0]*x_)/mysvc.w_[1, 0]\n",
    "ax1.plot(x_, y_, ls='-', c='C2', label='mysvc')\n",
    "ax1.plot(x_, y1_, ls=':', c='C2')\n",
    "ax1.plot(x_, y2_, ls=':', c='C2')\n",
    "\n",
    "ax1.set_ylim((-6, 5))\n",
    "ax1.legend()\n",
    "fg1"
   ]
  },
  {
   "cell_type": "markdown",
   "metadata": {},
   "source": [
    "#### sklearn\n",
    "`scikit-learn`中提供了`libsvm`和`liblinear`两个接口用来求解线性SVC问题。前者使用了二次规划方法，时间复杂度在$O(n\\,m^2)$到$O(n \\, m^3)$之间；而后者专门解决线性SVM问题，时间复杂度为$O(m)$[(scikit-learn.org)](http://scikit-learn.org/stable/modules/svm.html#complexity)。"
   ]
  },
  {
   "cell_type": "code",
   "execution_count": 11,
   "metadata": {},
   "outputs": [
    {
     "name": "stdout",
     "output_type": "stream",
     "text": [
      "[[ 0.4888528  -0.23303445]] [-2.4597923]\n"
     ]
    }
   ],
   "source": [
    "svc = svm.LinearSVC(C=1., loss='hinge') # liblinear\n",
    "svc.fit(X1, y1)\n",
    "print(svc.coef_, svc.intercept_) # w1, w2, b # excuse me?!"
   ]
  },
  {
   "cell_type": "code",
   "execution_count": 12,
   "metadata": {},
   "outputs": [
    {
     "name": "stdout",
     "output_type": "stream",
     "text": [
      "[[ 0.81444269 -0.27274371]] [-3.83775658]\n"
     ]
    }
   ],
   "source": [
    "svc2 = svm.SVC(kernel='linear') # libsvm\n",
    "svc2.fit(X1, y1)\n",
    "print(svc2.coef_, svc2.intercept_) # w1, w2, b"
   ]
  },
  {
   "cell_type": "code",
   "execution_count": 13,
   "metadata": {},
   "outputs": [
    {
     "data": {
      "text/plain": [
       "array([[ 4.658191,  3.507396],\n",
       "       [ 3.457096, -0.082216],\n",
       "       [ 6.080573,  0.418886]])"
      ]
     },
     "execution_count": 13,
     "metadata": {},
     "output_type": "execute_result"
    }
   ],
   "source": [
    "svc2.support_vectors_"
   ]
  },
  {
   "cell_type": "code",
   "execution_count": 14,
   "metadata": {},
   "outputs": [
    {
     "data": {
      "text/plain": [
       "array([[-0.12746518, -0.24133564,  0.36880082]])"
      ]
     },
     "execution_count": 14,
     "metadata": {},
     "output_type": "execute_result"
    }
   ],
   "source": [
    "svc2.dual_coef_"
   ]
  },
  {
   "cell_type": "code",
   "execution_count": 15,
   "metadata": {},
   "outputs": [
    {
     "data": {
      "image/png": "[encoded data removed]",
      "text/plain": [
       "<Figure size 432x288 with 1 Axes>"
      ]
     },
     "execution_count": 15,
     "metadata": {},
     "output_type": "execute_result"
    }
   ],
   "source": [
    "y_ = -(svc2.intercept_+svc2.coef_[0, 0]*x_)/svc2.coef_[0, 1]\n",
    "y1_ = -(svc2.intercept_-1.+svc2.coef_[0, 0]*x_)/svc2.coef_[0, 1]\n",
    "y2_ = -(svc2.intercept_+1.+svc2.coef_[0, 0]*x_)/svc2.coef_[0, 1]\n",
    "ax1.plot(x_, y_, ls='--', c='C3', label='sklearn')\n",
    "ax1.plot(x_, y1_, ls=':', c='C3')\n",
    "ax1.plot(x_, y2_, ls=':', c='C3')\n",
    "ax1.set_ylim((-6, 5))\n",
    "ax1.legend()\n",
    "fg1"
   ]
  },
  {
   "cell_type": "markdown",
   "metadata": {},
   "source": [
    "## SVC中的核技巧\n",
    "如在[线性回归](1_LinearRegression.ipynb#核技巧)中所述：通过使用核函数，我们隐式的在高维特征空间中做线性划分。  \n",
    "假如我们使用基函数$\\{ \\phi_i({\\bf x})\\}$，则软间隔SVC的对偶问题变为：  \n",
    "$\\boxed {\\max_{\\alpha} \\sum_{i=1}^m \\alpha_i - \\frac{1}{2} \\sum_i \\sum_j \\alpha_i \\alpha_j y_i y_j \\phi({\\bf x}_i)^T \\phi({\\bf x}_j) = \\max_{\\alpha} \\sum_{i=1}^m \\alpha_i - \\frac{1}{2} \\sum_i \\sum_j \\alpha_i \\alpha_j y_i y_j K({\\bf x}_i, {\\bf x}_j)  } $,  \n",
    "s.t. $\\sum_i \\alpha_i y_i = 0$, and $0 \\leq \\alpha_i \\leq C$.  \n",
    "\n",
    "因为强对偶，所以KKT条件成立：  \n",
    "- stationarity: ${\\bf w}=\\sum_i \\alpha_i y_i \\phi({\\bf x}_i)$,\n",
    "- dual feasible: $\\alpha_i \\geq 0$, and $\\mu_i \\geq 0$,  \n",
    "- prime feasible: $1-\\xi_i - y_i ({\\bf w}^T \\phi({\\bf x}_i)+b) = 1-\\xi_i - y_i (\\sum_j \\alpha_j y_j K({\\bf x}_j, {\\bf x}_i)+b) \\leq 0$, and $-\\xi_i \\leq 0$,  \n",
    "- complementary slackness: $\\alpha_i (1-\\xi_i-y_i ({\\bf w}^T \\phi({\\bf x}_i)+b))=\\alpha_i (1-\\xi_i-y_i (\\sum_j \\alpha_j y_j K({\\bf x}_j, {\\bf x}_i)+b))=0$, and $\\mu_i \\xi_i=0$.\n",
    "\n",
    "进行推断时：  \n",
    "$\\boxed {y = {\\bf w}^T \\phi({\\bf x}) + b = \\sum_i \\alpha_i y_i K({\\bf x}_i, {\\bf x}) + b}$"
   ]
  },
  {
   "cell_type": "code",
   "execution_count": 16,
   "metadata": {},
   "outputs": [],
   "source": [
    "\"\"\"\n",
    "基于SMO算法的核SVC\n",
    "\"\"\"\n",
    "# Some of the kernels\n",
    "def rbf(x1, x2, gamma):\n",
    "    \"\"\"\n",
    "    rbf kernel function\n",
    "    \"\"\"\n",
    "    return np.exp(-gamma*((x1-x2)**2).sum(axis=-1))\n",
    "\n",
    "def linear(x1, x2):\n",
    "    \"\"\"\n",
    "    linear kernel function\n",
    "    \"\"\"\n",
    "    return (x1*x2).sum(axis=-1)\n",
    "\n",
    "# main class\n",
    "class kernelSVC(linearSVC):\n",
    "    \"\"\"\n",
    "    Kernelized SVC\n",
    "    \"\"\"\n",
    "    \n",
    "    support_kernels = {'rbf': rbf, 'linear': linear}\n",
    "\n",
    "    def __init__(self, kernel='rbf', C=1., tol=1e-3, **kwds):\n",
    "        \"\"\"\n",
    "        Parameters\n",
    "        -------------\n",
    "        kernel : string, ='rbf', 'linear', or others\n",
    "            the kernel adopted\n",
    "        C : scalar, >0.\n",
    "            constant to control the regularization\n",
    "        tol : scalar, >0, default: 1e-3\n",
    "            tolerence of the fitting\n",
    "        \"\"\"\n",
    "        super().__init__(C=C, tol=tol, kernel=kernel, **kwds)\n",
    "    \n",
    "    def _init_model(self, kernel='rbf', **kwds):\n",
    "        \"\"\"\n",
    "        Parameters\n",
    "        -------------\n",
    "        kernel : string, ='rbf', 'linear', or function\n",
    "            the kernel adopted\n",
    "\n",
    "        Optional Parameters\n",
    "        -----------------------\n",
    "        gamma : scalar, >0.\n",
    "            for rbf kernel, gamma=0.5/sigma**2\n",
    "        \"\"\"\n",
    "        self.kernel_parameters_ = {}\n",
    "        if kernel in self.support_kernels:\n",
    "            self.kernel_ = kernel\n",
    "            kernel_func = self.support_kernels[kernel]\n",
    "        elif callable(kernel):\n",
    "            self.kernel_ = kernel.__name__\n",
    "            kernel_func = kernel\n",
    "        else:\n",
    "            raise ValueError('The kernel {} is not support now'.format(kernel))\n",
    "\n",
    "        for i in range(2, kernel_func.__code__.co_argcount):\n",
    "            var = kernel_func.__code__.co_varnames[i]\n",
    "            if var in kwds:\n",
    "                val = kwds[var]\n",
    "            else:\n",
    "                raise TypeError('parameter {} is required'.format(var))\n",
    "            self.kernel_parameters_[var] = val\n",
    "        self.kernel_function_ = lambda x1, x2: kernel_func(x1, x2, **self.kernel_parameters_)\n",
    "\n",
    "    def update_model(self, alpha, X_data, y_data):\n",
    "        \"\"\"\n",
    "        Update the bias and weight terms of the model.\n",
    "        \n",
    "        Parameters\n",
    "        -------------\n",
    "        alpha : (m, 1) array, 0<=alpha<=C\n",
    "            dual parameters\n",
    "        X_data : (m, n) array\n",
    "            training data\n",
    "        y_data : (m, 1) array, =+/-1\n",
    "            the label of training data\n",
    "        \"\"\"\n",
    "        idxs = self.support_vector_indices(alpha)\n",
    "        X_sv, y_sv = X_data[idxs, :], y_data[idxs, :]\n",
    "        self.support_vectors_ = X_sv\n",
    "        self.dual_coef_ = y_sv*alpha[idxs, :]\n",
    "        \n",
    "        n_support = len(idxs)\n",
    "        K = self.kernel_function_(X_sv.reshape(1, n_support, -1), X_sv.reshape(n_support, 1, -1))\n",
    "        self.b_ = (sum(1./y_sv) - (self.dual_coef_.reshape(1, n_support) *K).sum()) /y_sv.shape[0]\n",
    "\n",
    "    def predict(self, X):\n",
    "        \"\"\"\n",
    "        kernelized SVC model\n",
    "        \n",
    "        Parameters\n",
    "        -------------\n",
    "        X : (m', n) array\n",
    "            input features\n",
    "\n",
    "        Returns\n",
    "        ---------\n",
    "        y_pred : (m', 1)\n",
    "            predicted labels of input features\n",
    "        \"\"\"\n",
    "        if X.ndim == 1:\n",
    "            n_sample = 1\n",
    "        else:\n",
    "            n_sample = X.shape[0]\n",
    "        n_support = self.dual_coef_.shape[0]\n",
    "        #print(n_sample, n_support)\n",
    "        K = self.kernel_function_(self.support_vectors_.reshape(1, n_support, -1), X.reshape(n_sample, 1, -1))\n",
    "        y_pred = (self.dual_coef_.reshape(1, n_support) *K).sum(axis=-1, keepdims=True) + self.b_\n",
    "        #print(y_pred.shape, K.shape)\n",
    "        return y_pred\n",
    "    \n",
    "    def _init_fit(self, n):\n",
    "        self.dual_coef_ = np.array([[0.]])\n",
    "        self.support_vectors_ = np.array([[0.]*n])\n",
    "\n",
    "    def eta(self, xi, xj):\n",
    "        \"\"\"\n",
    "        Calculate eta=|| \\Phi(xi) - \\Phi(xj) ||^2\n",
    "        \"\"\"\n",
    "        kii = self.kernel_function_(xi, xi)\n",
    "        kjj = self.kernel_function_(xj, xj)\n",
    "        kij = self.kernel_function_(xi, xj)\n",
    "        return kii+kjj-2.*kij\n",
    "\n",
    "    def dual_gain(self):\n",
    "        \"\"\"\n",
    "        Calculate only with support vectors\n",
    "        \n",
    "        Returns\n",
    "        --------\n",
    "        gain : scalar\n",
    "        \"\"\"\n",
    "        #print(self.support_vectors_)\n",
    "        nfeature = self.support_vectors_.shape[-1]\n",
    "        K = self.kernel_function_(self.support_vectors_.reshape(-1, 1, nfeature), self.support_vectors_.reshape(1, -1, nfeature))\n",
    "        return np.abs(self.dual_coef_).sum() - 0.5*(self.dual_coef_.reshape(-1, 1)*K*self.dual_coef_.reshape(1, -1)).sum()\n",
    "    \n",
    "    def loss(self, X_data, y_data):\n",
    "        \"\"\"\n",
    "        Parameters\n",
    "        -------------\n",
    "        X_data : (m, n) array\n",
    "            training data\n",
    "        y_data : (m, 1) array, =+/-1\n",
    "            the label of training data\n",
    "\n",
    "        Returns\n",
    "        ---------\n",
    "        loss : scalar\n",
    "        \"\"\"\n",
    "        nfeature = self.support_vectors_.shape[-1]\n",
    "        y_pred = self.predict(X_data)\n",
    "        K = self.kernel_function_(self.support_vectors_.reshape(-1, 1, nfeature), self.support_vectors_.reshape(1, -1, nfeature))\n",
    "        return 0.5*(self.dual_coef_.reshape(-1, 1)*K*self.dual_coef_.reshape(1, -1)).sum() + \\\n",
    "                    self.C_*np.maximum(0., 1.-y_data*y_pred).sum()"
   ]
  },
  {
   "cell_type": "code",
   "execution_count": 17,
   "metadata": {},
   "outputs": [
    {
     "name": "stdout",
     "output_type": "stream",
     "text": [
      "0.676771\t-0.486687\t-1.000000\r",
      "\r\n",
      "0.008473\t0.186070\t1.000000\r",
      "\r\n",
      "-0.727789\t0.594062\t-1.000000\r",
      "\r\n",
      "0.112367\t0.287852\t1.000000\r",
      "\r\n",
      "0.383633\t-0.038068\t1.000000\r",
      "\r\n",
      "-0.927138\t-0.032633\t-1.000000\r",
      "\r\n",
      "-0.842803\t-0.423115\t-1.000000\r",
      "\r\n",
      "-0.003677\t-0.367338\t1.000000\r",
      "\r\n",
      "0.443211\t-0.698469\t-1.000000\r",
      "\r\n",
      "-0.473835\t0.005233\t1.000000\r",
      "\r\n"
     ]
    }
   ],
   "source": [
    "!head datasets/MLiA/Ch06/testSetRBF2.txt"
   ]
  },
  {
   "cell_type": "code",
   "execution_count": 18,
   "metadata": {},
   "outputs": [],
   "source": [
    "raw = np.loadtxt('datasets/MLiA/Ch06/testSetRBF2.txt')\n",
    "X2, y2 = raw[:, :-1], raw[:, -1]"
   ]
  },
  {
   "cell_type": "code",
   "execution_count": 19,
   "metadata": {},
   "outputs": [
    {
     "data": {
      "text/plain": [
       "[<matplotlib.lines.Line2D at 0x7fd9d49b0a58>]"
      ]
     },
     "execution_count": 19,
     "metadata": {},
     "output_type": "execute_result"
    },
    {
     "data": {
      "image/png": "[encoded data removed]",
      "text/plain": [
       "<Figure size 432x288 with 1 Axes>"
      ]
     },
     "metadata": {},
     "output_type": "display_data"
    }
   ],
   "source": [
    "fg2, ax2 = plt.subplots()\n",
    "ax2.plot(X2[y2>0, 0], X2[y2>0, 1], marker='o', ms=5, ls='None')\n",
    "ax2.plot(X2[y2<0, 0], X2[y2<0, 1], marker='x', ms=5, ls='None')"
   ]
  },
  {
   "cell_type": "code",
   "execution_count": 20,
   "metadata": {},
   "outputs": [
    {
     "name": "stdout",
     "output_type": "stream",
     "text": [
      "iter=0, dual=28.246833540591773\n",
      "iter=1, dual=32.29520308822113\n",
      "iter=2, dual=34.3007842275494\n",
      "iter=3, dual=34.94003913664278\n",
      "iter=4, dual=35.18092181794687\n",
      "iter=5, dual=35.27198005313829\n",
      "iter=6, dual=35.28588882120175\n",
      "iter=7, dual=35.30820879928412\n",
      "iter=8, dual=35.33021417840938\n",
      "iter=9, dual=35.349882195500044\n",
      "iter=10, dual=35.36883205289229\n",
      "iter=11, dual=35.38724729389946\n",
      "iter=12, dual=35.40455233127854\n",
      "iter=13, dual=35.420363255310264\n",
      "iter=14, dual=35.434555614943974\n",
      "iter=15, dual=35.4462957899434\n",
      "iter=16, dual=35.45377399645051\n",
      "iter=17, dual=35.459074161049855\n",
      "iter=18, dual=35.460939348982826\n",
      "iter=19, dual=35.4609706886898\n",
      "iter=20, dual=35.46097215351619\n",
      "iter=21, dual=35.46097292402557\n",
      "iter=22, dual=35.46097329074104\n",
      "iter=23, dual=35.46097347452584\n",
      "iter=24, dual=35.46097356594838\n",
      "iter=25, dual=35.46097361148095\n",
      "iter=26, dual=35.46097363415389\n",
      "iter=27, dual=35.46097364544421\n",
      "iter=28, dual=35.46097365106637\n",
      "iter=29, dual=35.460973653866\n",
      "iter=30, dual=35.46097365530574\n",
      "iter=31, dual=35.46097365607653\n",
      "iter=32, dual=35.46097365637431\n",
      "iter=33, dual=35.46097365651202\n",
      "iter=34, dual=35.46097365658727\n",
      "iter=35, dual=35.46097365661832\n",
      "iter=36, dual=35.46097365663272\n",
      "iter=37, dual=35.46097365664171\n",
      "iter=38, dual=35.46097365664281\n",
      "iter=39, dual=35.460973656642864\n",
      "iter=40, dual=35.460973656642864\n",
      "iter=41, dual=35.460973656642864\n"
     ]
    }
   ],
   "source": [
    "mysvc2 = kernelSVC(gamma=1., C=1.)\n",
    "alpha2 = mysvc2.fit(X2, y2)"
   ]
  },
  {
   "cell_type": "code",
   "execution_count": 21,
   "metadata": {},
   "outputs": [
    {
     "data": {
      "image/png": "[encoded data removed]",
      "text/plain": [
       "<Figure size 432x288 with 1 Axes>"
      ]
     },
     "execution_count": 21,
     "metadata": {},
     "output_type": "execute_result"
    }
   ],
   "source": [
    "ax2.plot(mysvc2.support_vectors_[:, 0], mysvc2.support_vectors_[:, 1],\n",
    "              ls='None', marker='o', label='support vectors', c='None', mec='k', ms=10)\n",
    "ax2.legend()\n",
    "fg2"
   ]
  },
  {
   "cell_type": "markdown",
   "metadata": {},
   "source": [
    "#### sklearn"
   ]
  },
  {
   "cell_type": "code",
   "execution_count": 22,
   "metadata": {},
   "outputs": [
    {
     "data": {
      "text/plain": [
       "SVC(C=1.0, cache_size=200, class_weight=None, coef0=0.0,\n",
       "  decision_function_shape='ovr', degree=3, gamma=1.0, kernel='rbf',\n",
       "  max_iter=-1, probability=False, random_state=None, shrinking=True,\n",
       "  tol=0.001, verbose=False)"
      ]
     },
     "execution_count": 22,
     "metadata": {},
     "output_type": "execute_result"
    }
   ],
   "source": [
    "svc3 = svm.SVC(kernel='rbf', gamma=1., C=1.)\n",
    "svc3.fit(X2, y2)"
   ]
  },
  {
   "cell_type": "code",
   "execution_count": 23,
   "metadata": {},
   "outputs": [
    {
     "data": {
      "image/png": "[encoded data removed]",
      "text/plain": [
       "<Figure size 432x288 with 1 Axes>"
      ]
     },
     "execution_count": 23,
     "metadata": {},
     "output_type": "execute_result"
    }
   ],
   "source": [
    "ax2.plot(svc3.support_vectors_[:, 0], svc3.support_vectors_[:, 1],\n",
    "              ls='None', marker='s', label='support vectors', c='None', mec='k', ms=10)\n",
    "fg2"
   ]
  },
  {
   "cell_type": "code",
   "execution_count": 24,
   "metadata": {},
   "outputs": [
    {
     "data": {
      "text/plain": [
       "[<matplotlib.lines.Line2D at 0x7fd9d48757f0>]"
      ]
     },
     "execution_count": 24,
     "metadata": {},
     "output_type": "execute_result"
    },
    {
     "data": {
      "image/png": "[encoded data removed]",
      "text/plain": [
       "<Figure size 432x288 with 1 Axes>"
      ]
     },
     "metadata": {},
     "output_type": "display_data"
    }
   ],
   "source": [
    "# the predicted labels\n",
    "fg3, ax3 = plt.subplots()\n",
    "ax3.plot(X2[y2>0, 0], X2[y2>0, 1], marker='o', ms=5, ls='None', c='C0')\n",
    "ax3.plot(X2[y2<0, 0], X2[y2<0, 1], marker='x', ms=5, ls='None', c='C1')\n",
    "\n",
    "#y2_pred = svc3.predict(X2)\n",
    "y2_pred = mysvc2.predict(X2)[:, 0]\n",
    "ax3.plot(X2[y2_pred>0, 0], X2[y2_pred>0, 1], marker='s', ms=10, ls='None', c='None', mec='C0')\n",
    "ax3.plot(X2[y2_pred<0, 0], X2[y2_pred<0, 1], marker='D', ms=7, ls='None', c='None', mec='C1')"
   ]
  },
  {
   "cell_type": "markdown",
   "metadata": {},
   "source": [
    "## SVR"
   ]
  },
  {
   "cell_type": "markdown",
   "metadata": {},
   "source": [
    "支持向量回归(SVR)容忍$f({\\bf x}_i)$与$y_i$存在最多$\\epsilon$的偏差，即只有差别大于$\\epsilon$时才计算损失。这相当于以$f({\\bf x})$为中心构建了一个$2\\epsilon$的带子。  \n",
    "SVR问题形式化为：\n",
    "$\\min_{{\\bf w}, b} \\frac{1}{2} \\| {\\bf w} \\|^2 + C \\sum_{i=1}^m \\ell_\\epsilon(f({\\bf x}_i) - y_i )$，其中  $\\ell_\\epsilon(z) = \\max(0, |z|-\\epsilon)$。\n",
    "\n",
    "引入松弛变量$\\xi_i, \\eta_i \\geq 0$"
   ]
  },
  {
   "cell_type": "code",
   "execution_count": null,
   "metadata": {},
   "outputs": [],
   "source": []
  }
 ],
 "metadata": {
  "kernelspec": {
   "display_name": "Python [conda env:tensorflow]",
   "language": "python",
   "name": "conda-env-tensorflow-py"
  },
  "language_info": {
   "codemirror_mode": {
    "name": "ipython",
    "version": 3
   },
   "file_extension": ".py",
   "mimetype": "text/x-python",
   "name": "python",
   "nbconvert_exporter": "python",
   "pygments_lexer": "ipython3",
   "version": "3.6.5"
  }
 },
 "nbformat": 4,
 "nbformat_minor": 2
}

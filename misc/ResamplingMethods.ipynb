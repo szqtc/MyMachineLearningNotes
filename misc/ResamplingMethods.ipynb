{
 "cells": [
  {
   "cell_type": "markdown",
   "metadata": {},
   "source": [
    "# 测试集\n",
    "测试集用以测试和评估学习器对新样本的判断能力，具体来说就是用测试集上的测试误差来对泛化误差进行估计。其中，测试集可以通过**留出法**（hold-out，将数据集分成互斥的两个集合，一个用于训练(66.7%-75%)，另一个用于测试），**交叉验证法**（cross validation，将数据集分成k个大小相似的子集，用其中的k-1个作为训练集，其他作为测试集。类似于Jackknife法），**自助法**。"
   ]
  },
  {
   "cell_type": "markdown",
   "metadata": {},
   "source": [
    "# 自助法 (bootstrapping)\n",
    "自助法通过随机可放回地从原始样本中取样，来估计参数的分布(robust estimates of standard errors and confidence intervals of a population parameter like a mean, median, proportion, odds ratio, correlation coefficient or regression coefficient)."
   ]
  },
  {
   "cell_type": "code",
   "execution_count": 1,
   "metadata": {},
   "outputs": [],
   "source": [
    "import random\n",
    "import numpy as np\n",
    "from matplotlib import pyplot as plt\n",
    "%matplotlib inline"
   ]
  },
  {
   "cell_type": "code",
   "execution_count": 2,
   "metadata": {},
   "outputs": [],
   "source": [
    "# make a random samples\n",
    "samp = np.random.randn(10000)"
   ]
  },
  {
   "cell_type": "code",
   "execution_count": 3,
   "metadata": {},
   "outputs": [],
   "source": [
    "# bootstrap method\n",
    "def bootstrap0(a, size):\n",
    "    \"algorithm without using numpy\"\n",
    "    samp_bs = []\n",
    "    for _ in range(size):\n",
    "        i = int(random.random() * size)\n",
    "        samp_bs.append(a[i])\n",
    "    return samp_bs\n",
    "\n",
    "def bootstrap(a, size):\n",
    "    \"algorithm using numpy\"\n",
    "    return np.random.choice(a, size, replace=True)"
   ]
  },
  {
   "cell_type": "code",
   "execution_count": 4,
   "metadata": {},
   "outputs": [],
   "source": [
    "# generate bootstrap sample\n",
    "samp_bs0 = bootstrap0(samp, 10000)\n",
    "samp_bs  = bootstrap(samp, 10000)"
   ]
  },
  {
   "cell_type": "code",
   "execution_count": 5,
   "metadata": {},
   "outputs": [
    {
     "name": "stderr",
     "output_type": "stream",
     "text": [
      "/home/szqtc/Softwares/Anaconda/INSTALLED/envs/tensorflow/lib/python3.6/site-packages/matplotlib/axes/_axes.py:6462: UserWarning: The 'normed' kwarg is deprecated, and has been replaced by the 'density' kwarg.\n",
      "  warnings.warn(\"The 'normed' kwarg is deprecated, and has been \"\n"
     ]
    },
    {
     "data": {
      "text/plain": [
       "<matplotlib.legend.Legend at 0x7f41ebd14438>"
      ]
     },
     "execution_count": 5,
     "metadata": {},
     "output_type": "execute_result"
    },
    {
     "data": {
      "image/png": "[encoded data removed]",
      "text/plain": [
       "<Figure size 432x288 with 1 Axes>"
      ]
     },
     "metadata": {},
     "output_type": "display_data"
    }
   ],
   "source": [
    "# compare two samples\n",
    "\n",
    "h, bins, pa = plt.hist(samp, bins=100, histtype='step', normed=True, label='original')\n",
    "plt.hist(samp_bs, bins=bins, histtype='step', normed=True, label='bootstrap', ls='--')\n",
    "plt.hist(samp_bs0, bins=bins, histtype='step', normed=True, label='bootstrap0', ls='-.')\n",
    "plt.legend()"
   ]
  },
  {
   "cell_type": "code",
   "execution_count": 6,
   "metadata": {},
   "outputs": [
    {
     "name": "stdout",
     "output_type": "stream",
     "text": [
      "重采样样本由63.57% (~1-1/e)的原始样本构成。\n"
     ]
    }
   ],
   "source": [
    "print('重采样样本由{:.2%} (~1-1/e)的原始样本构成。'.format(len(set(samp_bs))/len(set(samp))))"
   ]
  },
  {
   "cell_type": "markdown",
   "metadata": {},
   "source": [
    "## 参数估计"
   ]
  },
  {
   "cell_type": "code",
   "execution_count": 7,
   "metadata": {},
   "outputs": [],
   "source": [
    "# 做500次自助\n",
    "n_sample = 5\n",
    "samples = [bootstrap(samp, 10000) for _ in range(n_sample)]"
   ]
  },
  {
   "cell_type": "code",
   "execution_count": 8,
   "metadata": {},
   "outputs": [
    {
     "name": "stdout",
     "output_type": "stream",
     "text": [
      "evaluated mean=0.0013 +/- 0.0097\n",
      "expected mean=0.00 +/- 0.01\n"
     ]
    }
   ],
   "source": [
    "# 估计样本均值的误差\n",
    "means = [samp_.mean() for samp_ in samples]\n",
    "print('evaluated mean={:.4f} +/- {:.4f}'.format(samp.mean(), np.std(means)))\n",
    "print('expected mean=0.00 +/- {:.2f}'.format(np.sqrt(1./10000))) # std(X_mean) = X_std/sqrt(N)"
   ]
  },
  {
   "cell_type": "code",
   "execution_count": 9,
   "metadata": {},
   "outputs": [
    {
     "name": "stdout",
     "output_type": "stream",
     "text": [
      "evaluated var=0.9997 +/- 0.0094\n",
      "expected var=1.0000 +/- 0.0141\n"
     ]
    }
   ],
   "source": [
    "# 估计方差的误差\n",
    "vars_ = [samp_.var() for samp_ in samples]\n",
    "print('evaluated var={:.4f} +/- {:.4f}'.format(samp.var(), np.std(vars_)))\n",
    "print('expected var=1.0000 +/- {:.4f}'.format( np.sqrt(2.*1.**4/10000))) # std(X_var) = sqrt(2/N)*sigma_X^2"
   ]
  },
  {
   "cell_type": "markdown",
   "metadata": {},
   "source": [
    "# 刀切法 (Jackknife)\n",
    "刀切法每次按顺序去掉样本集中的一些样本，重新做参数估计。由不同的样本估计出的参数值可以用来获得参数的方差和偏差。\n",
    "\n",
    "Jackknifing, which is similar to bootstrapping, is used in statistical inference to estimate the bias and standard error (variance) of a statistic, when a random sample of observations is used to calculate it."
   ]
  },
  {
   "cell_type": "code",
   "execution_count": 22,
   "metadata": {},
   "outputs": [],
   "source": [
    "# 做50次刀切\n",
    "n_sample = 200\n",
    "num_per_samp = samp.size//n_sample\n",
    "\n",
    "samples_jk = []\n",
    "for i in range(n_sample):\n",
    "    if i == 0:\n",
    "        s = []\n",
    "    else:\n",
    "        s = samp[(i-1)*num_per_samp::num_per_samp].tolist()\n",
    "    s += samp[(i+1)*num_per_samp::num_per_samp].tolist()\n",
    "    samples_jk.append(np.array(s))"
   ]
  },
  {
   "cell_type": "markdown",
   "metadata": {},
   "source": [
    "### 参数估计\n",
    "- **delete-1 Jackknife Samples** are selected by taking the original data vector and deleting one observation from the set.  \n",
    "    The ith Jackknife Replicate is defined as the value of the estimator $s(\\cdot)$ evaluated at the i-th Jackknife sample. ${\\hat \\theta}_{(i)} := s(X_{[i]})$.   \n",
    "    The Jackknife Standard Error is defined \n",
    "    $$SE({\\hat \\theta}) = \\sqrt{ \\frac{n-1}{n} \\sum_{i=1}^{n} ({\\hat \\theta}_{(i)} - {\\hat \\theta}_{(\\cdot)})^2}$$,\n",
    "    where ${\\hat \\theta}_{(\\cdot)} = 1/n \\times \\sum_{i=1}^n {\\hat \\theta}_{(i)}$.\n",
    "    \n",
    "- **delete − d Jackknife**, where $\\sqrt{n} < d < n-1$, is a consistent estimator.\n",
    "    The Jackknife Standard Error is defined \n",
    "    $$SE({\\hat \\theta}) = \\sqrt{ \\frac{n-d}{d \\, C_n^d} \\sum_{i=1}^{n} ({\\hat \\theta}_{(i)} - {\\hat \\theta}_{(\\cdot)})^2}$$"
   ]
  },
  {
   "cell_type": "code",
   "execution_count": 28,
   "metadata": {},
   "outputs": [],
   "source": [
    "from scipy.special import comb\n",
    "\n",
    "def eval_err(samp, delete_num, func):\n",
    "    thetas = np.array([func(s) for s in samp])\n",
    "    thetas_err = ((thetas-thetas.mean())**2).sum()\n",
    "    print(thetas_err)\n",
    "    \n",
    "    N = len(samp)\n",
    "    d = delete_num\n",
    "    c_n_d = comb(N-d, d)\n",
    "    print(N, d, c_n_d)\n",
    "    return np.sqrt(thetas_err/c_n_d*((N-d)/d))"
   ]
  },
  {
   "cell_type": "code",
   "execution_count": 29,
   "metadata": {},
   "outputs": [
    {
     "name": "stdout",
     "output_type": "stream",
     "text": [
      "5.076466066789313\n",
      "200 50 2.0128660909731936e+40\n",
      "evaluated mean=0.0013 +/- 0.0000\n",
      "expected mean=0.00 +/- 0.01\n"
     ]
    }
   ],
   "source": [
    "# 估计样本均值的误差\n",
    "means_jk = [samp_.mean() for samp_ in samples_jk]\n",
    "print('evaluated mean={:.4f} +/- {:.4f}'.format(samp.mean(), eval_err(samples_jk, num_per_samp, np.mean))) #????\n",
    "print('expected mean=0.00 +/- {:.2f}'.format(np.sqrt(1./10000))) # std(X_mean) = X_std/sqrt(N)"
   ]
  },
  {
   "cell_type": "code",
   "execution_count": null,
   "metadata": {},
   "outputs": [],
   "source": []
  }
 ],
 "metadata": {
  "kernelspec": {
   "display_name": "Python [conda env:tensorflow]",
   "language": "python",
   "name": "conda-env-tensorflow-py"
  },
  "language_info": {
   "codemirror_mode": {
    "name": "ipython",
    "version": 3
   },
   "file_extension": ".py",
   "mimetype": "text/x-python",
   "name": "python",
   "nbconvert_exporter": "python",
   "pygments_lexer": "ipython3",
   "version": "3.6.5"
  }
 },
 "nbformat": 4,
 "nbformat_minor": 2
}

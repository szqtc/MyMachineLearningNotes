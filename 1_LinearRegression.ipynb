{
 "cells": [
  {
   "cell_type": "markdown",
   "metadata": {},
   "source": [
    "# 线性回归\n",
    "<!-- \n",
    "Author: Zhaoqiang SHEN\n",
    "Date: 2018/08/22\n",
    "Contact: szqtclx@gmail.com\n",
    "\n",
    "TODO LISTS:\n",
    "1. 讨论metrics\n",
    "2. train test split\n",
    "3. 核技巧举例\n",
    "4. tensorflow使用例\n",
    "5. 多分类问题\n",
    "6. unbalanced datasets\n",
    "-->"
   ]
  },
  {
   "cell_type": "code",
   "execution_count": 1,
   "metadata": {},
   "outputs": [
    {
     "name": "stderr",
     "output_type": "stream",
     "text": [
      "/home/szqtc/Softwares/Anaconda/INSTALLED/envs/tensorflow/lib/python3.6/site-packages/h5py/__init__.py:36: FutureWarning: Conversion of the second argument of issubdtype from `float` to `np.floating` is deprecated. In future, it will be treated as `np.float64 == np.dtype(float).type`.\n",
      "  from ._conv import register_converters as _register_converters\n"
     ]
    }
   ],
   "source": [
    "import numpy as np\n",
    "from matplotlib import pyplot as plt\n",
    "%matplotlib inline\n",
    "\n",
    "# scikit-learn\n",
    "from sklearn import linear_model \n",
    "from sklearn import metrics\n",
    "\n",
    "# tensorflow\n",
    "import tensorflow as tf"
   ]
  },
  {
   "cell_type": "markdown",
   "metadata": {},
   "source": [
    "## 线性模型\n",
    "线性模型：$f({\\bf x}) = w_1 x_1 + w_2 x_2 + \\cdots + w_d x_d + b = {\\bf x}^T { \\bf \\hat w}$，其中${\\bf \\hat w}=({\\bf w}; b) = (w_1, w_2, \\cdots, b)^T$。  \n",
    "损失函数（欧几里得距离）：\n",
    "$J({\\bf \\hat w}) = \\sum_{i=1}^{m} [ f({\\bf x}^{(i)}; {\\bf \\hat w}) - y^{(i)} ]^2 = ({\\bf Xw-y})^T({\\bf Xw-y})$。  \n",
    "最小化损失函数可得模型参数：\n",
    "$\\boxed{ {\\bf \\hat w}^\\star = ({\\bf X}^T {\\bf X})^{-1} {\\bf X}^T {\\bf y}}$, 其中${\\bf X}=({\\bf x}_1^{T}; {\\bf x}_2^{T}; \\cdots; {\\bf x}_m^{T})$。\n",
    "\n",
    "### 线性回归的特点\n",
    "优点：结果易于理解，计算上不复杂。  \n",
    "缺点：对非线性的数据拟合不好。  \n",
    "适用于数据类型：数值型和标称型数据。  "
   ]
  },
  {
   "cell_type": "code",
   "execution_count": 2,
   "metadata": {},
   "outputs": [],
   "source": [
    "# 准备数据\n",
    "raw_data = np.loadtxt('datasets/MLiA/Ch08/ex0.txt') # Machine Learning in Action, Chap8\n",
    "X = raw_data[:, :-1] # (1., x_1, x_2, ...) for each vector\n",
    "y = raw_data[:, -1]"
   ]
  },
  {
   "cell_type": "code",
   "execution_count": 3,
   "metadata": {},
   "outputs": [
    {
     "data": {
      "text/plain": [
       "array([3.00774324, 1.69532264])"
      ]
     },
     "execution_count": 3,
     "metadata": {},
     "output_type": "execute_result"
    }
   ],
   "source": [
    "w = np.linalg.inv(X.T @ X) @ X.T @ y\n",
    "w"
   ]
  },
  {
   "cell_type": "code",
   "execution_count": 4,
   "metadata": {},
   "outputs": [
    {
     "data": {
      "text/plain": [
       "<matplotlib.legend.Legend at 0x7f2ad04d1be0>"
      ]
     },
     "execution_count": 4,
     "metadata": {},
     "output_type": "execute_result"
    },
    {
     "data": {
      "image/png": "[encoded data removed]",
      "text/plain": [
       "<Figure size 432x288 with 1 Axes>"
      ]
     },
     "metadata": {},
     "output_type": "display_data"
    }
   ],
   "source": [
    "fg0 = plt.figure()\n",
    "ax0 = fg0.add_subplot(111)\n",
    "ax0.plot(X[:, 1], y, marker='o', ms=3, ls='None')\n",
    "ax0.plot([0., 1.], np.array([[1, 0], [1, 1]])@w.reshape(2, 1), ls='-', label='1st order')\n",
    "ax0.legend()"
   ]
  },
  {
   "cell_type": "code",
   "execution_count": 5,
   "metadata": {},
   "outputs": [
    {
     "name": "stdout",
     "output_type": "stream",
     "text": [
      "RSS= 1.3552490816814913\n",
      "RSE= 0.08273265577584647\n",
      "R2= 0.9731300889856915\n"
     ]
    }
   ],
   "source": [
    "#拟合优度\n",
    "## RSE\n",
    "y_pred = X@w # a@b=np.dot(a, b) for Python 3\n",
    "RSS = ((y_pred-y)**2).sum()\n",
    "print('RSS=', RSS)\n",
    "print('RSE=', np.sqrt(RSS/(len(y_pred)-2)))\n",
    "\n",
    "## R^2\n",
    "TSS = ((y-y.mean())**2).sum()\n",
    "print(\"R2=\", 1-RSS/TSS)"
   ]
  },
  {
   "cell_type": "markdown",
   "metadata": {},
   "source": [
    "#### sklearn"
   ]
  },
  {
   "cell_type": "code",
   "execution_count": 6,
   "metadata": {},
   "outputs": [
    {
     "name": "stdout",
     "output_type": "stream",
     "text": [
      "3.007743242697591 [1.69532264]\n"
     ]
    }
   ],
   "source": [
    "lin = linear_model.LinearRegression()\n",
    "lin.fit(X[:, 1:], y)\n",
    "print(lin.intercept_, lin.coef_) # b, w"
   ]
  },
  {
   "cell_type": "markdown",
   "metadata": {},
   "source": [
    "### 正则化\n",
    "$J({\\bf w}) =\\Omega(f) + C/m \\sum_{i=1}^m \\ell(f({\\bf x}_i), y_i) $，后者是经验风险（描述模型与训练数据的契合度），前者是结构风险（引入模型结构因素后的总体风险）。$C$是正则化常数，正则化项通常为$L_p$范数$\\equiv \\| {\\bf w} \\|_p$，$L_2$使得分量取值均衡、非零分量稠密，$L_1$和$L_0$使非零分量尽量少。而后者常用于特征选择（属于嵌入式特征选择，特征选择和模型学习过程一同进行）。\n",
    "\n",
    "#### 欧几里得距离 + L2正则项\n",
    "\n",
    "$J({\\bf \\hat w}) = C/m ({\\bf Xw-y})^T({\\bf Xw-y}) + {\\bf w}^T{\\bf w}$，  \n",
    "易得，\n",
    "$\\boxed{ {\\bf \\hat w}^\\star = ({\\bf X}^T {\\bf X} + m/C \\, {\\bf I})^{-1} {\\bf X}^T {\\bf y}}$。（当不对截距项限制时，将截距对应的单位矩阵中的元素置为0）\n",
    "\n",
    "1. 由于正则化项的存在，使得${\\bf w}_{i+1} = {\\bf w}_i -\\eta \\nabla_{{\\bf w}_i} J = (1-\\eta m/C){\\bf w}_i + \\cdots$，即每一步相对于上一步参数值有缩减。\n",
    "2. ${\\bf I}$项使得原来可能不可逆的矩阵变得可逆。\n",
    "\n",
    "#### 近端梯度下降\n",
    "\n",
    "找个二阶导的最大值。"
   ]
  },
  {
   "cell_type": "markdown",
   "metadata": {},
   "source": [
    "### 线性基函数 （Linear Basis Function）\n",
    "在某些情况下，特征无法线性可分。此时可以通过将特征向量投影到更高维特征空间（${\\bf x} \\to \\phi({\\bf x})$）来使问题可分，其中集合$\\{ \\phi_i({\\bf x})\\}$称为**基函数**。  \n",
    "对于已知的基函数，新的模型可写为：$f({\\bf x}) = \\sum_j w_j \\phi_j({\\bf x}) = {\\bf\\phi(x)}^T\\,{\\bf \\hat w} $，其中$\\phi({\\bf x})=(\\phi_1({\\bf x}), \\phi_2({\\bf x}), \\cdots, \\phi_n({\\bf x}))^T$。  \n",
    "假设损失函数是欧几里得距离，可解得参数：\n",
    "${\\bf \\hat w}^\\star = ({\\bf \\Phi}({\\bf X})^T {\\bf \\Phi}({\\bf X}))^{-1} {\\bf \\Phi}({\\bf X})^T {\\bf y}$，其中${\\bf \\Phi}({\\bf X}) = (\\phi({\\bf x}_1)^T; \\phi({\\bf x}_2)^T; \\cdots; \\phi({\\bf x}_m)^T)$。  \n",
    "最终模型为：\n",
    "$\\boxed{f({\\bf x}) = {\\bf \\phi}({\\bf x})^T {\\bf \\hat w}^\\star = \\phi({\\bf x})^T \\Phi({\\bf X})^T (\\Phi({\\bf X}) \\Phi({\\bf X})^T)^{-1} {\\bf y} = \\kappa({\\bf X, x}) \\kappa({\\bf X, X}) ^{-1} {\\bf y}  }$ (规范正交基)"
   ]
  },
  {
   "cell_type": "markdown",
   "metadata": {},
   "source": [
    "下面以多项式基函数$\\phi_j(x) = x^j, (j=0,1,2,3)$为例：\n",
    "<!-- $f({\\bf x}) = {\\bf \\phi}({\\bf x})^T {\\bf \\hat w}^\\star = \\phi({\\bf x})^T {\\bf \\phi}({\\bf X}) {\\bf y}$ -->"
   ]
  },
  {
   "cell_type": "code",
   "execution_count": 7,
   "metadata": {},
   "outputs": [
    {
     "data": {
      "text/plain": [
       "array([ 3.07420047,  0.99248267,  1.66903408, -1.07368127])"
      ]
     },
     "execution_count": 7,
     "metadata": {},
     "output_type": "execute_result"
    }
   ],
   "source": [
    "X_lb = np.c_[X, X[:, 1]**2, X[:, 1]**3] # xm = (1, xm, xm^2, xm^3)\n",
    "w_lb = np.linalg.inv(X_lb.T @ X_lb) @ X_lb.T @ y\n",
    "w_lb"
   ]
  },
  {
   "cell_type": "code",
   "execution_count": 8,
   "metadata": {},
   "outputs": [
    {
     "data": {
      "image/png": "[encoded data removed]",
      "text/plain": [
       "<Figure size 432x288 with 1 Axes>"
      ]
     },
     "execution_count": 8,
     "metadata": {},
     "output_type": "execute_result"
    }
   ],
   "source": [
    "x_lb = np.linspace(0, 1, 100)\n",
    "y_lb_pred = np.c_[np.ones_like(x_lb), x_lb, x_lb**2, x_lb**3] @ w_lb\n",
    "ax0.plot(x_lb, y_lb_pred, ls='-.', label='3st order')\n",
    "ax0.legend()\n",
    "fg0"
   ]
  },
  {
   "cell_type": "code",
   "execution_count": 9,
   "metadata": {},
   "outputs": [
    {
     "name": "stdout",
     "output_type": "stream",
     "text": [
      "RSS= 1.2765005444945323\n",
      "RSE= 0.08029304108664762\n",
      "R2= 0.9746914006407382\n"
     ]
    }
   ],
   "source": [
    "## RSE\n",
    "y_pred = X_lb@w_lb\n",
    "RSS = ((y_pred-y)**2).sum()\n",
    "print('RSS=', RSS)\n",
    "print('RSE=', np.sqrt(RSS/(len(y_pred)-2)))\n",
    "\n",
    "## R^2\n",
    "TSS = ((y-y.mean())**2).sum()\n",
    "print(\"R2=\", 1-RSS/TSS)"
   ]
  },
  {
   "cell_type": "markdown",
   "metadata": {},
   "source": [
    "#### sklearn"
   ]
  },
  {
   "cell_type": "code",
   "execution_count": 10,
   "metadata": {},
   "outputs": [
    {
     "name": "stdout",
     "output_type": "stream",
     "text": [
      "3.074200469003543 [ 0.99248267  1.66903408 -1.07368127]\n"
     ]
    }
   ],
   "source": [
    "lin2 = linear_model.LinearRegression()\n",
    "lin2.fit(X_lb[:, 1:], y)\n",
    "print(lin2.intercept_, lin2.coef_) # b, w"
   ]
  },
  {
   "cell_type": "markdown",
   "metadata": {},
   "source": [
    "### 核技巧\n",
    "核函数可以通过基函数内积获得，即$\\kappa({\\bf x}_1, {\\bf x}_2) = \\phi({\\bf x}_1)^T \\phi({\\bf x}_2)$。但当特征空间维度很高时，计算基函数间的内积将很耗计算时间。但是，下面两定理让我们可以完全回避掉基函数。通过直接使用核函数来替代基函数内积，我们隐式地在高维特征空间中学习线性模型，这个方法称为**核技巧**：\n",
    "\n",
    "**核函数**：（定理6.1）令$\\mathcal{X}$为输入空间，$\\kappa(\\cdot, \\cdot)$是定义在$\\mathcal{X} \\times \\mathcal{X}$上的对称函数，则$\\kappa$是核函数当且仅当对于**任意**数据$D=\\{{\\bf x}_1, {\\bf x}_2, \\cdots, {\\bf x}_m\\}$，核矩阵$K$总是*半正定*的：$K = (\\kappa({\\bf x}_i, {\\bf x}_j))$。  \n",
    "也就是说，对称函数的半正定矩阵总能作为核函数使用，并且隐式地定义了一个名为**再生核希尔伯特空间**的特征空间。\n",
    "\n",
    "**表示理论**：令${\\Bbb H}$为核函数$\\kappa$对应的再生核希尔伯特空间，$\\|h\\|_{\\Bbb H}$表示${\\Bbb H}$空间中关于$h$的范数，对于任意单调递增函数$\\Omega: [0,\\infty] \\mapsto {\\Bbb R}$和任意非负损失函数$\\ell: {\\Bbb R}^m \\mapsto [0, \\infty]$，优化问题 \n",
    "$\\min_{h \\in {\\Bbb H}} F(h) = \\Omega(\\|h\\|_{\\Bbb H})  +  \\ell(h({\\bf x}_1), h({\\bf x}_2), \\cdots, h({\\bf x}_m))$\n",
    "的解总可以写为\n",
    "$h^\\star({\\bf x}) = \\sum_{i=1}^m \\alpha_i \\kappa({\\bf x}, {\\bf x}_i)$。  \n",
    "也就是说，对于一般的损失函数和正则项，上述优化问题的最优接总可写成核函数的线性组合的形式。\n",
    "\n",
    "核函数包括：\n",
    "- 常用核函数：\n",
    "\n",
    "\n",
    " 名称             |                             $\\kappa({\\bf x}_i,{\\bf  x}_j)$表达式                       | 参数 \n",
    "--------------|-------------------------------------------------------------------------|-------\n",
    "线性核           | $ {\\bf x}_i^T {\\bf x}_j$                                                                      |\n",
    "多项式核       |  $ (\\gamma {\\bf x}_i^T {\\bf x}_j + r)^d$                                          | $d \\geq 1$\n",
    "高斯核/RBF核| $\\exp \\left (-\\frac{\\| {\\bf x}_i - {\\bf x}_j \\|^2}{2\\sigma^2} \\right )$  | $\\sigma > 0$\n",
    "拉普拉斯核    | $\\exp \\left (-\\frac{\\| {\\bf x}_i - {\\bf x}_j \\|}{\\sigma} \\right )$             | $\\sigma > 0$\n",
    "Sigmoid核    | $\\tanh (\\beta {\\bf x}_i^T {\\bf x}_j + \\theta)$                                    | $\\beta>0,\\theta<0$\n",
    "\n",
    "\n",
    "- 常用核函数的组合：\n",
    "    + 线性组合：$\\gamma_1 \\kappa_1 + \\gamma_2 \\kappa_2$，($\\gamma_1, \\gamma_2 > 0$)\n",
    "    + 直积：$ \\kappa_1({\\bf x, z}) \\otimes  \\kappa_2({\\bf x, z})$\n",
    "    + 线性变换：$g(\\bf x) \\kappa({\\bf x, z}) g({\\bf z})$，($g({\\bf x})$为任意函数)\n",
    "    "
   ]
  },
  {
   "cell_type": "code",
   "execution_count": 11,
   "metadata": {},
   "outputs": [],
   "source": [
    "# TODO: example"
   ]
  },
  {
   "cell_type": "markdown",
   "metadata": {},
   "source": [
    "## 广义线性模型(Generalized Linear Models, GLMs)\n",
    "参数$\\eta$的**指数分布簇**(Exponential family)：$ p(y; \\eta) = b(y) \\exp(\\eta^T T(y) - a(\\eta)) $，其中$\\eta$是分布的参数；$T(y)$是**充分统计量**(sufficient statistic)；$a(\\eta)$是**对数配分函数**(log partition function)，用于归一化。给定一组$T, a, b$，就定义了一个参数为$\\eta$的指数分布簇。  \n",
    "伯努利分布，高斯分布，多项分布，泊松分布等分布都是指数分布族。\n",
    "\n",
    "广义线性模型满足：\n",
    "1. $y \\mid x; \\theta$服从参数$\\eta$的指数分布簇。\n",
    "3. 参数$\\eta$与输入值$x$线性相关：$\\eta=\\theta^T x$。\n",
    "2. 预测的目标：给定$\\eta$后的充分统计量$T(y)$的期望$g(y) = E[T(y); \\eta]$，其中$g(\\cdot)$称为**联系函数**（link function）。通常$T(y)=y$ 。"
   ]
  },
  {
   "cell_type": "markdown",
   "metadata": {},
   "source": [
    "### 对数几率（Logistic）回归  \n",
    "**几率**指事件发生的概率与不发生的概率的比值。设事件$y=1$发生的概率为$p = p(y=1 \\mid {\\bf x})$, 因此对数几率（logit）写作为$\\ln (p/(1-p))$。对于对数几率回归，输出$y=1$的对数几率是输入的线性函数（因此对数几率回归是一个广义线性模型），或$p=1/[1+\\exp(-{\\bf \\hat w}^T {\\bf x})]$。  \n",
    "损失函数正比于伯努利分布样本的对数似然函数：\n",
    "$J({\\bf \\hat w}) = -1/m \\sum_{i=1}^{m} [ y_i \\ln p_i + (1-y_i) \\ln (1-p_i) ]$。  \n",
    "因此，对数几率回归的梯度下降可写为：$\\boxed{w_{i+1} = w_{i} - \\eta \\nabla_{\\bf w}J = w_i + \\eta {\\bf X}^T ({\\bf y} - {\\bf p}) / m}$，其中$\\nabla_{\\bf w} p = {\\bf x}^T \\cdot (p(1-p))$。\n",
    "\n",
    "#### 对数几率回归的特点\n",
    "优点: 计算代价不高，易于理解和实现。  \n",
    "缺点: 容易欠拟合，分类精度可能不高。  \n",
    "适用数据类型: 数值型和标称型数据。"
   ]
  },
  {
   "cell_type": "code",
   "execution_count": 12,
   "metadata": {},
   "outputs": [
    {
     "data": {
      "text/plain": [
       "[<matplotlib.lines.Line2D at 0x7f2ad039d358>]"
      ]
     },
     "execution_count": 12,
     "metadata": {},
     "output_type": "execute_result"
    },
    {
     "data": {
      "image/png": "[encoded data removed]",
      "text/plain": [
       "<Figure size 432x288 with 1 Axes>"
      ]
     },
     "metadata": {},
     "output_type": "display_data"
    }
   ],
   "source": [
    "# Logistc function\n",
    "x_ = np.linspace(-10., 10., 50)\n",
    "fg3, ax3 = plt.subplots()\n",
    "ax3.plot(x_, 1./(1.+np.exp(-x_)))\n",
    "ax3.plot([0., 0.], [0., 1.], ls='--', c='0.7')\n",
    "ax3.plot([-10., 10.], [0.5, 0.5], ls='--', c='0.7')"
   ]
  },
  {
   "cell_type": "markdown",
   "metadata": {},
   "source": [
    "#### 下面是个例子"
   ]
  },
  {
   "cell_type": "code",
   "execution_count": 13,
   "metadata": {},
   "outputs": [
    {
     "name": "stdout",
     "output_type": "stream",
     "text": [
      "#  density  sugar_amount  is_good\r\n",
      " 1   0.697      0.460      1\r\n",
      " 2   0.774      0.376      1\r\n",
      " 3   0.634      0.264      1\r\n",
      " 4   0.608      0.318      1\r\n",
      " 5   0.556      0.215      1\r\n",
      " 6   0.403      0.237      1\r\n",
      " 7   0.481      0.149      1\r\n",
      " 8   0.437      0.211      1\r\n",
      " 9   0.666      0.091      0\r\n",
      "10   0.243      0.267      0\r\n",
      "11   0.245      0.057      0\r\n",
      "12   0.343      0.099      0\r\n",
      "13   0.639      0.161      0\r\n",
      "14   0.657      0.198      0\r\n",
      "15   0.360      0.370      0\r\n",
      "16   0.593      0.042      0\r\n",
      "17   0.719      0.103      0\r\n"
     ]
    }
   ],
   "source": [
    "# 西瓜书 数据3.0alpha\n",
    "!cat datasets/wm3alpha.dat"
   ]
  },
  {
   "cell_type": "code",
   "execution_count": 14,
   "metadata": {},
   "outputs": [
    {
     "name": "stdout",
     "output_type": "stream",
     "text": [
      "(17, 2) (17, 1)\n"
     ]
    }
   ],
   "source": [
    "raw_data2 = np.loadtxt('datasets/wm3alpha.dat')\n",
    "X2 = raw_data2[:, 1:-1]\n",
    "y2 = raw_data2[:, -1:]\n",
    "print(X2.shape, y2.shape)"
   ]
  },
  {
   "cell_type": "code",
   "execution_count": 15,
   "metadata": {},
   "outputs": [
    {
     "data": {
      "text/plain": [
       "<matplotlib.collections.PathCollection at 0x7f2a75637be0>"
      ]
     },
     "execution_count": 15,
     "metadata": {},
     "output_type": "execute_result"
    },
    {
     "data": {
      "image/png": "[encoded data removed]",
      "text/plain": [
       "<Figure size 432x288 with 1 Axes>"
      ]
     },
     "metadata": {},
     "output_type": "display_data"
    }
   ],
   "source": [
    "fg, ax = plt.subplots()\n",
    "ax.scatter(X2[:8, 0], X2[:8, 1], marker='o', s=30)\n",
    "ax.scatter(X2[8:, 0], X2[8:, 1], marker='x', s=30)"
   ]
  },
  {
   "cell_type": "code",
   "execution_count": 16,
   "metadata": {},
   "outputs": [],
   "source": [
    "def logistic_model(X, w):\n",
    "    \"\"\"\n",
    "    The model of Logistic regression\n",
    "    \n",
    "    Parameters\n",
    "    ------------\n",
    "    X : (m, n+1) array\n",
    "        m training samples with n features\n",
    "        x=(1, x_1, x_2, ..., x_n)\n",
    "    w : (n+1, 1) array\n",
    "        weights (b, w_1, w_2, ..., w_n)\n",
    "        \n",
    "    Returns\n",
    "    ---------\n",
    "    y_pred : (m, 1) array\n",
    "        predicted labels\n",
    "    \"\"\"\n",
    "    return 1./(1.+np.exp(-X@w))\n",
    "\n",
    "def logistic_loss(X, y, w):\n",
    "    \"\"\"\n",
    "    Parameters\n",
    "    ------------\n",
    "    X : (m, n+1) array\n",
    "        m training samples with n features\n",
    "        x=(1, x_1, x_2, ..., x_n)\n",
    "    y : (m, 1) array, yi=0 or 1\n",
    "        the labels of m training samples\n",
    "    w : (n+1, 1) array\n",
    "        weights (b, w_1, w_2, ..., w_n)\n",
    "    \n",
    "    Returns\n",
    "    ---------\n",
    "    loss : scalar\n",
    "        the log likelihood per sample\n",
    "    \"\"\"\n",
    "    p = logistic_model(X, w)\n",
    "    loss = -(y*np.log(p) + (1-y)*np.log(1.-p)).mean()\n",
    "    return loss"
   ]
  },
  {
   "cell_type": "code",
   "execution_count": 17,
   "metadata": {},
   "outputs": [
    {
     "name": "stdout",
     "output_type": "stream",
     "text": [
      "0 [-0.08823529  0.01102941  0.07429412] 0.6892355723476886\n",
      "100 [-2.2507477   1.8010459   5.59195891] 0.5515435135858472\n",
      "200 [-3.07050222  2.29625924  8.20631096] 0.5248925458707252\n",
      "300 [-3.51691445  2.55140098  9.68644794] 0.5165514277515946\n",
      "400 [-3.79807834  2.72130813 10.60092368] 0.5133592718269573\n",
      "500 [-3.98620273  2.84262835 11.19525318] 0.5119991073601865\n",
      "600 [-4.11571154  2.93047777 11.59410068] 0.5113809717178437\n",
      "700 [-4.2062315   2.99411077 11.86749731] 0.5110883196402102\n",
      "800 [-4.27007027  3.04010073 12.05761094] 0.5109459819197901\n",
      "900 [-4.31535086  3.07327105 12.1911221 ] 0.510875482670161\n",
      "999 [-4.34732078  3.09695873 12.28473474] 0.5108403730213498\n"
     ]
    }
   ],
   "source": [
    "# learning the logistic model\n",
    "nepoch = 1000\n",
    "learning_rate = 3.\n",
    "\n",
    "m, n = X2.shape\n",
    "w = np.zeros((n+1, 1))\n",
    "X2_ = np.c_[np.ones(m), X2]\n",
    "\n",
    "# gradient descent\n",
    "losses = []\n",
    "for i in range(nepoch):\n",
    "    w += X2_.T @ (y2 - logistic_model(X2_, w)) / m * learning_rate\n",
    "    losses.append(logistic_loss(X2_, y2, w))\n",
    "    if i%100 == 0 or i+1 == nepoch:\n",
    "        print(i, w.ravel(), losses[-1])"
   ]
  },
  {
   "cell_type": "code",
   "execution_count": 18,
   "metadata": {},
   "outputs": [
    {
     "data": {
      "text/plain": [
       "[<matplotlib.lines.Line2D at 0x7f2a74cedba8>]"
      ]
     },
     "execution_count": 18,
     "metadata": {},
     "output_type": "execute_result"
    },
    {
     "data": {
      "image/png": "[encoded data removed]",
      "text/plain": [
       "<Figure size 432x288 with 1 Axes>"
      ]
     },
     "metadata": {},
     "output_type": "display_data"
    }
   ],
   "source": [
    "# learning curve\n",
    "fg1, ax1 = plt.subplots()\n",
    "ax1.plot(losses)"
   ]
  },
  {
   "cell_type": "code",
   "execution_count": 19,
   "metadata": {},
   "outputs": [
    {
     "data": {
      "image/png": "[encoded data removed]",
      "text/plain": [
       "<Figure size 432x288 with 1 Axes>"
      ]
     },
     "execution_count": 19,
     "metadata": {},
     "output_type": "execute_result"
    }
   ],
   "source": [
    "# decision boundary\n",
    "_x = np.linspace(0., 1., 2)\n",
    "ax.plot(_x, -(w[0]+w[1]*_x)/w[2], ls='--', c='C2')\n",
    "fg"
   ]
  },
  {
   "cell_type": "code",
   "execution_count": 20,
   "metadata": {},
   "outputs": [
    {
     "name": "stdout",
     "output_type": "stream",
     "text": [
      "Accuracy = 70.59%\n"
     ]
    }
   ],
   "source": [
    "# accuracy\n",
    "y2_pred = logistic_model(X2_, w) > 0.5\n",
    "accuracy = (y2_pred == y2).sum()/len(y2) # right/all\n",
    "print(\"Accuracy = {:.2%}\".format(accuracy))"
   ]
  },
  {
   "cell_type": "code",
   "execution_count": 21,
   "metadata": {},
   "outputs": [
    {
     "name": "stdout",
     "output_type": "stream",
     "text": [
      "precision=71.43%\n",
      "recall=62.50%\n",
      "f1=66.67%\n",
      "f2=64.10%\n"
     ]
    }
   ],
   "source": [
    "# metrics\n",
    "prec = ((y2_pred==1) & (y2 == 1)).sum()/(y2_pred == 1).sum() # tp / pred pos\n",
    "print('precision={:.2%}'.format(prec))\n",
    "reca = ((y2_pred==1) & (y2 == 1)).sum()/(y2 == 1).sum() # tp / pos\n",
    "print('recall={:.2%}'.format(reca))\n",
    "f1score = 2/(1/prec + 1/reca)\n",
    "print('f1={:.2%}'.format(f1score))\n",
    "f2score = (1+2**2)/(1/prec + 2**2/reca)\n",
    "print('f2={:.2%}'.format(f2score))"
   ]
  },
  {
   "cell_type": "markdown",
   "metadata": {},
   "source": [
    "#### sklearn"
   ]
  },
  {
   "cell_type": "code",
   "execution_count": 22,
   "metadata": {},
   "outputs": [
    {
     "data": {
      "text/plain": [
       "LogisticRegression(C=10000.0, class_weight=None, dual=False,\n",
       "          fit_intercept=True, intercept_scaling=1, max_iter=100,\n",
       "          multi_class='ovr', n_jobs=1, penalty='l2', random_state=None,\n",
       "          solver='liblinear', tol=0.0001, verbose=0, warm_start=False)"
      ]
     },
     "execution_count": 22,
     "metadata": {},
     "output_type": "execute_result"
    }
   ],
   "source": [
    "# learning the logistic model with sklearn\n",
    "log = linear_model.LogisticRegression(C=10000.)\n",
    "log.fit(X2, y2.ravel())"
   ]
  },
  {
   "cell_type": "code",
   "execution_count": 23,
   "metadata": {},
   "outputs": [
    {
     "name": "stdout",
     "output_type": "stream",
     "text": [
      "[[ 3.14089155 12.45455489]] [-4.40581073]\n"
     ]
    }
   ],
   "source": [
    "print(log.coef_, log.intercept_) # (w1, w2, b)"
   ]
  },
  {
   "cell_type": "code",
   "execution_count": 24,
   "metadata": {},
   "outputs": [
    {
     "name": "stdout",
     "output_type": "stream",
     "text": [
      "accuracy=70.59%\n",
      "precision=71.43%\n",
      "recall=62.50%\n",
      "f1=66.67%\n",
      "f2=64.10%\n"
     ]
    }
   ],
   "source": [
    "y2_pred_ = log.predict(X2)\n",
    "print('accuracy={:.2%}'.format(metrics.accuracy_score(y2, y2_pred_)))\n",
    "print('precision={:.2%}'.format(metrics.precision_score(y2, y2_pred_)))\n",
    "print('recall={:.2%}'.format(metrics.recall_score(y2, y2_pred_)))\n",
    "print('f1={:.2%}'.format(metrics.f1_score(y2, y2_pred_)))\n",
    "print('f2={:.2%}'.format(metrics.fbeta_score(y2, y2_pred_, beta=2)))"
   ]
  },
  {
   "cell_type": "markdown",
   "metadata": {},
   "source": [
    "### 多项对数几率回归/Softmax回归\n",
    "将对数几率回归这个二分类模型推广到多分类模型：  \n",
    "$p(y=k \\mid {\\bf x}) = \\frac{\\exp({\\bf \\hat w}_k^T {\\bf x})}{1 + \\sum_{i=1}^{K-1} \\exp({\\bf \\hat w}_i^T {\\bf x}) }$ (for $k=1, 2, \\cdots, K-1$) and   \n",
    "$p(y=K \\mid {\\bf x}) = \\frac{1}{1 + \\sum_{i=1}^{K-1} \\exp({\\bf \\hat w}_i^T {\\bf x}) }$。  \n",
    "损失函数：$J({\\bf \\hat w}) = -1/m \\sum_{i=1}^{m} \\sum_j 1\\{ y_i = j\\} \\ln p (y=j \\mid {\\bf x}_i; {\\bf \\hat w})$。  \n",
    "梯度下降：$\\boxed{w_{k, i+1} = w_{k, i} - \\eta \\nabla_{\\bf w_k}J = w_{k, i} + \\eta {\\bf X}^T ({\\bf 1}\\{ y=k \\} - {\\bf p}(y=k)) / m}$ (for $k=1, 2, \\cdots, K-1$)。"
   ]
  },
  {
   "cell_type": "code",
   "execution_count": 25,
   "metadata": {},
   "outputs": [],
   "source": [
    "# TODO: example"
   ]
  },
  {
   "cell_type": "markdown",
   "metadata": {},
   "source": [
    "## 线性判别式分析 （Linear Discriminant Analysis, LDA）\n",
    "给定训练样例集，设法将样例投影到一条直线上，使得同类样例尽可能靠近、异类样例尽量远离。对新样本分类时，将其投影到同样的直线上，在根据投影点位置确定新样本类型。\n",
    "\n",
    "把一个点$({\\bf x}, y)$投影到方向向量为${\\bf w}$的直线上：${\\bf w}^T {\\bf x}$，优化目标（使$J$最大）：\n",
    "$$ J = \\frac{\\| {\\bf w}^T {\\bf \\mu}_0 - {\\bf w}^T {\\bf \\mu}_1 \\| ^2}{{\\bf w}^T ({\\bf \\Sigma_0 + \\Sigma_1}) {\\bf w}} = \\frac{{\\bf w}^T {\\bf S}_b {\\bf w}}{{\\bf w}^T {\\bf S}_w {\\bf w}}  $$\n",
    "\n",
    "其中\n",
    "${\\bf S}_w = \\sum_{{\\bf x} \\in X_0} ({\\bf x-{\\mu}}_0)({\\bf x-{\\mu}}_0)^T + \\sum_{{\\bf x} \\in X_1} ({\\bf x-{\\mu}}_1)({\\bf x-{\\mu}}_1)^T$，\n",
    "${\\bf S}_b = ({\\bf \\mu_0 - \\mu_1})({\\bf \\mu_0 - \\mu_1})^T $，  \n",
    "可得，$\\boxed {{\\bf w}=S_w^{-1} ({\\bf \\mu_0 - \\mu_1})}$ (考虑到$S_b {\\bf w}$方向和${\\bf \\mu_0 - \\mu_1}$一致)"
   ]
  },
  {
   "cell_type": "code",
   "execution_count": 26,
   "metadata": {},
   "outputs": [
    {
     "name": "stdout",
     "output_type": "stream",
     "text": [
      "-0.017612\t14.053064\t0\r",
      "\r\n",
      "-1.395634\t4.662541\t1\r",
      "\r\n",
      "-0.752157\t6.538620\t0\r",
      "\r\n",
      "-1.322371\t7.152853\t0\r",
      "\r\n",
      "0.423363\t11.054677\t0\r",
      "\r\n",
      "0.406704\t7.067335\t1\r",
      "\r\n",
      "0.667394\t12.741452\t0\r",
      "\r\n",
      "-2.460150\t6.866805\t1\r",
      "\r\n",
      "0.569411\t9.548755\t0\r",
      "\r\n",
      "-0.026632\t10.427743\t0\r",
      "\r\n"
     ]
    }
   ],
   "source": [
    "!head datasets/MLiA/Ch05/testSet.txt # MLiA, Chapter05"
   ]
  },
  {
   "cell_type": "code",
   "execution_count": 27,
   "metadata": {},
   "outputs": [],
   "source": [
    "raw_data = np.loadtxt('datasets/MLiA/Ch05/testSet.txt')"
   ]
  },
  {
   "cell_type": "code",
   "execution_count": 28,
   "metadata": {},
   "outputs": [
    {
     "name": "stdout",
     "output_type": "stream",
     "text": [
      "[[135.35903647 131.52568101]\n",
      " [131.52568101 660.67023227]]\n"
     ]
    }
   ],
   "source": [
    "X2_0 = raw_data[raw_data[:, 2]==0, :2]\n",
    "X2_1 = raw_data[raw_data[:, 2]==1, :2]\n",
    "\n",
    "# watermelon 3.0 alpha\n",
    "#X2_0 = X2[8:, :2]\n",
    "#X2_1 = X2[:8, :2]\n",
    "\n",
    "mu0 = X2_0.mean(axis=0)\n",
    "mu1 = X2_1.mean(axis=0)\n",
    "\n",
    "Sw = (X2_0-mu0).T@(X2_0-mu0) + (X2_1-mu1).T@(X2_1-mu1) # X=(nsamples, nfeatures)\n",
    "print(Sw)"
   ]
  },
  {
   "cell_type": "code",
   "execution_count": 29,
   "metadata": {},
   "outputs": [
    {
     "name": "stdout",
     "output_type": "stream",
     "text": [
      "Sw^-1 = \n",
      " [[ 0.00915961 -0.00182349]\n",
      " [-0.00182349  0.00187663]]\n"
     ]
    }
   ],
   "source": [
    "# singular value decomposition\n",
    "u, s, v = np.linalg.svd(Sw) # Sw = u@diag(s)@v\n",
    "Sw_inv = v.T@np.diag(1./s)@u.T\n",
    "print('Sw^-1 = \\n', Sw_inv)\n",
    "#print(np.linalg.inv(Sw))"
   ]
  },
  {
   "cell_type": "code",
   "execution_count": 30,
   "metadata": {},
   "outputs": [
    {
     "name": "stdout",
     "output_type": "stream",
     "text": [
      "w^star =  [-0.01313392  0.01426317]\n"
     ]
    }
   ],
   "source": [
    "w_star = Sw_inv@(mu0-mu1)\n",
    "print('w^star = ', w_star)"
   ]
  },
  {
   "cell_type": "code",
   "execution_count": 31,
   "metadata": {},
   "outputs": [
    {
     "data": {
      "text/plain": [
       "[<matplotlib.lines.Line2D at 0x7f2a74be7da0>]"
      ]
     },
     "execution_count": 31,
     "metadata": {},
     "output_type": "execute_result"
    },
    {
     "data": {
      "image/png": "[encoded data removed]",
      "text/plain": [
       "<Figure size 432x432 with 1 Axes>"
      ]
     },
     "metadata": {},
     "output_type": "display_data"
    }
   ],
   "source": [
    "fg2, ax2 = plt.subplots(figsize=(6, 6))\n",
    "ax2.plot(X2_1[:, 0], X2_1[:, 1], marker='o', ms=5, c='C0', ls='None')\n",
    "ax2.plot(X2_0[:, 0], X2_0[:, 1], marker='s', ms=5, c='C1', ls='None')\n",
    "\n",
    "# the line to project, let (x-0)/w0 = (y-0)/w1\n",
    "ax2.set_xlim([-9, 9])\n",
    "ax2.set_ylim([-3, 15])\n",
    "xrange = np.array(ax2.get_xlim())\n",
    "yrange = w_star[1]/w_star[0]*xrange\n",
    "ax2.plot(xrange, yrange, ls='-.', c='C2')\n",
    "\n",
    "# points projected to the line\n",
    "w_star_norm = w_star/np.sqrt((w_star**2).sum())\n",
    "X2_0_proj = (X2_0@w_star_norm).reshape(-1, 1) * w_star_norm\n",
    "X2_1_proj = (X2_1@w_star_norm).reshape(-1, 1) * w_star_norm\n",
    "ax2.plot(X2_1_proj[:, 0], X2_1_proj[:, 1], marker='o', ms=5, c='C0', mfc='w', ls='None')\n",
    "ax2.plot(X2_0_proj[:, 0], X2_0_proj[:, 1], marker='s', ms=5, c='C1', mfc='w', ls='None')"
   ]
  },
  {
   "cell_type": "code",
   "execution_count": null,
   "metadata": {},
   "outputs": [],
   "source": []
  }
 ],
 "metadata": {
  "kernelspec": {
   "display_name": "Python [conda env:tensorflow]",
   "language": "python",
   "name": "conda-env-tensorflow-py"
  },
  "language_info": {
   "codemirror_mode": {
    "name": "ipython",
    "version": 3
   },
   "file_extension": ".py",
   "mimetype": "text/x-python",
   "name": "python",
   "nbconvert_exporter": "python",
   "pygments_lexer": "ipython3",
   "version": "3.6.5"
  }
 },
 "nbformat": 4,
 "nbformat_minor": 2
}

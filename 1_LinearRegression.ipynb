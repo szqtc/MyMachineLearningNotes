{
 "cells": [
  {
   "cell_type": "markdown",
   "metadata": {},
   "source": [
    "# 线性回归\n",
    "<!-- \n",
    "Author: Zhaoqiang SHEN\n",
    "Date: 2018/08/22\n",
    "Contact: szqtclx@gmail.com\n",
    "\n",
    "TODO LISTS:\n",
    "1. 讨论metrics\n",
    "2. train test split\n",
    "3. 核技巧举例\n",
    "4. tensorflow使用例\n",
    "5. 多分类问题\n",
    "6. unbalanced datasets\n",
    "-->"
   ]
  },
  {
   "cell_type": "code",
   "execution_count": 1,
   "metadata": {},
   "outputs": [],
   "source": [
    "import numpy as np\n",
    "from matplotlib import pyplot as plt\n",
    "%matplotlib inline\n",
    "\n",
    "# scikit-learn\n",
    "from sklearn import linear_model \n",
    "from sklearn import metrics\n",
    "\n",
    "np.random.seed(1)"
   ]
  },
  {
   "cell_type": "markdown",
   "metadata": {},
   "source": [
    "## 线性模型\n",
    "线性模型：$f({\\bf x}) = w_1 x_1 + w_2 x_2 + \\cdots + w_d x_d + b = {\\bf x}^T { \\bf \\hat w}$，其中${\\bf \\hat w}=({\\bf w}; b) = (w_1, w_2, \\cdots, b)^T$。  \n",
    "损失函数（欧几里得距离）：\n",
    "$J({\\bf \\hat w}) = \\sum_{i=1}^{m} [ f({\\bf x}^{(i)}; {\\bf \\hat w}) - y^{(i)} ]^2 = ({\\bf Xw-y})^T({\\bf Xw-y})$。  \n",
    "最小化损失函数可得模型参数：\n",
    "$\\boxed{ {\\bf \\hat w}^\\star = ({\\bf X}^T {\\bf X})^{-1} {\\bf X}^T {\\bf y}}$, 其中${\\bf X}=({\\bf x}_1^{T}; {\\bf x}_2^{T}; \\cdots; {\\bf x}_m^{T})$。\n",
    "\n",
    "**线性回归的特点**  \n",
    "优点：结果易于理解，计算上不复杂。  \n",
    "缺点：对非线性的数据拟合不好。  \n",
    "适用于数据类型：数值型和标称型数据。  "
   ]
  },
  {
   "cell_type": "code",
   "execution_count": 2,
   "metadata": {},
   "outputs": [],
   "source": [
    "#raw_data = np.loadtxt('datasets/MLiA/Ch08/ex0.txt') # Machine Learning in Action, Chap8\n",
    "#X = raw_data[:, :-1] # (1., x_1, x_2, ...) for each vector\n",
    "#y = raw_data[:, -1]"
   ]
  },
  {
   "cell_type": "code",
   "execution_count": 3,
   "metadata": {},
   "outputs": [],
   "source": [
    "# generate mock data\n",
    "def mock_generator1(X_raw):\n",
    "    nsamp = X_raw.shape[0]\n",
    "    return 1.+X_raw+X_raw**2 + X_raw**3 + 0.4*np.random.randn(nsamp)\n",
    "\n",
    "# training data\n",
    "X_raw = np.random.rand(50)\n",
    "y_raw = mock_generator1(X_raw)\n",
    "X = np.c_[np.ones_like(X_raw), X_raw]\n",
    "y = y_raw.reshape(-1, 1)\n",
    "#print(X, y)\n",
    "\n",
    "# test data\n",
    "X_test_raw = np.random.rand(25)\n",
    "y_test_raw = mock_generator1(X_test_raw)\n",
    "X_test = np.c_[np.ones_like(X_test_raw), X_test_raw]\n",
    "y_test = y_test_raw.reshape(-1, 1)"
   ]
  },
  {
   "cell_type": "code",
   "execution_count": 4,
   "metadata": {},
   "outputs": [
    {
     "data": {
      "text/plain": [
       "array([[0.68431397],\n",
       "       [2.95919615]])"
      ]
     },
     "execution_count": 4,
     "metadata": {},
     "output_type": "execute_result"
    }
   ],
   "source": [
    "w = np.linalg.inv(X.T @ X) @ X.T @ y\n",
    "w"
   ]
  },
  {
   "cell_type": "code",
   "execution_count": 5,
   "metadata": {},
   "outputs": [
    {
     "data": {
      "text/plain": [
       "<matplotlib.legend.Legend at 0x7fe7a8a4bdd8>"
      ]
     },
     "execution_count": 5,
     "metadata": {},
     "output_type": "execute_result"
    },
    {
     "data": {
      "image/png": "[encoded data removed]",
      "text/plain": [
       "<Figure size 432x288 with 1 Axes>"
      ]
     },
     "metadata": {},
     "output_type": "display_data"
    }
   ],
   "source": [
    "fg0, ax0 = plt.subplots()\n",
    "ax0.plot(X[:, 1], y, marker='o', ms=3, ls='None')\n",
    "ax0.plot([0., 1.], np.array([[1, 0], [1, 1]])@w.reshape(2, 1), ls='-', label='1st order')\n",
    "ax0.legend()"
   ]
  },
  {
   "cell_type": "code",
   "execution_count": 6,
   "metadata": {},
   "outputs": [],
   "source": [
    "#拟合优度\n",
    "def rss(y_pred, y_truth):\n",
    "    return ((y_pred-y_truth)**2).sum()\n",
    "\n",
    "def mse(y_pred, y_truth):\n",
    "    return rss(y_pred, y_truth)/y_pred.shape[0]\n",
    "\n",
    "def rse(y_pred, y_truth):\n",
    "    return np.sqrt(rss(y_pred, y_truth)/(y_pred.shape[0]-2))\n",
    "\n",
    "def r2(y_pred, y_truth):\n",
    "    tss_ = ((y_truth-y_truth.mean(axis=0))**2).sum()\n",
    "    rss_ = rss(y_pred, y_truth)\n",
    "    return 1.-rss_/tss_"
   ]
  },
  {
   "cell_type": "code",
   "execution_count": 7,
   "metadata": {},
   "outputs": [
    {
     "name": "stdout",
     "output_type": "stream",
     "text": [
      "Training set:\n",
      "MSE=0.1475\n",
      "RSE=0.3920\n",
      "R2=84.6905%\n",
      "Test set:\n",
      "MSE=0.1755\n",
      "RSE=0.4367\n",
      "R2=82.7885%\n"
     ]
    }
   ],
   "source": [
    "print('Training set:')\n",
    "y_pred = X@w # a@b=np.dot(a, b) for Python 3\n",
    "print('MSE={:.4f}'.format(mse(y_pred, y)))\n",
    "print('RSE={:.4f}'.format(rse(y_pred, y)))\n",
    "print(\"R2={:.4%}\".format(r2(y_pred, y)))\n",
    "\n",
    "print('Test set:')\n",
    "y_test_pred = X_test@w\n",
    "print('MSE={:.4f}'.format(mse(y_test_pred, y_test)))\n",
    "print('RSE={:.4f}'.format(rse(y_test_pred, y_test)))\n",
    "print(\"R2={:.4%}\".format(r2(y_test_pred, y_test)))"
   ]
  },
  {
   "cell_type": "markdown",
   "metadata": {},
   "source": [
    "#### sklearn"
   ]
  },
  {
   "cell_type": "code",
   "execution_count": 8,
   "metadata": {},
   "outputs": [
    {
     "name": "stdout",
     "output_type": "stream",
     "text": [
      "[0.68431397] [[2.95919615]]\n"
     ]
    }
   ],
   "source": [
    "lin = linear_model.LinearRegression()\n",
    "lin.fit(X[:, 1:], y)\n",
    "print(lin.intercept_, lin.coef_) # b, w"
   ]
  },
  {
   "cell_type": "markdown",
   "metadata": {},
   "source": [
    "### 线性基函数 （Linear Basis Function）\n",
    "在某些情况下，特征无法用简单的模型表示，即出现**欠拟合**问题。\n",
    "\n",
    "欠拟合可以通过将特征向量投影到更高维特征空间（${\\bf x} \\to \\phi({\\bf x})$）来使问题可分，其中集合$\\{ \\phi_i({\\bf x})\\}$称为**基函数**。  \n",
    "对于已知的基函数，新的模型可写为：$f({\\bf x}) = \\sum_j w_j \\phi_j({\\bf x}) = {\\bf\\phi(x)}^T\\,{\\bf \\hat w} $，其中$\\phi({\\bf x})=(\\phi_1({\\bf x}), \\phi_2({\\bf x}), \\cdots, \\phi_n({\\bf x}))^T$。  \n",
    "假设损失函数是欧几里得距离，可解得参数：\n",
    "${\\bf \\hat w}^\\star = ({\\bf \\Phi}({\\bf X})^T {\\bf \\Phi}({\\bf X}))^{-1} {\\bf \\Phi}({\\bf X})^T {\\bf y}$，其中${\\bf \\Phi}({\\bf X}) = (\\phi({\\bf x}_1)^T; \\phi({\\bf x}_2)^T; \\cdots; \\phi({\\bf x}_m)^T)$。  \n",
    "最终模型为：\n",
    "$\\boxed{f({\\bf x}) = {\\bf \\phi}({\\bf x})^T {\\bf \\hat w}^\\star = \\phi({\\bf x})^T \\Phi({\\bf X})^T (\\Phi({\\bf X}) \\Phi({\\bf X})^T)^{-1} {\\bf y} = \\kappa({\\bf X, x}) \\kappa({\\bf X, X}) ^{-1} {\\bf y}  }$ (规范正交基)"
   ]
  },
  {
   "cell_type": "markdown",
   "metadata": {},
   "source": [
    "下面以多项式基函数$\\phi_j(x) = x^j, (j=0,1,2,3)$为例：\n",
    "<!-- $f({\\bf x}) = {\\bf \\phi}({\\bf x})^T {\\bf \\hat w}^\\star = \\phi({\\bf x})^T {\\bf \\phi}({\\bf X}) {\\bf y}$ -->"
   ]
  },
  {
   "cell_type": "code",
   "execution_count": 9,
   "metadata": {},
   "outputs": [
    {
     "data": {
      "text/plain": [
       "array([[0.89683543],\n",
       "       [1.86985936],\n",
       "       [0.01225323],\n",
       "       [1.235891  ]])"
      ]
     },
     "execution_count": 9,
     "metadata": {},
     "output_type": "execute_result"
    }
   ],
   "source": [
    "X_lb = np.c_[X, X[:, 1]**2, X[:, 1]**3] # xm = (1, xm, xm^2, xm^3)\n",
    "w_lb = np.linalg.inv(X_lb.T @ X_lb) @ X_lb.T @ y\n",
    "w_lb"
   ]
  },
  {
   "cell_type": "code",
   "execution_count": 10,
   "metadata": {},
   "outputs": [
    {
     "data": {
      "image/png": "[encoded data removed]",
      "text/plain": [
       "<Figure size 432x288 with 1 Axes>"
      ]
     },
     "execution_count": 10,
     "metadata": {},
     "output_type": "execute_result"
    }
   ],
   "source": [
    "x_lb = np.linspace(0, 1, 100)\n",
    "y_lb_pred = np.c_[np.ones_like(x_lb), x_lb, x_lb**2, x_lb**3] @ w_lb\n",
    "ax0.plot(x_lb, y_lb_pred, ls='-.', label='3rd order')\n",
    "ax0.legend()\n",
    "fg0"
   ]
  },
  {
   "cell_type": "code",
   "execution_count": 11,
   "metadata": {},
   "outputs": [
    {
     "name": "stdout",
     "output_type": "stream",
     "text": [
      "Training set:\n",
      "MSE=0.1286\n",
      "RSE=0.3660\n",
      "R2=86.6539%\n",
      "Test set:\n",
      "MSE=0.1553\n",
      "RSE=0.4109\n",
      "R2=84.7634%\n"
     ]
    }
   ],
   "source": [
    "print('Training set:')\n",
    "y_pred = X_lb@w_lb # a@b=np.dot(a, b) for Python 3\n",
    "print('MSE={:.4f}'.format(mse(y_pred, y)))\n",
    "print('RSE={:.4f}'.format(rse(y_pred, y)))\n",
    "print(\"R2={:.4%}\".format(r2(y_pred, y)))\n",
    "\n",
    "print('Test set:')\n",
    "X_test_lb = np.c_[X_test, X_test[:, 1]**2, X_test[:, 1]**3]\n",
    "y_test_pred = X_test_lb@w_lb\n",
    "print('MSE={:.4f}'.format(mse(y_test_pred, y_test)))\n",
    "print('RSE={:.4f}'.format(rse(y_test_pred, y_test)))\n",
    "print(\"R2={:.4%}\".format(r2(y_test_pred, y_test)))"
   ]
  },
  {
   "cell_type": "markdown",
   "metadata": {},
   "source": [
    "#### sklearn"
   ]
  },
  {
   "cell_type": "code",
   "execution_count": 12,
   "metadata": {},
   "outputs": [
    {
     "name": "stdout",
     "output_type": "stream",
     "text": [
      "[0.89683543] [[1.86985936 0.01225323 1.235891  ]]\n"
     ]
    }
   ],
   "source": [
    "lin2 = linear_model.LinearRegression()\n",
    "lin2.fit(X_lb[:, 1:], y)\n",
    "print(lin2.intercept_, lin2.coef_) # b, w"
   ]
  },
  {
   "cell_type": "markdown",
   "metadata": {},
   "source": [
    "### 正则化\n",
    "训练数据中除了包含特征间的普遍关系，每个样本也会有各自特有的隐参量影响着特征的取值，这些隐参量造成的样本特征在普遍关系上还存在一些未解释的涨落。当模型复杂度足够高时，它可能会去拟合这些统计涨落，即产生**过拟合**问题。因为统计涨落是并非来自于真实的特征间关系，所以过拟合会导致模型泛化能力降低。\n",
    "\n",
    "正则化通过权衡模型复杂度与拟合优度来缓解过拟合问题，具体来讲：  \n",
    "$J({\\bf w}) =\\Omega(f) + C\\sum_{i=1}^m \\ell(f({\\bf x}_i), y_i) $，后者是**经验风险**（描述模型与训练数据的契合度），前者是**结构风险**（引入模型结构因素后的总体风险）。$C$是正则化常数，正则化项通常为$L_p$范数$\\equiv \\| {\\bf w} \\|_p$，$L_2$使得分量取值均衡、非零分量稠密，$L_1$和$L_0$使非零分量尽量少。而后者常用于特征选择（属于嵌入式特征选择，特征选择和模型学习过程一同进行）。\n",
    "\n",
    "#### 欧几里得距离 + L2正则项\n",
    "\n",
    "$J({\\bf \\hat w}) = C ({\\bf Xw-y})^T({\\bf Xw-y}) + {\\bf w}^T{\\bf w}$，  \n",
    "易得，\n",
    "$\\boxed{ {\\bf \\hat w}^\\star = ({\\bf X}^T {\\bf X} + 1/C \\, {\\bf I})^{-1} {\\bf X}^T {\\bf y}}$。（当不对截距项限制时，将截距对应的单位矩阵中的元素置为0）\n",
    "\n",
    "1. 由于正则化项的存在，使得${\\bf w}_{i+1} = {\\bf w}_i -\\eta \\nabla_{{\\bf w}_i} J = (1-\\eta/C){\\bf w}_i + \\cdots$，即每一步相对于上一步参数值有缩减。\n",
    "2. ${\\bf I}$项使得原来可能不可逆的矩阵变得可逆。\n",
    "\n",
    "#### 近端梯度下降\n",
    "\n",
    "(TODO)"
   ]
  },
  {
   "cell_type": "code",
   "execution_count": 13,
   "metadata": {},
   "outputs": [
    {
     "data": {
      "text/plain": [
       "array([[ 6.86805167e-01],\n",
       "       [ 1.51063921e+00],\n",
       "       [ 4.66593669e+02],\n",
       "       [-9.17752083e+03],\n",
       "       [ 7.40402454e+04],\n",
       "       [-3.17322249e+05],\n",
       "       [ 7.94785646e+05],\n",
       "       [-1.20082736e+06],\n",
       "       [ 1.07711213e+06],\n",
       "       [-5.28020608e+05],\n",
       "       [ 1.08945119e+05]])"
      ]
     },
     "execution_count": 13,
     "metadata": {},
     "output_type": "execute_result"
    }
   ],
   "source": [
    "# an overfitting model\n",
    "X_lb2 = np.c_[X, X[:, 1]**2, X[:, 1]**3, X[:, 1]**4, X[:, 1]**5, X[:, 1]**6, X[:, 1]**7, X[:, 1]**8, X[:, 1]**9, X[:, 1]**10]\n",
    "w_lb2 = np.linalg.inv(X_lb2.T @ X_lb2) @ X_lb2.T @ y\n",
    "w_lb2"
   ]
  },
  {
   "cell_type": "code",
   "execution_count": 14,
   "metadata": {},
   "outputs": [
    {
     "data": {
      "image/png": "[encoded data removed]",
      "text/plain": [
       "<Figure size 432x288 with 1 Axes>"
      ]
     },
     "execution_count": 14,
     "metadata": {},
     "output_type": "execute_result"
    }
   ],
   "source": [
    "x_lb2 = np.c_[np.ones_like(x_lb), x_lb, x_lb**2, x_lb**3, x_lb**4, x_lb**5, x_lb**6, x_lb**7, x_lb**8, x_lb**9, x_lb**10]\n",
    "y_lb2_pred = x_lb2 @ w_lb2\n",
    "ax0.plot(x_lb, y_lb2_pred, ls='--', label='10th order')\n",
    "ax0.legend()\n",
    "fg0"
   ]
  },
  {
   "cell_type": "code",
   "execution_count": 15,
   "metadata": {},
   "outputs": [
    {
     "name": "stdout",
     "output_type": "stream",
     "text": [
      "Training set:\n",
      "MSE=0.0743\n",
      "RSE=0.2782\n",
      "R2=92.2873%\n",
      "Test set:\n",
      "MSE=0.1977\n",
      "RSE=0.4636\n",
      "R2=80.6042%\n"
     ]
    }
   ],
   "source": [
    "print('Training set:')\n",
    "y_pred = X_lb2@w_lb2 # a@b=np.dot(a, b) for Python 3\n",
    "print('MSE={:.4f}'.format(mse(y_pred, y)))\n",
    "print('RSE={:.4f}'.format(rse(y_pred, y)))\n",
    "print(\"R2={:.4%}\".format(r2(y_pred, y)))\n",
    "\n",
    "print('Test set:')\n",
    "X_test_lb2 = np.c_[X_test, X_test[:, 1]**2, X_test[:, 1]**3, X_test[:, 1]**4, X_test[:, 1]**5,\n",
    "                              X_test[:, 1]**6, X_test[:, 1]**7, X_test[:, 1]**8, X_test[:, 1]**9, X_test[:, 1]**10]\n",
    "y_test_pred = X_test_lb2@w_lb2\n",
    "print('MSE={:.4f}'.format(mse(y_test_pred, y_test)))\n",
    "print('RSE={:.4f}'.format(rse(y_test_pred, y_test)))\n",
    "print(\"R2={:.4%}\".format(r2(y_test_pred, y_test)))"
   ]
  },
  {
   "cell_type": "code",
   "execution_count": 16,
   "metadata": {},
   "outputs": [
    {
     "data": {
      "text/plain": [
       "array([[ 1.10252957],\n",
       "       [ 1.03746549],\n",
       "       [ 0.75820946],\n",
       "       [ 0.50549731],\n",
       "       [ 0.32561311],\n",
       "       [ 0.20343687],\n",
       "       [ 0.12178762],\n",
       "       [ 0.06753389],\n",
       "       [ 0.03138663],\n",
       "       [ 0.00699571],\n",
       "       [-0.00987496]])"
      ]
     },
     "execution_count": 16,
     "metadata": {},
     "output_type": "execute_result"
    }
   ],
   "source": [
    "# L2 regularized model\n",
    "C = 1. # regularized factor\n",
    "I = np.diag([0.]+[1.]*10) # do not regularize the interception\n",
    "w_lb2r = np.linalg.inv(X_lb2.T @ X_lb2 + 1./C*I) @ X_lb2.T @ y\n",
    "w_lb2r"
   ]
  },
  {
   "cell_type": "code",
   "execution_count": 17,
   "metadata": {},
   "outputs": [
    {
     "data": {
      "image/png": "[encoded data removed]",
      "text/plain": [
       "<Figure size 432x288 with 1 Axes>"
      ]
     },
     "execution_count": 17,
     "metadata": {},
     "output_type": "execute_result"
    }
   ],
   "source": [
    "y_lb2r_pred = x_lb2 @ w_lb2r\n",
    "ax0.plot(x_lb, y_lb2r_pred, ls=':', label='10th order L2 reg')\n",
    "ax0.legend()\n",
    "fg0"
   ]
  },
  {
   "cell_type": "code",
   "execution_count": 18,
   "metadata": {},
   "outputs": [
    {
     "name": "stdout",
     "output_type": "stream",
     "text": [
      "Training set:\n",
      "MSE=0.1385\n",
      "RSE=0.3799\n",
      "R2=85.6234%\n",
      "Test set:\n",
      "MSE=0.1648\n",
      "RSE=0.4232\n",
      "R2=83.8400%\n"
     ]
    }
   ],
   "source": [
    "print('Training set:')\n",
    "y_pred = X_lb2@w_lb2r # a@b=np.dot(a, b) for Python 3\n",
    "print('MSE={:.4f}'.format(mse(y_pred, y)))\n",
    "print('RSE={:.4f}'.format(rse(y_pred, y)))\n",
    "print(\"R2={:.4%}\".format(r2(y_pred, y)))\n",
    "\n",
    "print('Test set:')\n",
    "y_test_pred = X_test_lb2@w_lb2r\n",
    "print('MSE={:.4f}'.format(mse(y_test_pred, y_test)))\n",
    "print('RSE={:.4f}'.format(rse(y_test_pred, y_test)))\n",
    "print(\"R2={:.4%}\".format(r2(y_test_pred, y_test)))"
   ]
  },
  {
   "cell_type": "markdown",
   "metadata": {},
   "source": [
    "#### sklearn"
   ]
  },
  {
   "cell_type": "code",
   "execution_count": 19,
   "metadata": {},
   "outputs": [
    {
     "name": "stdout",
     "output_type": "stream",
     "text": [
      "[1.10252957] [[ 1.03746549  0.75820946  0.50549731  0.32561311  0.20343687  0.12178762\n",
      "   0.06753389  0.03138663  0.00699571 -0.00987496]]\n"
     ]
    }
   ],
   "source": [
    "lin3 = linear_model.Ridge(alpha=1.) # alpha=1/C\n",
    "lin3.fit(X_lb2[:, 1:], y)\n",
    "print(lin3.intercept_, lin3.coef_) # b, w"
   ]
  },
  {
   "cell_type": "markdown",
   "metadata": {},
   "source": [
    "### 局部加权线性回归（LWR）\n",
    "LWR的思想：对于一个要预测的点，只用训练集中与它相近的点来拟合线性模型， 这使得LWR能应对更复杂的数据。   \n",
    "具体来讲，对于一个给定的点${\\bf x}$要训练如下的模型：  \n",
    "损失函数：$J({\\bf \\hat w}) = ({\\bf Xw-y})^T M_{\\bf x} ({\\bf Xw-y})$，其中$M_{\\bf x}$为权重矩阵，通常选择为高斯函数形式：$M_{\\bf x} = {\\rm diagonal}( \\exp[-({\\bf x} - {\\bf x}_i)^2/(2\\tau^2)])$。  \n",
    "通过最小化损失函数可得：$\\boxed{ {\\bf \\hat w}_{\\bf x}^\\star = ({\\bf X}^T M_{\\bf x} {\\bf X})^{-1} {\\bf X}^T M_{\\bf x} {\\bf y}}$。"
   ]
  },
  {
   "cell_type": "code",
   "execution_count": 20,
   "metadata": {},
   "outputs": [],
   "source": [
    "def lwr_model(X, X_train, y_train, tau=1.):\n",
    "    \"\"\"\n",
    "    Parameters\n",
    "    -------------\n",
    "    X : numpy array, (m', n)\n",
    "        the input feature to infer\n",
    "    X_train : numpy array, (m, n)\n",
    "        features of the training sample\n",
    "    y_train : numpy array, (m, 1)\n",
    "        output of the training sample\n",
    "    tau : float, >0., default: 1.\n",
    "        the sigma in the Gaussian distribution\n",
    "        \n",
    "    Returns\n",
    "    ---------\n",
    "    y_pred : numpy array, (m', 1)\n",
    "        the predicted output of the given feature\n",
    "    \"\"\"\n",
    "    if X.ndim == 1:\n",
    "        X = X.reshape(1, -1)\n",
    "    y_pred = []\n",
    "    for i in range(X.shape[0]):\n",
    "        sqdist = ((X_train - X[i, :])**2).sum(axis=1)\n",
    "        M = np.diag(np.exp(-sqdist/2./tau**2))\n",
    "        w = np.linalg.inv(X_train.T@M@X_train) @ X_train.T @ M @ y_train\n",
    "        y_pred.append(X[i, :]@w)\n",
    "    return np.array(y_pred).reshape(-1, 1)"
   ]
  },
  {
   "cell_type": "code",
   "execution_count": 21,
   "metadata": {},
   "outputs": [],
   "source": [
    "# more complex data generator\n",
    "def mock_generator2(X_raw):\n",
    "    nsamp = X_raw.shape[0]\n",
    "    return 1.+X_raw+X_raw**2 + X_raw**3 + 0.25*np.sin(4*2.*np.pi*X_raw) + 0.2*np.random.randn(nsamp)\n",
    "\n",
    "# training data\n",
    "X1_raw = np.random.rand(100)\n",
    "y1_raw = mock_generator2(X1_raw)\n",
    "X1 = np.c_[np.ones_like(X1_raw), X1_raw]\n",
    "y1 = y1_raw.reshape(-1, 1)\n",
    "\n",
    "# test data\n",
    "X1_test_raw = np.random.rand(50)\n",
    "y1_test_raw = mock_generator2(X1_test_raw)\n",
    "X1_test = np.c_[np.ones_like(X1_test_raw), X1_test_raw]\n",
    "y1_test = y1_test_raw.reshape(-1, 1)"
   ]
  },
  {
   "cell_type": "code",
   "execution_count": 22,
   "metadata": {},
   "outputs": [],
   "source": [
    "# 3rd order LBF\n",
    "X1_lb = np.c_[X1, X1[:, 1]**2, X1[:, 1]**3] # xm = (1, xm, xm^2, xm^3)\n",
    "w1_lb = np.linalg.inv(X1_lb.T @ X1_lb) @ X1_lb.T @ y1\n",
    "y1_lb_pred = np.c_[np.ones_like(x_lb), x_lb, x_lb**2, x_lb**3] @ w1_lb\n",
    "\n",
    "# LWR\n",
    "y1_lwr_pred = lwr_model(np.c_[np.ones_like(x_lb), x_lb], X1, y1, tau=0.02)"
   ]
  },
  {
   "cell_type": "code",
   "execution_count": 23,
   "metadata": {},
   "outputs": [
    {
     "data": {
      "text/plain": [
       "<matplotlib.legend.Legend at 0x7fe7a889d5c0>"
      ]
     },
     "execution_count": 23,
     "metadata": {},
     "output_type": "execute_result"
    },
    {
     "data": {
      "image/png": "[encoded data removed]",
      "text/plain": [
       "<Figure size 432x288 with 1 Axes>"
      ]
     },
     "metadata": {},
     "output_type": "display_data"
    }
   ],
   "source": [
    "fg1, ax1 = plt.subplots()\n",
    "ax1.plot(X1[:, 1], y1, marker='o', ms=3, ls='None')\n",
    "ax1.plot(x_lb, y1_lwr_pred, ls='-', label='LWR')\n",
    "ax1.plot(x_lb, y1_lb_pred, ls='--', label='3rd order')\n",
    "ax1.legend()"
   ]
  },
  {
   "cell_type": "code",
   "execution_count": 24,
   "metadata": {},
   "outputs": [
    {
     "name": "stdout",
     "output_type": "stream",
     "text": [
      "----- 3rd-order LBF -----\n",
      "Training set:\n",
      "MSE=0.0641\n",
      "RSE=0.2557\n",
      "R2=91.9074%\n",
      "Test set:\n",
      "MSE=0.0586\n",
      "RSE=0.2471\n",
      "R2=91.5447%\n",
      "----- LWR -----\n",
      "Training set:\n",
      "MSE=0.0249\n",
      "RSE=0.1593\n",
      "R2=96.8572%\n",
      "Test set:\n",
      "MSE=0.0426\n",
      "RSE=0.2108\n",
      "R2=93.8498%\n"
     ]
    }
   ],
   "source": [
    "# 拟合优度\n",
    "print('----- 3rd-order LBF -----')\n",
    "print('Training set:')\n",
    "y1_pred = X1_lb@w1_lb\n",
    "print('MSE={:.4f}'.format(mse(y1_pred, y1)))\n",
    "print('RSE={:.4f}'.format(rse(y1_pred, y1)))\n",
    "print(\"R2={:.4%}\".format(r2(y1_pred, y1)))\n",
    "\n",
    "print('Test set:')\n",
    "y1_test_pred = np.c_[X1_test, X1_test[:, 1]**2, X1_test[:, 1]**3] @w1_lb\n",
    "print('MSE={:.4f}'.format(mse(y1_test_pred, y1_test)))\n",
    "print('RSE={:.4f}'.format(rse(y1_test_pred, y1_test)))\n",
    "print(\"R2={:.4%}\".format(r2(y1_test_pred, y1_test)))\n",
    "\n",
    "print('----- LWR -----')\n",
    "print('Training set:')\n",
    "y1_pred2 = lwr_model(X1, X1, y1, tau=0.02)\n",
    "print('MSE={:.4f}'.format(mse(y1_pred2, y1)))\n",
    "print('RSE={:.4f}'.format(rse(y1_pred2, y1)))\n",
    "print(\"R2={:.4%}\".format(r2(y1_pred2, y1)))\n",
    "\n",
    "print('Test set:')\n",
    "y1_test_pred2 = lwr_model(X1_test, X1, y1, tau=0.02)\n",
    "print('MSE={:.4f}'.format(mse(y1_test_pred2, y1_test)))\n",
    "print('RSE={:.4f}'.format(rse(y1_test_pred2, y1_test)))\n",
    "print(\"R2={:.4%}\".format(r2(y1_test_pred2, y1_test)))"
   ]
  },
  {
   "cell_type": "markdown",
   "metadata": {},
   "source": [
    "### 核技巧\n",
    "当特征空间维度很高时，计算基函数间的内积将很耗计算时间。但从线性基函数的例子中我们可见，核函数可以通过基函数内积获得：$\\kappa({\\bf x}_1, {\\bf x}_2) = \\phi({\\bf x}_1)^T \\phi({\\bf x}_2)$。更一般的来看，根据下面两定理，我们可以直接使用核函数来完全回避掉基函数的内积，从而隐式地在高维特征空间中学习线性模型，这个方法称为**核技巧**：\n",
    "\n",
    "**核函数**：（定理6.1）令$\\mathcal{X}$为输入空间，$\\kappa(\\cdot, \\cdot)$是定义在$\\mathcal{X} \\times \\mathcal{X}$上的对称函数，则$\\kappa$是核函数当且仅当对于**任意**数据$D=\\{{\\bf x}_1, {\\bf x}_2, \\cdots, {\\bf x}_m\\}$，核矩阵$K = (\\kappa({\\bf x}_i, {\\bf x}_j))$总是*半正定*的。  \n",
    "也就是说，对称函数的半正定矩阵总能作为核函数使用，并且隐式地定义了一个名为**再生核希尔伯特空间**的特征空间（这个特征空间中的向量可以构造为$\\phi_x(\\cdot) = K(\\cdot, x)$，线性组合定义为$f(\\cdot) = \\sum_i a_i \\phi_{x_i}(\\cdot)$，内积定义为$\\phi_{x_i}(\\cdot) \\cdot \\phi_{x_j}(\\cdot) = K(x_i, x_j)$，范数定义为$\\| f \\| = \\sqrt{f \\cdot f}$，完备化后就可形成一个完备的赋范向量空间，而完备的赋范向量空间是希尔伯特空间。再生核指的是核$K$具有再生性：$K(\\cdot, x) \\cdot f(\\cdot) = \\sum_i \\alpha_i K(x, x_i) = f(x)$，更特别的有$K(\\cdot, x) \\cdot K(\\cdot, z) = K(x, z)$，见统计学习方法7.3.2节）。\n",
    "\n",
    "**表示理论**：令${\\Bbb H}$为核函数$\\kappa$对应的再生核希尔伯特空间，$\\|h\\|_{\\Bbb H}$表示${\\Bbb H}$空间中关于$h$的范数，对于任意单调递增函数$\\Omega: [0,\\infty] \\mapsto {\\Bbb R}$和任意非负损失函数$\\ell: {\\Bbb R}^m \\mapsto [0, \\infty]$，优化问题 \n",
    "$\\min_{h \\in {\\Bbb H}} F(h) = \\Omega(\\|h\\|_{\\Bbb H})  +  \\ell(h({\\bf x}_1), h({\\bf x}_2), \\cdots, h({\\bf x}_m))$\n",
    "的解总可以写为\n",
    "$h^\\star({\\bf x}) = \\sum_{i=1}^m \\alpha_i \\kappa({\\bf x}, {\\bf x}_i)$。  \n",
    "也就是说，对于一般的损失函数和正则项，上述优化问题的最优接总可写成核函数的线性组合的形式。\n",
    "\n",
    "核函数包括：\n",
    "- 常用核函数：\n",
    "\n",
    "\n",
    " 名称             |                             $\\kappa({\\bf x}_i,{\\bf  x}_j)$表达式                       | 参数 \n",
    "--------------|-------------------------------------------------------------------------|-------\n",
    "线性核           | $ {\\bf x}_i^T {\\bf x}_j$                                                                      |\n",
    "多项式核       |  $ (\\gamma {\\bf x}_i^T {\\bf x}_j + r)^d$                                          | $d \\geq 1$\n",
    "高斯核/RBF核| $\\exp \\left (-\\frac{\\| {\\bf x}_i - {\\bf x}_j \\|^2}{2\\sigma^2} \\right )$  | $\\sigma > 0$\n",
    "拉普拉斯核    | $\\exp \\left (-\\frac{\\| {\\bf x}_i - {\\bf x}_j \\|}{\\sigma} \\right )$             | $\\sigma > 0$\n",
    "Sigmoid核    | $\\tanh (\\beta {\\bf x}_i^T {\\bf x}_j + \\theta)$                                    | $\\beta>0,\\theta<0$\n",
    "\n",
    "\n",
    "- 常用核函数的组合：\n",
    "    + 线性组合：$\\gamma_1 \\kappa_1 + \\gamma_2 \\kappa_2$，($\\gamma_1, \\gamma_2 > 0$)\n",
    "    + 直积：$ \\kappa_1({\\bf x, z}) \\otimes  \\kappa_2({\\bf x, z})$\n",
    "    + 线性变换：$g(\\bf x) \\kappa({\\bf x, z}) g({\\bf z})$，($g({\\bf x})$为任意函数)\n",
    "    "
   ]
  },
  {
   "cell_type": "code",
   "execution_count": 25,
   "metadata": {},
   "outputs": [],
   "source": [
    "# TODO: example"
   ]
  },
  {
   "cell_type": "markdown",
   "metadata": {},
   "source": [
    "## 广义线性模型(Generalized Linear Models, GLMs)\n",
    "参数$\\eta$的**指数分布簇**(Exponential family)：$ p(y; \\eta) = b(y) \\exp(\\eta^T T(y) - a(\\eta)) $，其中$\\eta$是分布的参数；$T(y)$是**充分统计量**(sufficient statistic)；$a(\\eta)$是**对数配分函数**(log partition function)，用于归一化。给定一组$T, a, b$，就定义了一个参数为$\\eta$的指数分布簇。  \n",
    "伯努利分布，高斯分布，多项分布，泊松分布等分布都是指数分布族。\n",
    "\n",
    "广义线性模型满足：\n",
    "1. $y \\mid x; \\theta$服从参数$\\eta$的指数分布簇。\n",
    "3. 参数$\\eta$与输入值$x$线性相关：$\\eta=\\theta^T x$。\n",
    "2. 预测的目标：给定$\\eta$后的充分统计量$T(y)$的期望$g(y) = E[T(y); \\eta]$，其中$g(\\cdot)$称为**联系函数**（link function）。通常$T(y)=y$ 。"
   ]
  },
  {
   "cell_type": "markdown",
   "metadata": {},
   "source": [
    "### 对数几率（Logistic）回归  \n",
    "**几率**指事件发生的概率与不发生的概率的比值。设事件$y=1$发生的概率为$p = p(y=1 \\mid {\\bf x})$, 因此对数几率（logit）写作为$\\ln (p/(1-p))$。对于对数几率回归，输出$y=1$的对数几率是输入的线性函数（因此对数几率回归是一个广义线性模型），或$p=1/[1+\\exp(-{\\bf \\hat w}^T {\\bf x})]$。  \n",
    "损失函数正比于伯努利分布样本的对数似然函数：\n",
    "$J({\\bf \\hat w}) = -1/m \\sum_{i=1}^{m} [ y_i \\ln p_i + (1-y_i) \\ln (1-p_i) ]$。  \n",
    "因此，对数几率回归的梯度下降可写为：$\\boxed{w_{i+1} = w_{i} - \\eta \\nabla_{\\bf w}J = w_i + \\eta {\\bf X}^T ({\\bf y} - {\\bf p}) / m}$，其中$\\nabla_{\\bf w} p = {\\bf x}^T \\cdot (p(1-p))$。\n",
    "\n",
    "当对一个新样本做推断时：我们可以代入${\\bf \\hat w}$计算$p = p(y=1 \\mid {\\bf x})$，通过给$p$设一个临界值（如0.5）来判断这个样本的所属。\n",
    "\n",
    "**对数几率回归的特点**  \n",
    "优点: 计算代价不高，易于理解和实现。  \n",
    "缺点: 容易欠拟合，分类精度可能不高。  \n",
    "适用数据类型: 数值型和标称型数据。"
   ]
  },
  {
   "cell_type": "code",
   "execution_count": 26,
   "metadata": {},
   "outputs": [
    {
     "data": {
      "text/plain": [
       "[<matplotlib.lines.Line2D at 0x7fe7a3f7b3c8>]"
      ]
     },
     "execution_count": 26,
     "metadata": {},
     "output_type": "execute_result"
    },
    {
     "data": {
      "image/png": "[encoded data removed]",
      "text/plain": [
       "<Figure size 432x288 with 1 Axes>"
      ]
     },
     "metadata": {},
     "output_type": "display_data"
    }
   ],
   "source": [
    "# Logistc function\n",
    "x_ = np.linspace(-10., 10., 50)\n",
    "fg3, ax3 = plt.subplots()\n",
    "ax3.plot(x_, 1./(1.+np.exp(-x_)))\n",
    "ax3.plot([0., 0.], [0., 1.], ls='--', c='0.7')\n",
    "ax3.plot([-10., 10.], [0.5, 0.5], ls='--', c='0.7')"
   ]
  },
  {
   "cell_type": "markdown",
   "metadata": {},
   "source": [
    "**下面是个例子**"
   ]
  },
  {
   "cell_type": "code",
   "execution_count": 27,
   "metadata": {},
   "outputs": [],
   "source": [
    "# 西瓜书 数据3.0alpha\n",
    "#!cat datasets/wm3alpha.dat"
   ]
  },
  {
   "cell_type": "code",
   "execution_count": 28,
   "metadata": {},
   "outputs": [
    {
     "name": "stdout",
     "output_type": "stream",
     "text": [
      "(17, 2) (17, 1)\n"
     ]
    }
   ],
   "source": [
    "raw_data2 = np.loadtxt('datasets/wm3alpha.dat')\n",
    "X2 = raw_data2[:, 1:-1]\n",
    "y2 = raw_data2[:, -1:]\n",
    "print(X2.shape, y2.shape)"
   ]
  },
  {
   "cell_type": "code",
   "execution_count": 29,
   "metadata": {},
   "outputs": [
    {
     "data": {
      "text/plain": [
       "<matplotlib.collections.PathCollection at 0x7fe7a3e73ac8>"
      ]
     },
     "execution_count": 29,
     "metadata": {},
     "output_type": "execute_result"
    },
    {
     "data": {
      "image/png": "[encoded data removed]",
      "text/plain": [
       "<Figure size 432x288 with 1 Axes>"
      ]
     },
     "metadata": {},
     "output_type": "display_data"
    }
   ],
   "source": [
    "fg, ax = plt.subplots()\n",
    "ax.scatter(X2[:8, 0], X2[:8, 1], marker='o', s=30)\n",
    "ax.scatter(X2[8:, 0], X2[8:, 1], marker='x', s=30)"
   ]
  },
  {
   "cell_type": "code",
   "execution_count": 30,
   "metadata": {},
   "outputs": [],
   "source": [
    "def logistic_model(X, w):\n",
    "    \"\"\"\n",
    "    The model of Logistic regression\n",
    "    \n",
    "    Parameters\n",
    "    ------------\n",
    "    X : (m, n+1) array\n",
    "        m training samples with n features\n",
    "        x=(1, x_1, x_2, ..., x_n)\n",
    "    w : (n+1, 1) array\n",
    "        weights (b, w_1, w_2, ..., w_n)\n",
    "        \n",
    "    Returns\n",
    "    ---------\n",
    "    y_pred : (m, 1) array\n",
    "        predicted labels\n",
    "    \"\"\"\n",
    "    return 1./(1.+np.exp(-X@w))\n",
    "\n",
    "def logistic_loss(X, y, w):\n",
    "    \"\"\"\n",
    "    Parameters\n",
    "    ------------\n",
    "    X : (m, n+1) array\n",
    "        m training samples with n features\n",
    "        x=(1, x_1, x_2, ..., x_n)\n",
    "    y : (m, 1) array, yi=0 or 1\n",
    "        the labels of m training samples\n",
    "    w : (n+1, 1) array\n",
    "        weights (b, w_1, w_2, ..., w_n)\n",
    "    \n",
    "    Returns\n",
    "    ---------\n",
    "    loss : scalar\n",
    "        the log likelihood per sample\n",
    "    \"\"\"\n",
    "    p = logistic_model(X, w)\n",
    "    loss = -(y*np.log(p) + (1-y)*np.log(1.-p)).mean()\n",
    "    return loss"
   ]
  },
  {
   "cell_type": "code",
   "execution_count": 31,
   "metadata": {},
   "outputs": [
    {
     "name": "stdout",
     "output_type": "stream",
     "text": [
      "0 [-0.08823529  0.01102941  0.07429412] 0.6892355723476886\n",
      "100 [-2.2507477   1.8010459   5.59195891] 0.5515435135858472\n",
      "200 [-3.07050222  2.29625924  8.20631096] 0.5248925458707252\n",
      "300 [-3.51691445  2.55140098  9.68644794] 0.5165514277515946\n",
      "400 [-3.79807834  2.72130813 10.60092368] 0.5133592718269573\n",
      "500 [-3.98620273  2.84262835 11.19525318] 0.5119991073601865\n",
      "600 [-4.11571154  2.93047777 11.59410068] 0.5113809717178437\n",
      "700 [-4.2062315   2.99411077 11.86749731] 0.5110883196402102\n",
      "800 [-4.27007027  3.04010073 12.05761094] 0.5109459819197901\n",
      "900 [-4.31535086  3.07327105 12.1911221 ] 0.510875482670161\n",
      "999 [-4.34732078  3.09695873 12.28473474] 0.5108403730213498\n"
     ]
    }
   ],
   "source": [
    "# learning the logistic model\n",
    "nepoch = 1000\n",
    "learning_rate = 3.\n",
    "\n",
    "m, n = X2.shape\n",
    "w = np.zeros((n+1, 1))\n",
    "X2_ = np.c_[np.ones(m), X2]\n",
    "\n",
    "# gradient descent\n",
    "losses = []\n",
    "for i in range(nepoch):\n",
    "    w += X2_.T @ (y2 - logistic_model(X2_, w)) / m * learning_rate\n",
    "    losses.append(logistic_loss(X2_, y2, w))\n",
    "    if i%100 == 0 or i+1 == nepoch:\n",
    "        print(i, w.ravel(), losses[-1])"
   ]
  },
  {
   "cell_type": "code",
   "execution_count": 32,
   "metadata": {},
   "outputs": [
    {
     "data": {
      "text/plain": [
       "[<matplotlib.lines.Line2D at 0x7fe7a3d6a908>]"
      ]
     },
     "execution_count": 32,
     "metadata": {},
     "output_type": "execute_result"
    },
    {
     "data": {
      "image/png": "[encoded data removed]",
      "text/plain": [
       "<Figure size 432x288 with 1 Axes>"
      ]
     },
     "metadata": {},
     "output_type": "display_data"
    }
   ],
   "source": [
    "# learning curve\n",
    "fg1, ax1 = plt.subplots()\n",
    "ax1.plot(losses)"
   ]
  },
  {
   "cell_type": "code",
   "execution_count": 33,
   "metadata": {},
   "outputs": [
    {
     "data": {
      "image/png": "[encoded data removed]",
      "text/plain": [
       "<Figure size 432x288 with 1 Axes>"
      ]
     },
     "execution_count": 33,
     "metadata": {},
     "output_type": "execute_result"
    }
   ],
   "source": [
    "# decision boundary\n",
    "_x = np.linspace(0., 1., 2)\n",
    "ax.plot(_x, -(w[0]+w[1]*_x)/w[2], ls='--', c='C2')\n",
    "fg"
   ]
  },
  {
   "cell_type": "code",
   "execution_count": 34,
   "metadata": {},
   "outputs": [],
   "source": [
    "def accuracy(y_pred, y_truth):\n",
    "    return (y_pred == y_truth).sum()/y_truth.shape[0] # right/all\n",
    "\n",
    "def precision(y_pred, y_truth):\n",
    "    return ((y_pred==1) & (y_truth == 1)).sum()/(y_pred == 1).sum() # tp / pred pos\n",
    "\n",
    "def recall(y_pred, y_truth):\n",
    "    return ((y_pred==1) & (y_truth == 1)).sum()/(y_truth == 1).sum() # tp / pos\n",
    "\n",
    "def fbeta_score(y_pred, y_truth, beta=1.):\n",
    "    prec = precision(y_pred, y_truth)\n",
    "    reca = recall(y_pred, y_truth)\n",
    "    return (1+beta**2)/(1/prec + beta**2/reca)"
   ]
  },
  {
   "cell_type": "code",
   "execution_count": 35,
   "metadata": {},
   "outputs": [
    {
     "name": "stdout",
     "output_type": "stream",
     "text": [
      "accuracy = 70.59%\n",
      "precision=71.43%\n",
      "recall=62.50%\n",
      "f1=66.67%\n",
      "f2=64.10%\n"
     ]
    }
   ],
   "source": [
    "# metrics\n",
    "y2_pred = logistic_model(X2_, w) > 0.5\n",
    "print(\"accuracy = {:.2%}\".format(accuracy(y2_pred, y2)))\n",
    "print('precision={:.2%}'.format(precision(y2_pred, y2)))\n",
    "print('recall={:.2%}'.format(recall(y2_pred, y2)))\n",
    "print('f1={:.2%}'.format(fbeta_score(y2_pred, y2)))\n",
    "print('f2={:.2%}'.format(fbeta_score(y2_pred, y2, beta=2.)))"
   ]
  },
  {
   "cell_type": "markdown",
   "metadata": {},
   "source": [
    "#### sklearn"
   ]
  },
  {
   "cell_type": "code",
   "execution_count": 36,
   "metadata": {},
   "outputs": [
    {
     "data": {
      "text/plain": [
       "LogisticRegression(C=10000.0, class_weight=None, dual=False,\n",
       "          fit_intercept=True, intercept_scaling=1, max_iter=100,\n",
       "          multi_class='ovr', n_jobs=1, penalty='l2', random_state=None,\n",
       "          solver='liblinear', tol=0.0001, verbose=0, warm_start=False)"
      ]
     },
     "execution_count": 36,
     "metadata": {},
     "output_type": "execute_result"
    }
   ],
   "source": [
    "# learning the logistic model with sklearn\n",
    "log = linear_model.LogisticRegression(C=10000.)\n",
    "log.fit(X2, y2.ravel())"
   ]
  },
  {
   "cell_type": "code",
   "execution_count": 37,
   "metadata": {},
   "outputs": [
    {
     "name": "stdout",
     "output_type": "stream",
     "text": [
      "[[ 3.14089155 12.45455489]] [-4.40581073]\n"
     ]
    }
   ],
   "source": [
    "print(log.coef_, log.intercept_) # (w1, w2, b)"
   ]
  },
  {
   "cell_type": "code",
   "execution_count": 38,
   "metadata": {},
   "outputs": [
    {
     "name": "stdout",
     "output_type": "stream",
     "text": [
      "accuracy=70.59%\n",
      "precision=71.43%\n",
      "recall=62.50%\n",
      "f1=66.67%\n",
      "f2=64.10%\n"
     ]
    }
   ],
   "source": [
    "y2_pred_ = log.predict(X2)\n",
    "print('accuracy={:.2%}'.format(metrics.accuracy_score(y2, y2_pred_)))\n",
    "print('precision={:.2%}'.format(metrics.precision_score(y2, y2_pred_)))\n",
    "print('recall={:.2%}'.format(metrics.recall_score(y2, y2_pred_)))\n",
    "print('f1={:.2%}'.format(metrics.f1_score(y2, y2_pred_)))\n",
    "print('f2={:.2%}'.format(metrics.fbeta_score(y2, y2_pred_, beta=2)))"
   ]
  },
  {
   "cell_type": "markdown",
   "metadata": {},
   "source": [
    "### 多项对数几率回归/Softmax回归\n",
    "将对数几率回归这个二分类模型推广到多分类模型：  \n",
    "$p(y=k \\mid {\\bf x}) = \\frac{\\exp({\\bf \\hat w}_k^T {\\bf x})}{1 + \\sum_{i=1}^{K-1} \\exp({\\bf \\hat w}_i^T {\\bf x}) }$ (for $k=1, 2, \\cdots, K-1$) and   \n",
    "$p(y=K \\mid {\\bf x}) = \\frac{1}{1 + \\sum_{i=1}^{K-1} \\exp({\\bf \\hat w}_i^T {\\bf x}) }$。  \n",
    "损失函数：$J({\\bf \\hat w}) = -1/m \\sum_{i=1}^{m} \\sum_j 1\\{ y_i = j\\} \\ln p (y=j \\mid {\\bf x}_i; {\\bf \\hat w})$。  \n",
    "梯度下降：$\\boxed{w_{k, i+1} = w_{k, i} - \\eta \\nabla_{\\bf w_k}J = w_{k, i} + \\eta {\\bf X}^T ({\\bf 1}\\{ y=k \\} - {\\bf p}(y=k)) / m}$ (for $k=1, 2, \\cdots, K-1$)。"
   ]
  },
  {
   "cell_type": "code",
   "execution_count": 39,
   "metadata": {},
   "outputs": [],
   "source": [
    "# TODO: example"
   ]
  },
  {
   "cell_type": "markdown",
   "metadata": {},
   "source": [
    "## 线性判别式分析 （Linear Discriminant Analysis, LDA）\n",
    "给定训练样例集，设法将样例投影到一条直线上，使得同类样例尽可能靠近、异类样例尽量远离。对新样本分类时，将其投影到同样的直线上，在根据投影点位置确定新样本类型。\n",
    "\n",
    "把一个点$({\\bf x}, y)$投影到方向向量为${\\bf w}$的直线上：${\\bf w}^T {\\bf x}$，优化目标（使$J$最大）：\n",
    "$$ J = \\frac{\\| {\\bf w}^T {\\bf \\mu}_0 - {\\bf w}^T {\\bf \\mu}_1 \\| ^2}{{\\bf w}^T ({\\bf \\Sigma_0 + \\Sigma_1}) {\\bf w}} = \\frac{{\\bf w}^T {\\bf S}_b {\\bf w}}{{\\bf w}^T {\\bf S}_w {\\bf w}}  $$\n",
    "\n",
    "其中\n",
    "${\\bf S}_w = \\sum_{{\\bf x} \\in X_0} ({\\bf x-{\\mu}}_0)({\\bf x-{\\mu}}_0)^T + \\sum_{{\\bf x} \\in X_1} ({\\bf x-{\\mu}}_1)({\\bf x-{\\mu}}_1)^T$，\n",
    "${\\bf S}_b = ({\\bf \\mu_0 - \\mu_1})({\\bf \\mu_0 - \\mu_1})^T $，  \n",
    "可得，$\\boxed {{\\bf w}=S_w^{-1} ({\\bf \\mu_0 - \\mu_1})}$ (考虑到$S_b {\\bf w}$方向和${\\bf \\mu_0 - \\mu_1}$一致)"
   ]
  },
  {
   "cell_type": "code",
   "execution_count": 40,
   "metadata": {},
   "outputs": [],
   "source": [
    "#!head datasets/MLiA/Ch05/testSet.txt # MLiA, Chapter05"
   ]
  },
  {
   "cell_type": "code",
   "execution_count": 41,
   "metadata": {},
   "outputs": [],
   "source": [
    "raw_data = np.loadtxt('datasets/MLiA/Ch05/testSet.txt')"
   ]
  },
  {
   "cell_type": "code",
   "execution_count": 42,
   "metadata": {},
   "outputs": [
    {
     "name": "stdout",
     "output_type": "stream",
     "text": [
      "[[135.35903647 131.52568101]\n",
      " [131.52568101 660.67023227]]\n"
     ]
    }
   ],
   "source": [
    "X2_0 = raw_data[raw_data[:, 2]==0, :2]\n",
    "X2_1 = raw_data[raw_data[:, 2]==1, :2]\n",
    "\n",
    "# watermelon 3.0 alpha\n",
    "#X2_0 = X2[8:, :2]\n",
    "#X2_1 = X2[:8, :2]\n",
    "\n",
    "mu0 = X2_0.mean(axis=0)\n",
    "mu1 = X2_1.mean(axis=0)\n",
    "\n",
    "Sw = (X2_0-mu0).T@(X2_0-mu0) + (X2_1-mu1).T@(X2_1-mu1) # X=(nsamples, nfeatures)\n",
    "print(Sw)"
   ]
  },
  {
   "cell_type": "code",
   "execution_count": 43,
   "metadata": {},
   "outputs": [
    {
     "name": "stdout",
     "output_type": "stream",
     "text": [
      "Sw^-1 = \n",
      " [[ 0.00915961 -0.00182349]\n",
      " [-0.00182349  0.00187663]]\n"
     ]
    }
   ],
   "source": [
    "# singular value decomposition\n",
    "u, s, v = np.linalg.svd(Sw) # Sw = u@diag(s)@v\n",
    "Sw_inv = v.T@np.diag(1./s)@u.T\n",
    "print('Sw^-1 = \\n', Sw_inv)\n",
    "#print(np.linalg.inv(Sw))"
   ]
  },
  {
   "cell_type": "code",
   "execution_count": 44,
   "metadata": {},
   "outputs": [
    {
     "name": "stdout",
     "output_type": "stream",
     "text": [
      "w^star =  [-0.01313392  0.01426317]\n"
     ]
    }
   ],
   "source": [
    "w_star = Sw_inv@(mu0-mu1)\n",
    "print('w^star = ', w_star)"
   ]
  },
  {
   "cell_type": "code",
   "execution_count": 45,
   "metadata": {},
   "outputs": [
    {
     "data": {
      "text/plain": [
       "[<matplotlib.lines.Line2D at 0x7fe7a3c62d30>]"
      ]
     },
     "execution_count": 45,
     "metadata": {},
     "output_type": "execute_result"
    },
    {
     "data": {
      "image/png": "[encoded data removed]",
      "text/plain": [
       "<Figure size 432x432 with 1 Axes>"
      ]
     },
     "metadata": {},
     "output_type": "display_data"
    }
   ],
   "source": [
    "fg2, ax2 = plt.subplots(figsize=(6, 6))\n",
    "ax2.plot(X2_1[:, 0], X2_1[:, 1], marker='o', ms=5, c='C0', ls='None')\n",
    "ax2.plot(X2_0[:, 0], X2_0[:, 1], marker='s', ms=5, c='C1', ls='None')\n",
    "\n",
    "# the line to project, let (x-0)/w0 = (y-0)/w1\n",
    "ax2.set_xlim([-9, 9])\n",
    "ax2.set_ylim([-3, 15])\n",
    "xrange = np.array(ax2.get_xlim())\n",
    "yrange = w_star[1]/w_star[0]*xrange\n",
    "ax2.plot(xrange, yrange, ls='-.', c='C2')\n",
    "\n",
    "# points projected to the line\n",
    "w_star_norm = w_star/np.sqrt((w_star**2).sum())\n",
    "X2_0_proj = (X2_0@w_star_norm).reshape(-1, 1) * w_star_norm\n",
    "X2_1_proj = (X2_1@w_star_norm).reshape(-1, 1) * w_star_norm\n",
    "ax2.plot(X2_1_proj[:, 0], X2_1_proj[:, 1], marker='o', ms=5, c='C0', mfc='w', ls='None')\n",
    "ax2.plot(X2_0_proj[:, 0], X2_0_proj[:, 1], marker='s', ms=5, c='C1', mfc='w', ls='None')"
   ]
  },
  {
   "cell_type": "code",
   "execution_count": null,
   "metadata": {},
   "outputs": [],
   "source": []
  }
 ],
 "metadata": {
  "kernelspec": {
   "display_name": "Python [conda env:tensorflow]",
   "language": "python",
   "name": "conda-env-tensorflow-py"
  },
  "language_info": {
   "codemirror_mode": {
    "name": "ipython",
    "version": 3
   },
   "file_extension": ".py",
   "mimetype": "text/x-python",
   "name": "python",
   "nbconvert_exporter": "python",
   "pygments_lexer": "ipython3",
   "version": "3.6.5"
  }
 },
 "nbformat": 4,
 "nbformat_minor": 2
}
